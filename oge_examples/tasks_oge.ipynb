{
 "cells": [
  {
   "cell_type": "code",
   "execution_count": 7,
   "metadata": {},
   "outputs": [
    {
     "name": "stdout",
     "output_type": "stream",
     "text": [
      "Sum = 28\n"
     ]
    }
   ],
   "source": [
    "n: int = int(input('Count of numbers = '))\n",
    "sum: int = 0\n",
    "\n",
    "for _ in range(n):\n",
    "    a: int = int(input('Numbers = '))\n",
    "    if a % 2 == 0 and a < 30:\n",
    "        sum = sum + a\n",
    "\n",
    "print(f'Sum = {sum}')"
   ]
  },
  {
   "cell_type": "code",
   "execution_count": null,
   "metadata": {},
   "outputs": [],
   "source": [
    "n: int = int(input('Count of numbers = '))\n",
    "sum = 0\n",
    "\n",
    "for _ in range(n):\n",
    "    a: int = int(input('Numbers = '))\n",
    "    if a % 10 != 3 and a < 25:\n",
    "        sum = sum + a\n",
    "\n",
    "print(sum)"
   ]
  },
  {
   "cell_type": "code",
   "execution_count": 15,
   "metadata": {},
   "outputs": [
    {
     "name": "stdout",
     "output_type": "stream",
     "text": [
      "Sum = 40\n"
     ]
    }
   ],
   "source": [
    "n: int = int(input('Count of numbers = '))\n",
    "sum: int = 0\n",
    "\n",
    "for _ in range(n):\n",
    "    a: int = int(input('Numbers = '))\n",
    "    if a // 10 >= 1 and a < 29:\n",
    "        sum = sum + a\n",
    "\n",
    "print(f'Sum = {sum}')"
   ]
  },
  {
   "cell_type": "code",
   "execution_count": 20,
   "metadata": {},
   "outputs": [
    {
     "name": "stdout",
     "output_type": "stream",
     "text": [
      "14\n"
     ]
    }
   ],
   "source": [
    "n = int(input())\n",
    "sum = 0\n",
    "\n",
    "for _ in range(n):\n",
    "    a = int(input())\n",
    "    if a != 5 and  a != 15 and a < 16:\n",
    "        sum = sum + a\n",
    "\n",
    "print(sum)"
   ]
  },
  {
   "cell_type": "code",
   "execution_count": 7,
   "metadata": {},
   "outputs": [
    {
     "name": "stdout",
     "output_type": "stream",
     "text": [
      "3\n"
     ]
    }
   ],
   "source": [
    "n = int(input())\n",
    "sum = 0\n",
    "count = 0\n",
    "\n",
    "for _ in range(n):\n",
    "    a = int(input())\n",
    "      \n",
    "    if sum <= 700:\n",
    "        count += 1\n",
    "        \n",
    "    sum = sum + a\n",
    "\n",
    "print(count)"
   ]
  },
  {
   "cell_type": "code",
   "execution_count": 19,
   "metadata": {},
   "outputs": [
    {
     "name": "stdout",
     "output_type": "stream",
     "text": [
      "3\n"
     ]
    }
   ],
   "source": [
    "input_file = open('input_v5_15_2.txt', mode='r')\n",
    "\n",
    "sequence_length = int(input_file.readline())\n",
    "sum = 0\n",
    "count = 0\n",
    "\n",
    "for _ in range(sequence_length):\n",
    "    a = int(input_file.readline())\n",
    "    if sum <= 700:\n",
    "        count += 1\n",
    "    sum = sum + a\n",
    "\n",
    "print(count)\n",
    "\n",
    "input_file.close()\n",
    "\n",
    "output_file = open('output_v5_15_2.txt', mode='w')\n",
    "\n",
    "output_file.write(str(count))\n",
    "\n",
    "output_file.close()"
   ]
  },
  {
   "cell_type": "code",
   "execution_count": 24,
   "metadata": {},
   "outputs": [
    {
     "name": "stdout",
     "output_type": "stream",
     "text": [
      "Stack Overflow\n",
      "Teams\n",
      "Advertising\n",
      "Collectives\n",
      "Talent\n",
      "About\n",
      "Press\n",
      "Legal\n",
      "Privacy Policy\n",
      "Terms of Service\n",
      "Cookie Settings\n",
      "Cookie Policy"
     ]
    }
   ],
   "source": [
    "test_file = open('test.txt', mode='r')\n",
    "a = 1\n",
    "b= 1\n",
    "c = a + b\n",
    "\n",
    "while True:\n",
    "    line = test_file.readline()\n",
    "    print(line, end='')\n",
    "    if line == '':\n",
    "        break\n",
    "\n",
    "test_file.close()"
   ]
  },
  {
   "cell_type": "code",
   "execution_count": 27,
   "metadata": {},
   "outputs": [
    {
     "name": "stdout",
     "output_type": "stream",
     "text": [
      "Stack Overflow\n",
      "Teams\n",
      "Advertising\n",
      "Collectives\n",
      "Talent\n",
      "About\n",
      "Press\n",
      "Legal\n",
      "Privacy Policy\n",
      "Terms of Service\n",
      "Cookie Settings\n",
      "Cookie Policy"
     ]
    }
   ],
   "source": [
    "test_file = open('test.txt', mode='r')\n",
    "\n",
    "while True:\n",
    "    line = test_file.readline()\n",
    "    print(line, end='')\n",
    "    if line == '':\n",
    "        break\n",
    "\n",
    "test_file.close()"
   ]
  },
  {
   "cell_type": "code",
   "execution_count": 29,
   "metadata": {},
   "outputs": [
    {
     "name": "stdout",
     "output_type": "stream",
     "text": [
      "Stack Overflow\n",
      "Teams\n",
      "Advertising\n",
      "Collectives\n",
      "Talent\n",
      "About\n",
      "Press\n",
      "Legal\n",
      "Privacy Policy\n",
      "Terms of Service\n",
      "Cookie Settings\n",
      "Cookie Policy"
     ]
    }
   ],
   "source": [
    "with open('test.txt', mode='r') as test_file:\n",
    "    while True:\n",
    "        line = test_file.readline()\n",
    "        print(line, end='')\n",
    "        if line == '':\n",
    "            break"
   ]
  },
  {
   "cell_type": "code",
   "execution_count": 31,
   "metadata": {},
   "outputs": [
    {
     "name": "stdout",
     "output_type": "stream",
     "text": [
      "2\n"
     ]
    }
   ],
   "source": [
    "count = 0\n",
    "\n",
    "with open('input_v6.txt', mode='r') as input_file:\n",
    "    sequence_length = int(input_file.readline())\n",
    "    for _ in range(sequence_length):\n",
    "        number = int(input_file.readline())\n",
    "        if number % 221 < 7:\n",
    "            count += 1\n",
    "\n",
    "print(count)\n",
    "\n",
    "with open('output_v6.txt', mode='w') as output_file:\n",
    "    output_file.write(str(count))"
   ]
  }
 ],
 "metadata": {
  "kernelspec": {
   "display_name": "Python 3",
   "language": "python",
   "name": "python3"
  },
  "language_info": {
   "codemirror_mode": {
    "name": "ipython",
    "version": 3
   },
   "file_extension": ".py",
   "mimetype": "text/x-python",
   "name": "python",
   "nbconvert_exporter": "python",
   "pygments_lexer": "ipython3",
   "version": "3.11.0"
  },
  "orig_nbformat": 4,
  "vscode": {
   "interpreter": {
    "hash": "5238573367df39f7286bb46f9ff5f08f63a01a80960060ce41e3c79b190280fa"
   }
  }
 },
 "nbformat": 4,
 "nbformat_minor": 2
}
