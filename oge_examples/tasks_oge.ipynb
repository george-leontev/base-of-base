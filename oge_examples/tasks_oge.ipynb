{
 "cells": [
  {
   "cell_type": "code",
   "execution_count": 7,
   "metadata": {},
   "outputs": [
    {
     "name": "stdout",
     "output_type": "stream",
     "text": [
      "Sum = 28\n"
     ]
    }
   ],
   "source": [
    "n: int = int(input('Count of numbers = '))\n",
    "sum: int = 0\n",
    "\n",
    "for _ in range(n):\n",
    "    a: int = int(input('Numbers = '))\n",
    "    if a % 2 == 0 and a < 30:\n",
    "        sum = sum + a\n",
    "\n",
    "print(f'Sum = {sum}')"
   ]
  },
  {
   "cell_type": "code",
   "execution_count": null,
   "metadata": {},
   "outputs": [],
   "source": [
    "n: int = int(input('Count of numbers = '))\n",
    "sum = 0\n",
    "\n",
    "for _ in range(n):\n",
    "    a: int = int(input('Numbers = '))\n",
    "    if a % 10 != 3 and a < 25:\n",
    "        sum = sum + a\n",
    "\n",
    "print(sum)"
   ]
  },
  {
   "cell_type": "code",
   "execution_count": 15,
   "metadata": {},
   "outputs": [
    {
     "name": "stdout",
     "output_type": "stream",
     "text": [
      "Sum = 40\n"
     ]
    }
   ],
   "source": [
    "n: int = int(input('Count of numbers = '))\n",
    "sum: int = 0\n",
    "\n",
    "for _ in range(n):\n",
    "    a: int = int(input('Numbers = '))\n",
    "    if a // 10 >= 1 and a < 29:\n",
    "        sum = sum + a\n",
    "\n",
    "print(f'Sum = {sum}')"
   ]
  },
  {
   "cell_type": "code",
   "execution_count": 20,
   "metadata": {},
   "outputs": [
    {
     "name": "stdout",
     "output_type": "stream",
     "text": [
      "14\n"
     ]
    }
   ],
   "source": [
    "n = int(input())\n",
    "sum = 0\n",
    "\n",
    "for _ in range(n):\n",
    "    a = int(input())\n",
    "    if a != 5 and  a != 15 and a < 16:\n",
    "        sum = sum + a\n",
    "\n",
    "print(sum)"
   ]
  }
 ],
 "metadata": {
  "kernelspec": {
   "display_name": "Python 3",
   "language": "python",
   "name": "python3"
  },
  "language_info": {
   "codemirror_mode": {
    "name": "ipython",
    "version": 3
   },
   "file_extension": ".py",
   "mimetype": "text/x-python",
   "name": "python",
   "nbconvert_exporter": "python",
   "pygments_lexer": "ipython3",
   "version": "3.11.0"
  },
  "orig_nbformat": 4,
  "vscode": {
   "interpreter": {
    "hash": "5238573367df39f7286bb46f9ff5f08f63a01a80960060ce41e3c79b190280fa"
   }
  }
 },
 "nbformat": 4,
 "nbformat_minor": 2
}
