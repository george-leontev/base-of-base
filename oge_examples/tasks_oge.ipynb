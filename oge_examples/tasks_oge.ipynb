{
 "cells": [
  {
   "cell_type": "code",
   "execution_count": 7,
   "metadata": {},
   "outputs": [
    {
     "name": "stdout",
     "output_type": "stream",
     "text": [
      "Sum = 28\n"
     ]
    }
   ],
   "source": [
    "n: int = int(input('Count of numbers = '))\n",
    "sum: int = 0\n",
    "\n",
    "for _ in range(n):\n",
    "    a: int = int(input('Numbers = '))\n",
    "    if a % 2 == 0 and a < 30:\n",
    "        sum = sum + a\n",
    "\n",
    "print(f'Sum = {sum}')"
   ]
  },
  {
   "cell_type": "code",
   "execution_count": null,
   "metadata": {},
   "outputs": [],
   "source": [
    "n: int = int(input('Count of numbers = '))\n",
    "sum = 0\n",
    "\n",
    "for _ in range(n):\n",
    "    a: int = int(input('Numbers = '))\n",
    "    if a % 10 != 3 and a < 25:\n",
    "        sum = sum + a\n",
    "\n",
    "print(sum)"
   ]
  },
  {
   "cell_type": "code",
   "execution_count": 15,
   "metadata": {},
   "outputs": [
    {
     "name": "stdout",
     "output_type": "stream",
     "text": [
      "Sum = 40\n"
     ]
    }
   ],
   "source": [
    "n: int = int(input('Count of numbers = '))\n",
    "sum: int = 0\n",
    "\n",
    "for _ in range(n):\n",
    "    a: int = int(input('Numbers = '))\n",
    "    if a // 10 >= 1 and a < 29:\n",
    "        sum = sum + a\n",
    "\n",
    "print(f'Sum = {sum}')"
   ]
  },
  {
   "cell_type": "code",
   "execution_count": 20,
   "metadata": {},
   "outputs": [
    {
     "name": "stdout",
     "output_type": "stream",
     "text": [
      "14\n"
     ]
    }
   ],
   "source": [
    "n = int(input())\n",
    "sum = 0\n",
    "\n",
    "for _ in range(n):\n",
    "    a = int(input())\n",
    "    if a != 5 and  a != 15 and a < 16:\n",
    "        sum = sum + a\n",
    "\n",
    "print(sum)"
   ]
  },
  {
   "cell_type": "code",
   "execution_count": 7,
   "metadata": {},
   "outputs": [
    {
     "name": "stdout",
     "output_type": "stream",
     "text": [
      "3\n"
     ]
    }
   ],
   "source": [
    "n = int(input())\n",
    "sum = 0\n",
    "count = 0\n",
    "\n",
    "for _ in range(n):\n",
    "    a = int(input())\n",
    "      \n",
    "    if sum <= 700:\n",
    "        count += 1\n",
    "        \n",
    "    sum = sum + a\n",
    "\n",
    "print(count)"
   ]
  },
  {
   "cell_type": "code",
   "execution_count": 19,
   "metadata": {},
   "outputs": [
    {
     "name": "stdout",
     "output_type": "stream",
     "text": [
      "3\n"
     ]
    }
   ],
   "source": [
    "input_file = open('input_v5_15_2.txt', mode='r')\n",
    "\n",
    "sequence_length = int(input_file.readline())\n",
    "sum = 0\n",
    "count = 0\n",
    "\n",
    "for _ in range(sequence_length):\n",
    "    a = int(input_file.readline())\n",
    "    if sum <= 700:\n",
    "        count += 1\n",
    "    sum = sum + a\n",
    "\n",
    "print(count)\n",
    "\n",
    "input_file.close()\n",
    "\n",
    "output_file = open('output_v5_15_2.txt', mode='w')\n",
    "\n",
    "output_file.write(str(count))\n",
    "\n",
    "output_file.close()"
   ]
  },
  {
   "cell_type": "code",
   "execution_count": 24,
   "metadata": {},
   "outputs": [
    {
     "name": "stdout",
     "output_type": "stream",
     "text": [
      "Stack Overflow\n",
      "Teams\n",
      "Advertising\n",
      "Collectives\n",
      "Talent\n",
      "About\n",
      "Press\n",
      "Legal\n",
      "Privacy Policy\n",
      "Terms of Service\n",
      "Cookie Settings\n",
      "Cookie Policy"
     ]
    }
   ],
   "source": [
    "test_file = open('test.txt', mode='r')\n",
    "a = 1\n",
    "b= 1\n",
    "c = a + b\n",
    "\n",
    "while True:\n",
    "    line = test_file.readline()\n",
    "    print(line, end='')\n",
    "    if line == '':\n",
    "        break\n",
    "\n",
    "test_file.close()"
   ]
  },
  {
   "cell_type": "code",
   "execution_count": 27,
   "metadata": {},
   "outputs": [
    {
     "name": "stdout",
     "output_type": "stream",
     "text": [
      "Stack Overflow\n",
      "Teams\n",
      "Advertising\n",
      "Collectives\n",
      "Talent\n",
      "About\n",
      "Press\n",
      "Legal\n",
      "Privacy Policy\n",
      "Terms of Service\n",
      "Cookie Settings\n",
      "Cookie Policy"
     ]
    }
   ],
   "source": [
    "test_file = open('test.txt', mode='r')\n",
    "\n",
    "while True:\n",
    "    line = test_file.readline()\n",
    "    print(line, end='')\n",
    "    if line == '':\n",
    "        break\n",
    "\n",
    "test_file.close()"
   ]
  },
  {
   "cell_type": "code",
   "execution_count": 29,
   "metadata": {},
   "outputs": [
    {
     "name": "stdout",
     "output_type": "stream",
     "text": [
      "Stack Overflow\n",
      "Teams\n",
      "Advertising\n",
      "Collectives\n",
      "Talent\n",
      "About\n",
      "Press\n",
      "Legal\n",
      "Privacy Policy\n",
      "Terms of Service\n",
      "Cookie Settings\n",
      "Cookie Policy"
     ]
    }
   ],
   "source": [
    "with open('test.txt', mode='r') as test_file:\n",
    "    while True:\n",
    "        line = test_file.readline()\n",
    "        print(line, end='')\n",
    "        if line == '':\n",
    "            break"
   ]
  },
  {
   "cell_type": "code",
   "execution_count": 31,
   "metadata": {},
   "outputs": [
    {
     "name": "stdout",
     "output_type": "stream",
     "text": [
      "2\n"
     ]
    }
   ],
   "source": [
    "count = 0\n",
    "\n",
    "with open('input_v6.txt', mode='r') as input_file:\n",
    "    sequence_length = int(input_file.readline())\n",
    "    for _ in range(sequence_length):\n",
    "        number = int(input_file.readline())\n",
    "        if number % 221 < 7:\n",
    "            count += 1\n",
    "\n",
    "print(count)\n",
    "\n",
    "with open('output_v6.txt', mode='w') as output_file:\n",
    "    output_file.write(str(count))"
   ]
  },
  {
   "cell_type": "code",
   "execution_count": 3,
   "metadata": {},
   "outputs": [
    {
     "name": "stdout",
     "output_type": "stream",
     "text": [
      "4\n"
     ]
    }
   ],
   "source": [
    "with open('input_v8.txt', mode='r') as input_file:\n",
    "    count = int(input_file.readline())\n",
    "    min = 0\n",
    "    for _ in range(count):\n",
    "        a = int(input_file.readline())\n",
    "        if a % 112 == 4 and min < a:\n",
    "            min = a\n",
    "\n",
    "print(min)\n",
    "\n",
    "with open('output_v8.txt', mode='w') as output_file:\n",
    "    output_file.write(str(min))"
   ]
  },
  {
   "cell_type": "code",
   "execution_count": null,
   "metadata": {},
   "outputs": [],
   "source": [
    "with open('input_v9.txt', mode='r') as input_file:\n",
    "    count =input_file"
   ]
  },
  {
   "cell_type": "code",
   "execution_count": 8,
   "metadata": {},
   "outputs": [
    {
     "name": "stdout",
     "output_type": "stream",
     "text": [
      "4\n"
     ]
    }
   ],
   "source": [
    "n = 0\n",
    "with open('input_v9.txt', mode='r') as input_file:\n",
    "    number = int(input_file.readline())\n",
    "    for i in range(number):\n",
    "        a = int(input_file.readline())\n",
    "        \n",
    "        if a % 2 == 0:\n",
    "            n = i + 1\n",
    "            break\n",
    "\n",
    "print(n)\n",
    "\n",
    "with open('output_v9.txt', mode='w') as output_file:\n",
    "    output_file.write(str(n))"
   ]
  },
  {
   "cell_type": "code",
   "execution_count": 14,
   "metadata": {},
   "outputs": [
    {
     "name": "stdout",
     "output_type": "stream",
     "text": [
      "2012\n"
     ]
    }
   ],
   "source": [
    "min = 0\n",
    "with open('input_v10.txt',mode='r') as input_file:\n",
    "    line = int(input_file.readline())\n",
    "    for _ in range(line):\n",
    "        a = int(input_file.readline())\n",
    "        \n",
    "        if a % 100 == 12 and a > min:\n",
    "            min = a\n",
    "\n",
    "print(min)\n",
    "\n",
    "with open('output_v10.txt',mode='w') as output_file:\n",
    "    output_file.write(str(min))"
   ]
  },
  {
   "cell_type": "code",
   "execution_count": 22,
   "metadata": {},
   "outputs": [
    {
     "name": "stdout",
     "output_type": "stream",
     "text": [
      "160\n"
     ]
    }
   ],
   "source": [
    "import sys\n",
    "\n",
    "\n",
    "min = sys.maxsize\n",
    "\n",
    "with open('input_v11.txt',mode='r') as input_file:\n",
    "    number = int(input_file.readline())\n",
    "    for _ in range(number):\n",
    "        a = int(input_file.readline())\n",
    "        \n",
    "        if a > 150 and a < min:\n",
    "            min = a\n",
    "\n",
    "print(min)\n",
    "\n",
    "with open('output_v11.txt', mode='w') as output_file:\n",
    "    output_file.write(str(min))"
   ]
  },
  {
   "cell_type": "code",
   "execution_count": 31,
   "metadata": {},
   "outputs": [
    {
     "name": "stdout",
     "output_type": "stream",
     "text": [
      "100\n"
     ]
    }
   ],
   "source": [
    "import sys\n",
    "\n",
    "\n",
    "min = -sys.maxsize\n",
    "\n",
    "with open('input_v12.txt',mode='r') as input_file:\n",
    "    number = int(input_file.readline())\n",
    "    for _ in range(number):\n",
    "        a = int(input_file.readline())\n",
    "        \n",
    "        if a < 150 and a > min:\n",
    "             min = a\n",
    "\n",
    "print(min)"
   ]
  },
  {
   "cell_type": "code",
   "execution_count": 3,
   "metadata": {},
   "outputs": [
    {
     "name": "stdout",
     "output_type": "stream",
     "text": [
      "4\n"
     ]
    }
   ],
   "source": [
    "a = int(input())\n",
    "b = int(input())\n",
    "\n",
    "if a % 2 != 0 or b % 2 != 0:\n",
    "    print((b - a) // 2 + 1)\n",
    "else:\n",
    "    print((b - a) // 2)"
   ]
  },
  {
   "cell_type": "code",
   "execution_count": 5,
   "metadata": {},
   "outputs": [
    {
     "name": "stdout",
     "output_type": "stream",
     "text": [
      "28\n"
     ]
    }
   ],
   "source": [
    "k = int(input())\n",
    "sum = 0\n",
    "\n",
    "for _ in range(k):\n",
    "    number = int(input())\n",
    "    \n",
    "    if number % 2 == 0 and number < 30:\n",
    "        sum += number\n",
    "\n",
    "print(sum)"
   ]
  },
  {
   "cell_type": "code",
   "execution_count": 7,
   "metadata": {},
   "outputs": [
    {
     "name": "stdout",
     "output_type": "stream",
     "text": [
      "25\n"
     ]
    }
   ],
   "source": [
    "k = int(input())\n",
    "sum = 0\n",
    "\n",
    "for _ in range(k):\n",
    "    number = int(input())\n",
    "    \n",
    "    if number % 10 != 3 and number <= 25:\n",
    "        sum += number\n",
    "\n",
    "print(sum)"
   ]
  },
  {
   "cell_type": "code",
   "execution_count": 31,
   "metadata": {},
   "outputs": [
    {
     "name": "stdout",
     "output_type": "stream",
     "text": [
      "14\n"
     ]
    }
   ],
   "source": [
    "k = int(input())\n",
    "sum = 0\n",
    "\n",
    "\n",
    "for _ in range(k):\n",
    "    number = int(input())\n",
    "    has_digit_5 = False\n",
    "    n = number\n",
    "    \n",
    "    while n != 0:\n",
    "        digit = n % 10\n",
    "\n",
    "        if digit == 5:\n",
    "            has_digit_5 = True\n",
    "            break\n",
    "        \n",
    "        n = n // 10\n",
    "\n",
    "    \n",
    "    if not has_digit_5 and  number < 16:\n",
    "        sum += number\n",
    "\n",
    "print(sum)"
   ]
  },
  {
   "cell_type": "code",
   "execution_count": 23,
   "metadata": {},
   "outputs": [
    {
     "name": "stdout",
     "output_type": "stream",
     "text": [
      "3\n"
     ]
    }
   ],
   "source": [
    "k = int(input())\n",
    "sum = 0\n",
    "count = 0\n",
    "\n",
    "for _ in range(k):\n",
    "    number = int(input())\n",
    "\n",
    "    if sum < 700:\n",
    "        sum += number\n",
    "        count += 1\n",
    "\n",
    "print(count)"
   ]
  },
  {
   "cell_type": "code",
   "execution_count": 26,
   "metadata": {},
   "outputs": [
    {
     "name": "stdout",
     "output_type": "stream",
     "text": [
      "2\n"
     ]
    }
   ],
   "source": [
    "k = int(input())\n",
    "count = 0\n",
    "\n",
    "for _ in range(k):\n",
    "    number = int(input())\n",
    "    \n",
    "    if number % 221 < 7:\n",
    "        count += 1\n",
    "\n",
    "print(count)"
   ]
  },
  {
   "cell_type": "code",
   "execution_count": 32,
   "metadata": {},
   "outputs": [
    {
     "name": "stdout",
     "output_type": "stream",
     "text": [
      "112\n"
     ]
    }
   ],
   "source": [
    "import sys\n",
    "\n",
    "\n",
    "k = int(input())\n",
    "count = 0\n",
    "min = sys.maxsize\n",
    "\n",
    "for _ in range(k):\n",
    "    number = int(input())\n",
    "    \n",
    "    if number % 112 < 9 and number < min:\n",
    "        min = number\n",
    "\n",
    "print(min)"
   ]
  },
  {
   "cell_type": "code",
   "execution_count": 35,
   "metadata": {},
   "outputs": [
    {
     "name": "stdout",
     "output_type": "stream",
     "text": [
      "4\n"
     ]
    }
   ],
   "source": [
    "import sys\n",
    "\n",
    "\n",
    "k = int(input())\n",
    "count = 0\n",
    "min = -sys.maxsize\n",
    "\n",
    "for _ in range(k):\n",
    "    number = int(input())\n",
    "    \n",
    "    if number % 112 == 4 and number > min:\n",
    "        min = number\n",
    "\n",
    "print(min)"
   ]
  },
  {
   "cell_type": "code",
   "execution_count": 41,
   "metadata": {},
   "outputs": [
    {
     "name": "stdout",
     "output_type": "stream",
     "text": [
      "4\n"
     ]
    }
   ],
   "source": [
    "k = int(input())\n",
    "\n",
    "for i in range(k):\n",
    "    number = int(input())\n",
    "    if number % 2 == 0:\n",
    "        print(i + 1)\n",
    "        break"
   ]
  },
  {
   "cell_type": "code",
   "execution_count": 43,
   "metadata": {},
   "outputs": [
    {
     "name": "stdout",
     "output_type": "stream",
     "text": [
      "2012\n"
     ]
    }
   ],
   "source": [
    "import sys\n",
    "\n",
    "\n",
    "k = int(input())\n",
    "count = 0\n",
    "min = -sys.maxsize\n",
    "\n",
    "for _ in range(k):\n",
    "    number = int(input())\n",
    "    \n",
    "    if number % 100 == 12 and number > min:\n",
    "        min = number\n",
    "\n",
    "print(min)"
   ]
  },
  {
   "cell_type": "code",
   "execution_count": 1,
   "metadata": {},
   "outputs": [
    {
     "name": "stdout",
     "output_type": "stream",
     "text": [
      "160\n"
     ]
    }
   ],
   "source": [
    "import sys\n",
    "\n",
    "\n",
    "k = int(input())\n",
    "min = sys.maxsize\n",
    "\n",
    "for _ in range(k):\n",
    "    number = int(input())\n",
    "    if number > 150 and number < min:\n",
    "        min = number\n",
    "\n",
    "print(min)"
   ]
  },
  {
   "cell_type": "code",
   "execution_count": 6,
   "metadata": {},
   "outputs": [
    {
     "name": "stdout",
     "output_type": "stream",
     "text": [
      "100\n"
     ]
    }
   ],
   "source": [
    "import sys\n",
    "\n",
    "min = -sys.maxsize\n",
    "\n",
    "n = int(input())\n",
    "for number in range(n):\n",
    "    a = int(input())\n",
    "    if a < 150 and a > min:\n",
    "        min = a\n",
    "\n",
    "print(min)"
   ]
  },
  {
   "cell_type": "code",
   "execution_count": 3,
   "metadata": {},
   "outputs": [
    {
     "name": "stdout",
     "output_type": "stream",
     "text": [
      "32\n"
     ]
    }
   ],
   "source": [
    "import sys\n",
    "\n",
    "min = sys.maxsize\n",
    "\n",
    "n = int(input())\n",
    "for number in range(n):\n",
    "    a = int(input())\n",
    "    if a % 16 == 0 and a < min:\n",
    "        min = a\n",
    "\n",
    "print(min)"
   ]
  }
 ],
 "metadata": {
  "kernelspec": {
   "display_name": "Python 3",
   "language": "python",
   "name": "python3"
  },
  "language_info": {
   "codemirror_mode": {
    "name": "ipython",
    "version": 3
   },
   "file_extension": ".py",
   "mimetype": "text/x-python",
   "name": "python",
   "nbconvert_exporter": "python",
   "pygments_lexer": "ipython3",
   "version": "3.11.0"
  },
  "orig_nbformat": 4,
  "vscode": {
   "interpreter": {
    "hash": "5238573367df39f7286bb46f9ff5f08f63a01a80960060ce41e3c79b190280fa"
   }
  }
 },
 "nbformat": 4,
 "nbformat_minor": 2
}
