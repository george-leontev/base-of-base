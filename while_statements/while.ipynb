{
 "cells": [
  {
   "cell_type": "code",
   "execution_count": 5,
   "metadata": {},
   "outputs": [
    {
     "name": "stdout",
     "output_type": "stream",
     "text": [
      "2\n"
     ]
    }
   ],
   "source": [
    "a = int(input('A = '))\n",
    "b = int(input('B = '))\n",
    "\n",
    "while a > b:\n",
    "    a = a - b\n",
    "\n",
    "print(f'Result = {a}')"
   ]
  },
  {
   "cell_type": "code",
   "execution_count": 14,
   "metadata": {},
   "outputs": [
    {
     "name": "stdout",
     "output_type": "stream",
     "text": [
      "Result = 0\n"
     ]
    }
   ],
   "source": [
    "a = int(input('A = '))\n",
    "b = int(input('B = '))\n",
    "result = 0\n",
    "\n",
    "while a > b:\n",
    "    a = a - b\n",
    "    result = result + 1\n",
    "\n",
    "print(f'Result = {result}')"
   ]
  },
  {
   "cell_type": "code",
   "execution_count": 16,
   "metadata": {},
   "outputs": [
    {
     "name": "stdout",
     "output_type": "stream",
     "text": [
      "Quotient = 3\n",
      "Remainder = 2\n"
     ]
    }
   ],
   "source": [
    "a = int(input('A = '))\n",
    "b = int(input('B = '))\n",
    "quotient = 0\n",
    "\n",
    "while a > b:\n",
    "    a = a - b\n",
    "    quotient = quotient + 1\n",
    "\n",
    "print(f'Quotient = {quotient}')\n",
    "print(f'Remainder = {a}')"
   ]
  },
  {
   "cell_type": "code",
   "execution_count": 34,
   "metadata": {},
   "outputs": [
    {
     "name": "stdout",
     "output_type": "stream",
     "text": [
      "It is true\n",
      "N = 2\n"
     ]
    }
   ],
   "source": [
    "a = int(input('A = '))\n",
    "n = 0\n",
    "\n",
    "while a > 1:\n",
    "    a = a / 3\n",
    "    n = n + 1\n",
    "\n",
    "if a == 1:\n",
    "    print('It is true')\n",
    "    print(f'N = {n}')\n",
    "else:\n",
    "    print('It is false')"
   ]
  },
  {
   "cell_type": "code",
   "execution_count": 48,
   "metadata": {},
   "outputs": [
    {
     "name": "stdout",
     "output_type": "stream",
     "text": [
      "It is false\n"
     ]
    }
   ],
   "source": [
    "a = int(input('A = '))\n",
    "n = 0\n",
    "\n",
    "while a > 1:\n",
    "    a = a / 2\n",
    "    n = n + 1\n",
    "\n",
    "if a == 1:\n",
    "    print(f'Result = {n}')\n",
    "else:\n",
    "    print('It is false')"
   ]
  }
 ],
 "metadata": {
  "kernelspec": {
   "display_name": "Python 3",
   "language": "python",
   "name": "python3"
  },
  "language_info": {
   "codemirror_mode": {
    "name": "ipython",
    "version": 3
   },
   "file_extension": ".py",
   "mimetype": "text/x-python",
   "name": "python",
   "nbconvert_exporter": "python",
   "pygments_lexer": "ipython3",
   "version": "3.11.0"
  },
  "orig_nbformat": 4,
  "vscode": {
   "interpreter": {
    "hash": "5238573367df39f7286bb46f9ff5f08f63a01a80960060ce41e3c79b190280fa"
   }
  }
 },
 "nbformat": 4,
 "nbformat_minor": 2
}
