{
 "cells": [
  {
   "cell_type": "code",
   "execution_count": 5,
   "metadata": {},
   "outputs": [
    {
     "name": "stdout",
     "output_type": "stream",
     "text": [
      "()\n",
      "(1.0703675169759927, -3.7370341836426597)\n",
      "(1.0905525188547056, -0.8405525188547056)\n",
      "(1.2426406871192848, -7.242640687119285)\n"
     ]
    }
   ],
   "source": [
    "from math import sqrt\n",
    "\n",
    "\n",
    "def get_square_equation_roots(a: float, b: float, c: float)-> tuple[float | None]:\n",
    "    d = b**2 - 4 * a * c\n",
    "    \n",
    "    if d < 0:\n",
    "        return ()\n",
    "\n",
    "    x1 = (-b + sqrt(d)) / (2 * a)\n",
    "    x2 = (-b - sqrt(d)) / (2 * a)\n",
    "\n",
    "    return (x1, x2)\n",
    "\n",
    "print(get_square_equation_roots(a=1, b=6, c=12))\n",
    "print(get_square_equation_roots(a=3, b=8, c=-12))\n",
    "print(get_square_equation_roots(a=12, b=-3, c=-11))\n",
    "print(get_square_equation_roots(a=1, b=6, c=-9))"
   ]
  },
  {
   "cell_type": "code",
   "execution_count": 9,
   "metadata": {},
   "outputs": [
    {
     "name": "stdout",
     "output_type": "stream",
     "text": [
      "8\n"
     ]
    }
   ],
   "source": [
    "\n",
    "\n",
    "def get_digit_count(number: int) -> int:\n",
    "    count = 0\n",
    "    while number % 10 != 0:\n",
    "        count += 1\n",
    "        number = number // 10\n",
    "    \n",
    "    return count\n",
    "\n",
    "print(get_digit_count(62334442))"
   ]
  }
 ],
 "metadata": {
  "kernelspec": {
   "display_name": "Python 3",
   "language": "python",
   "name": "python3"
  },
  "language_info": {
   "codemirror_mode": {
    "name": "ipython",
    "version": 3
   },
   "file_extension": ".py",
   "mimetype": "text/x-python",
   "name": "python",
   "nbconvert_exporter": "python",
   "pygments_lexer": "ipython3",
   "version": "3.11.0"
  },
  "orig_nbformat": 4,
  "vscode": {
   "interpreter": {
    "hash": "5238573367df39f7286bb46f9ff5f08f63a01a80960060ce41e3c79b190280fa"
   }
  }
 },
 "nbformat": 4,
 "nbformat_minor": 2
}
