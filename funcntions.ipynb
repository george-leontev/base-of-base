{
 "cells": [
  {
   "cell_type": "code",
   "execution_count": 5,
   "metadata": {},
   "outputs": [
    {
     "name": "stdout",
     "output_type": "stream",
     "text": [
      "()\n",
      "(1.0703675169759927, -3.7370341836426597)\n",
      "(1.0905525188547056, -0.8405525188547056)\n",
      "(1.2426406871192848, -7.242640687119285)\n"
     ]
    }
   ],
   "source": [
    "from math import sqrt\n",
    "\n",
    "\n",
    "def get_square_equation_roots(a: float, b: float, c: float)-> tuple[float | None]:\n",
    "    d = b**2 - 4 * a * c\n",
    "    \n",
    "    if d < 0:\n",
    "        return ()\n",
    "\n",
    "    x1 = (-b + sqrt(d)) / (2 * a)\n",
    "    x2 = (-b - sqrt(d)) / (2 * a)\n",
    "\n",
    "    return (x1, x2)\n",
    "\n",
    "print(get_square_equation_roots(a=1, b=6, c=12))\n",
    "print(get_square_equation_roots(a=3, b=8, c=-12))\n",
    "print(get_square_equation_roots(a=12, b=-3, c=-11))\n",
    "print(get_square_equation_roots(a=1, b=6, c=-9))"
   ]
  },
  {
   "cell_type": "code",
   "execution_count": 2,
   "metadata": {},
   "outputs": [
    {
     "name": "stdout",
     "output_type": "stream",
     "text": [
      "8\n"
     ]
    }
   ],
   "source": [
    "\n",
    "\n",
    "def get_digit_count(number: int) -> int:\n",
    "    count = 0\n",
    "    while number % 10 != 0:\n",
    "        count += 1\n",
    "        number = number // 10\n",
    "    \n",
    "    return count\n",
    "\n",
    "print(get_digit_count(62334442))"
   ]
  },
  {
   "cell_type": "code",
   "execution_count": 7,
   "metadata": {},
   "outputs": [
    {
     "name": "stdout",
     "output_type": "stream",
     "text": [
      "r -> volume of sphere = 4.19\n",
      "r -> volume of sphere = 33.51\n",
      "r -> volume of sphere = 113.10\n",
      "r -> volume of sphere = 268.08\n",
      "r -> volume of sphere = 523.60\n",
      "r -> volume of sphere = 904.78\n",
      "r -> volume of sphere = 1436.76\n",
      "r -> volume of sphere = 2144.66\n",
      "r -> volume of sphere = 3053.63\n",
      "r -> volume of sphere = 4188.79\n"
     ]
    }
   ],
   "source": [
    "from math import pi\n",
    "\n",
    "\n",
    "def get_sphere_volume(radius: float) -> float:\n",
    "    return 4 / 3 * pi * radius**3\n",
    "\n",
    "for r in range(1, 11):\n",
    "    print(f'r -> volume of sphere = {get_sphere_volume(r):.2f}')"
   ]
  },
  {
   "cell_type": "code",
   "execution_count": 9,
   "metadata": {},
   "outputs": [
    {
     "name": "stdout",
     "output_type": "stream",
     "text": [
      "1, 1, 1 -> volume of parallelepiped = 1\n",
      "1, 1, 2 -> volume of parallelepiped = 2\n",
      "1, 1, 3 -> volume of parallelepiped = 3\n",
      "1, 2, 1 -> volume of parallelepiped = 2\n",
      "1, 2, 2 -> volume of parallelepiped = 4\n",
      "1, 2, 3 -> volume of parallelepiped = 6\n",
      "1, 3, 1 -> volume of parallelepiped = 3\n",
      "1, 3, 2 -> volume of parallelepiped = 6\n",
      "1, 3, 3 -> volume of parallelepiped = 9\n",
      "2, 1, 1 -> volume of parallelepiped = 2\n",
      "2, 1, 2 -> volume of parallelepiped = 4\n",
      "2, 1, 3 -> volume of parallelepiped = 6\n",
      "2, 2, 1 -> volume of parallelepiped = 4\n",
      "2, 2, 2 -> volume of parallelepiped = 8\n",
      "2, 2, 3 -> volume of parallelepiped = 12\n",
      "2, 3, 1 -> volume of parallelepiped = 6\n",
      "2, 3, 2 -> volume of parallelepiped = 12\n",
      "2, 3, 3 -> volume of parallelepiped = 18\n",
      "3, 1, 1 -> volume of parallelepiped = 3\n",
      "3, 1, 2 -> volume of parallelepiped = 6\n",
      "3, 1, 3 -> volume of parallelepiped = 9\n",
      "3, 2, 1 -> volume of parallelepiped = 6\n",
      "3, 2, 2 -> volume of parallelepiped = 12\n",
      "3, 2, 3 -> volume of parallelepiped = 18\n",
      "3, 3, 1 -> volume of parallelepiped = 9\n",
      "3, 3, 2 -> volume of parallelepiped = 18\n",
      "3, 3, 3 -> volume of parallelepiped = 27\n"
     ]
    }
   ],
   "source": [
    "def get_volume_parallelepiped(length: float, height: float, width: float):\n",
    "    return length * height * width\n",
    "\n",
    "for l in range(1, 4):\n",
    "    for h in range(1, 4):\n",
    "        for w in range(1, 4):\n",
    "            print(f'{l}, {h}, {w} -> volume of parallelepiped = {get_volume_parallelepiped(l, h, w)}')"
   ]
  },
  {
   "cell_type": "code",
   "execution_count": 14,
   "metadata": {},
   "outputs": [
    {
     "name": "stdout",
     "output_type": "stream",
     "text": [
      "1 C -> 33.8 F\n",
      "2 C -> 35.6 F\n",
      "3 C -> 37.4 F\n",
      "4 C -> 39.2 F\n",
      "5 C -> 41.0 F\n",
      "6 C -> 42.8 F\n",
      "7 C -> 44.6 F\n",
      "8 C -> 46.4 F\n",
      "9 C -> 48.2 F\n",
      "10 C -> 50.0 F\n"
     ]
    }
   ],
   "source": [
    "def get_celsius_to_fahrenheit(celsius: float):\n",
    "    return celsius * (9 / 5) + 32\n",
    "\n",
    "for c in range(1, 11):\n",
    "    print(f'{c} C -> {get_celsius_to_fahrenheit(c)} F')"
   ]
  },
  {
   "cell_type": "code",
   "execution_count": 4,
   "metadata": {},
   "outputs": [
    {
     "name": "stdout",
     "output_type": "stream",
     "text": [
      "1, 1 -> square of triangle 0.5\n",
      "1, 2 -> square of triangle 1.0\n",
      "1, 3 -> square of triangle 1.5\n",
      "2, 1 -> square of triangle 1.0\n",
      "2, 2 -> square of triangle 2.0\n",
      "2, 3 -> square of triangle 3.0\n",
      "3, 1 -> square of triangle 1.5\n",
      "3, 2 -> square of triangle 3.0\n",
      "3, 3 -> square of triangle 4.5\n"
     ]
    }
   ],
   "source": [
    "def get_square_triangle(a: float, b: float):\n",
    "    return a * b / 2\n",
    "\n",
    "for a in range(1, 4):\n",
    "    for b in range(1, 4):\n",
    "        print(f'{a}, {b} -> square of triangle {get_square_triangle(a, b)}')\n"
   ]
  },
  {
   "cell_type": "code",
   "execution_count": 17,
   "metadata": {},
   "outputs": [
    {
     "name": "stdout",
     "output_type": "stream",
     "text": [
      "21.30048150234855\n"
     ]
    }
   ],
   "source": [
    "def get_sum_range(n: int):\n",
    "    sum = 0\n",
    "    for i in range(1, n + 1):\n",
    "        sum = sum + 1 / i\n",
    "\n",
    "    return sum\n",
    "\n",
    "print(f'{get_sum_range(1000000000)}')"
   ]
  },
  {
   "cell_type": "code",
   "execution_count": 23,
   "metadata": {},
   "outputs": [
    {
     "name": "stdout",
     "output_type": "stream",
     "text": [
      "0.25\n"
     ]
    }
   ],
   "source": [
    "def get_sum_range(n: int):\n",
    "    product = 1\n",
    "    for i in range(1, n + 1):\n",
    "        product = product * (1 - 1 / (i + 1))\n",
    "\n",
    "    return product\n",
    "\n",
    "print(f'{get_sum_range(3)}')"
   ]
  }
 ],
 "metadata": {
  "kernelspec": {
   "display_name": "Python 3",
   "language": "python",
   "name": "python3"
  },
  "language_info": {
   "codemirror_mode": {
    "name": "ipython",
    "version": 3
   },
   "file_extension": ".py",
   "mimetype": "text/x-python",
   "name": "python",
   "nbconvert_exporter": "python",
   "pygments_lexer": "ipython3",
   "version": "3.11.0"
  },
  "orig_nbformat": 4,
  "vscode": {
   "interpreter": {
    "hash": "5238573367df39f7286bb46f9ff5f08f63a01a80960060ce41e3c79b190280fa"
   }
  }
 },
 "nbformat": 4,
 "nbformat_minor": 2
}
