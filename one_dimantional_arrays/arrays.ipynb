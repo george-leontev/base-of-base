{
 "cells": [
  {
   "cell_type": "code",
   "execution_count": 21,
   "metadata": {},
   "outputs": [
    {
     "name": "stdout",
     "output_type": "stream",
     "text": [
      "It is not an ascending sequence.\n"
     ]
    }
   ],
   "source": [
    "array = [1, 5, 9, 5, 39, 67] # list of an integer numbers\n",
    "not_ascending = False\n",
    "\n",
    "for i in range(0, len(array) - 1):\n",
    "    if array[i] > array[i + 1]:\n",
    "        print('It is not an ascending sequence.')\n",
    "        not_ascending = True\n",
    "        break\n",
    "\n",
    "if not_ascending == False:\n",
    "    print('It is an ascending sequence.')"
   ]
  },
  {
   "cell_type": "code",
   "execution_count": 30,
   "metadata": {},
   "outputs": [
    {
     "name": "stdout",
     "output_type": "stream",
     "text": [
      "Index = 0, value = 1\n",
      "Index = 1, value = 2\n",
      "Index = 2, value = 2\n",
      "Index = 3, value = 4\n"
     ]
    }
   ],
   "source": [
    "array = [1, 2, 2, 4]\n",
    "\n",
    "for i, a in enumerate(array):\n",
    " print(f'Index = {i}, value = {a}')"
   ]
  },
  {
   "cell_type": "code",
   "execution_count": 67,
   "metadata": {},
   "outputs": [
    {
     "name": "stdout",
     "output_type": "stream",
     "text": [
      "[35, 82]\n"
     ]
    }
   ],
   "source": [
    "from random import random\n",
    "array = []\n",
    "\n",
    "for i in range(10):\n",
    "    r = int(100 * random())\n",
    "    array.append(r)\n",
    "\n",
    "print(array)"
   ]
  },
  {
   "cell_type": "code",
   "execution_count": 69,
   "metadata": {},
   "outputs": [
    {
     "name": "stdout",
     "output_type": "stream",
     "text": [
      "[39, 84, 46, 60, 82, 47, 75, 6, 51, 87, 13, 97, 16, 46]\n",
      "Count of even elements = 7\n"
     ]
    }
   ],
   "source": [
    "from random import random\n",
    "array = []\n",
    "\n",
    "for i in range(14):\n",
    "    r = int(100 * random())\n",
    "    array.append(r)\n",
    "\n",
    "print(array)\n",
    "\n",
    "even = 0\n",
    "\n",
    "for x in array:\n",
    "    if x % 2 == 0:\n",
    "        even += 1\n",
    "\n",
    "print(f'Count of even elements = {even}')"
   ]
  },
  {
   "cell_type": "code",
   "execution_count": 77,
   "metadata": {},
   "outputs": [
    {
     "name": "stdout",
     "output_type": "stream",
     "text": [
      "[4, 6, 9, 3, 9, 7, 0, 0, 2, 2, 2, 3]\n",
      "Sum = 47\n",
      "Average = 4\n",
      "[4, 6, 9, 3, 9, 7, 0, 0, 2, 2, 2, 3]\n",
      "[4, 6, 9, 3, 4, 7, 0, 0, 2, 2, 2, 3]\n"
     ]
    }
   ],
   "source": [
    "from random import random\n",
    "from math import ceil, floor\n",
    "\n",
    "\n",
    "array = []\n",
    "\n",
    "for i in range(12):\n",
    "    r = int(10 * random())\n",
    "    array.append(r)\n",
    "\n",
    "print(array)\n",
    "\n",
    "sum = 0\n",
    "average = 0\n",
    "\n",
    "for x in array:\n",
    "    sum += x\n",
    "\n",
    "average = ceil(sum / len(array))\n",
    "\n",
    "print(f'Sum = {sum}')\n",
    "print(f'Average = {average}')\n",
    "\n",
    "new_array = list(array)\n",
    "new_array[4] = average\n",
    "\n",
    "print(new_array)\n"
   ]
  }
 ],
 "metadata": {
  "kernelspec": {
   "display_name": "Python 3",
   "language": "python",
   "name": "python3"
  },
  "language_info": {
   "codemirror_mode": {
    "name": "ipython",
    "version": 3
   },
   "file_extension": ".py",
   "mimetype": "text/x-python",
   "name": "python",
   "nbconvert_exporter": "python",
   "pygments_lexer": "ipython3",
   "version": "3.11.0"
  },
  "orig_nbformat": 4,
  "vscode": {
   "interpreter": {
    "hash": "5238573367df39f7286bb46f9ff5f08f63a01a80960060ce41e3c79b190280fa"
   }
  }
 },
 "nbformat": 4,
 "nbformat_minor": 2
}
