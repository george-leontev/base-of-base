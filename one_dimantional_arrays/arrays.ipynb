{
 "cells": [
  {
   "cell_type": "code",
   "execution_count": null,
   "metadata": {},
   "outputs": [],
   "source": [
    "array = [1, 5, 9, 5, 39, 67] # list of an integer numbers\n",
    "not_ascending = False\n",
    "\n",
    "for i in range(0, len(array) - 1):\n",
    "    if array[i] > array[i + 1]:\n",
    "        print('It is not an ascending sequence.')\n",
    "        not_ascending = True\n",
    "        break\n",
    "\n",
    "if not_ascending == False:\n",
    "    print('It is an ascending sequence.')"
   ]
  },
  {
   "cell_type": "code",
   "execution_count": null,
   "metadata": {},
   "outputs": [],
   "source": [
    "array = [1, 2, 2, 4]\n",
    "\n",
    "for i, a in enumerate(array):\n",
    " print(f'Index = {i}, value = {a}')"
   ]
  },
  {
   "cell_type": "code",
   "execution_count": null,
   "metadata": {},
   "outputs": [],
   "source": [
    "from random import random\n",
    "array = []\n",
    "\n",
    "for i in range(10):\n",
    "    r = int(100 * random())\n",
    "    array.append(r)\n",
    "\n",
    "print(array)"
   ]
  },
  {
   "cell_type": "code",
   "execution_count": null,
   "metadata": {},
   "outputs": [],
   "source": [
    "from random import random\n",
    "array = []\n",
    "\n",
    "for i in range(14):\n",
    "    r = int(100 * random())\n",
    "    array.append(r)\n",
    "\n",
    "print(array)\n",
    "\n",
    "even = 0\n",
    "\n",
    "for x in array:\n",
    "    if x % 2 == 0:\n",
    "        even += 1\n",
    "\n",
    "print(f'Count of even elements = {even}')"
   ]
  },
  {
   "cell_type": "code",
   "execution_count": null,
   "metadata": {},
   "outputs": [],
   "source": [
    "from random import random\n",
    "from math import ceil, floor\n",
    "\n",
    "\n",
    "array = []\n",
    "\n",
    "for i in range(12):\n",
    "    r = int(10 * random())\n",
    "    array.append(r)\n",
    "\n",
    "print(array)\n",
    "\n",
    "sum = 0\n",
    "average = 0\n",
    "\n",
    "for x in array:\n",
    "    sum += x\n",
    "\n",
    "average = ceil(sum / len(array))\n",
    "\n",
    "print(f'Sum = {sum}')\n",
    "print(f'Average = {average}')\n",
    "\n",
    "new_array = list(array)\n",
    "new_array[4] = average\n",
    "\n",
    "print(new_array)\n"
   ]
  },
  {
   "cell_type": "code",
   "execution_count": null,
   "metadata": {},
   "outputs": [],
   "source": [
    "array = []\n",
    "\n",
    "for _ in range(10):\n",
    "    a = int(input('A = '))\n",
    "    array.append(a)\n",
    "\n",
    "print(f'Array = {array}')"
   ]
  },
  {
   "cell_type": "code",
   "execution_count": null,
   "metadata": {},
   "outputs": [],
   "source": [
    "from random import random\n",
    "\n",
    "\n",
    "array: list[float] = []\n",
    "\n",
    "for _ in range(15):\n",
    "    a: float = random()\n",
    "    array.append(a)\n",
    "\n",
    "print(f'Array = {array}')"
   ]
  },
  {
   "cell_type": "code",
   "execution_count": 18,
   "metadata": {},
   "outputs": [
    {
     "name": "stdout",
     "output_type": "stream",
     "text": [
      "Array = [22.99217684947333, 22.035961426974026, 22.316234212868903, 22.152854216027148, 22.64796195445098, 22.78728289106726, 22.9700366947344, 22.443552778733075, 22.980677185976422, 22.80870290590108, 22.58621622323529, 22.786364997075797, 22.8918311720062, 22.587333676601478, 22.874758795000844]\n"
     ]
    }
   ],
   "source": [
    "from random import random\n",
    "\n",
    "\n",
    "array: list[float] = []\n",
    "\n",
    "for _ in range(15):\n",
    "    a: float = random() + 22\n",
    "    array.append(a)\n",
    "\n",
    "\n",
    "print(f'Array = {array}')"
   ]
  },
  {
   "cell_type": "code",
   "execution_count": 19,
   "metadata": {},
   "outputs": [
    {
     "name": "stdout",
     "output_type": "stream",
     "text": [
      "Array = [9.74537307316754, 8.27212678085026, 2.015396711331988, 7.749214970165376, 3.4889228374672756, 2.695536691390746, 5.665345688311534, 2.271048229340181, 1.5824785864213309, 2.21856923891963, 5.388511601373023, 2.06435632246324, 6.4676145035388615, 2.022046390928475, 7.245384749381261]\n"
     ]
    }
   ],
   "source": [
    "from random import random\n",
    "\n",
    "\n",
    "array: list[float] = []\n",
    "\n",
    "for _ in range(15):\n",
    "    a: float = random() * 10\n",
    "    array.append(a)\n",
    "\n",
    "\n",
    "print(f'Array = {array}')"
   ]
  },
  {
   "cell_type": "code",
   "execution_count": 27,
   "metadata": {},
   "outputs": [
    {
     "name": "stdout",
     "output_type": "stream",
     "text": [
      "Array = [-18, -9, -3, -48, 18, 28, -25, -5, -37, 8, 2, 46, 38, 37, -45]\n"
     ]
    }
   ],
   "source": [
    "from random import random\n",
    "\n",
    "\n",
    "array: list[int] = []\n",
    "\n",
    "for _ in range(15):\n",
    "    a: int = int(random() * 100 - 50)\n",
    "    array.append(a)\n",
    "\n",
    "\n",
    "print(f'Array = {array}')"
   ]
  },
  {
   "cell_type": "code",
   "execution_count": 28,
   "metadata": {},
   "outputs": [
    {
     "name": "stdout",
     "output_type": "stream",
     "text": [
      "Array = [3, 9, 10, 6, 9, 5, 8, 4, 0, 2, 0, 8, 5, 5, 10]\n"
     ]
    }
   ],
   "source": [
    "from random import random\n",
    "\n",
    "\n",
    "array: list[int] = []\n",
    "\n",
    "for _ in range(15):\n",
    "    a: int = int(random() * 11)\n",
    "    array.append(a)\n",
    "\n",
    "\n",
    "print(f'Array = {array}')"
   ]
  },
  {
   "cell_type": "code",
   "execution_count": 29,
   "metadata": {},
   "outputs": [
    {
     "name": "stdout",
     "output_type": "stream",
     "text": [
      "Array = [183, 183, 179, 182, 175, 164, 177, 169, 191, 189, 186, 164, 164, 188, 164]\n"
     ]
    }
   ],
   "source": [
    "from random import random\n",
    "\n",
    "\n",
    "array: list[int] = []\n",
    "\n",
    "for _ in range(15):\n",
    "    a: int = int(random() * 29 + 163)\n",
    "    array.append(a)\n",
    "\n",
    "\n",
    "print(f'Array = {array}')"
   ]
  },
  {
   "cell_type": "code",
   "execution_count": 37,
   "metadata": {},
   "outputs": [
    {
     "name": "stdout",
     "output_type": "stream",
     "text": [
      "[1, 2, 3, 4, 5, 6, 7, 8, 9, 10, 11, 12]\n"
     ]
    }
   ],
   "source": [
    "array: list[int] = []\n",
    "a = 0\n",
    "\n",
    "while a < 12:\n",
    "    a: int = a + 1\n",
    "    array.append(a)\n",
    "\n",
    "print(array)"
   ]
  },
  {
   "cell_type": "code",
   "execution_count": 41,
   "metadata": {},
   "outputs": [
    {
     "name": "stdout",
     "output_type": "stream",
     "text": [
      "[1, 2, 3, 4, 5, 6, 7, 8, 9, 10, 11, 12]\n"
     ]
    }
   ],
   "source": [
    "array: list[int] = []\n",
    "\n",
    "for a in range(1, 13):\n",
    "    array.append(a)\n",
    "\n",
    "print(array)"
   ]
  },
  {
   "cell_type": "code",
   "execution_count": 48,
   "metadata": {},
   "outputs": [
    {
     "name": "stdout",
     "output_type": "stream",
     "text": [
      "List = [20, 19, 18, 17, 16, 15, 14, 13, 12, 11, 10, 9, 8, 7, 6, 5, 4, 3, 2, 1]\n"
     ]
    }
   ],
   "source": [
    "array: list[int] = []\n",
    "a: int = 20\n",
    "\n",
    "while a > 0:\n",
    "    array.append(a)\n",
    "    a = a - 1\n",
    "\n",
    "print(f'List = {array}')"
   ]
  },
  {
   "cell_type": "code",
   "execution_count": 7,
   "metadata": {},
   "outputs": [
    {
     "name": "stdout",
     "output_type": "stream",
     "text": [
      "[1, 2, 3, 4, 5, 6, 7, 8]\n"
     ]
    }
   ],
   "source": [
    "array: list[int] = []\n",
    "\n",
    "for a in range(1, 9):\n",
    "    array.append(a)\n",
    "\n",
    "print(array)"
   ]
  },
  {
   "cell_type": "code",
   "execution_count": 11,
   "metadata": {},
   "outputs": [
    {
     "name": "stdout",
     "output_type": "stream",
     "text": [
      "[8, 7, 6, 5, 4, 3, 2, 1]\n"
     ]
    }
   ],
   "source": [
    "array: list[int] = []\n",
    "\n",
    "\n",
    "for a in range(8, 0, -1):\n",
    "    array.append(a)\n",
    "\n",
    "print(array)"
   ]
  },
  {
   "cell_type": "code",
   "execution_count": 16,
   "metadata": {},
   "outputs": [
    {
     "name": "stdout",
     "output_type": "stream",
     "text": [
      "[10, 15, 20, 25, 30, 35, 40, 45, 50, 55]\n"
     ]
    }
   ],
   "source": [
    "array: list[int] = []\n",
    "\n",
    "\n",
    "a: int = 10\n",
    "p: int = 5\n",
    "\n",
    "for x in range(10):\n",
    "    array.append(a)\n",
    "    a = a + p\n",
    "\n",
    "print(array)"
   ]
  },
  {
   "cell_type": "code",
   "execution_count": 21,
   "metadata": {},
   "outputs": [
    {
     "name": "stdout",
     "output_type": "stream",
     "text": [
      "[1, 2, 4, 8, 16, 32, 64, 128, 256, 512]\n"
     ]
    }
   ],
   "source": [
    "array: list[int] = []\n",
    "\n",
    "\n",
    "b: int = 1\n",
    "q: int = 2\n",
    "\n",
    "for x in range(10):\n",
    "    array.append(b)\n",
    "    b = b * q\n",
    "\n",
    "print(array)"
   ]
  },
  {
   "cell_type": "code",
   "execution_count": 26,
   "metadata": {},
   "outputs": [
    {
     "name": "stdout",
     "output_type": "stream",
     "text": [
      "List = [1, 1, 2, 3, 5, 8, 13, 21, 34, 55, 89, 144, 233, 377, 610, 987, 1597, 2584, 4181, 6765]\n",
      "20\n"
     ]
    }
   ],
   "source": [
    "a: list[int] = [1, 1]\n",
    "\n",
    "for i in range(0, 18):\n",
    "    b = a[i] + a[i + 1]\n",
    "    a.append(b)\n",
    "\n",
    "print(f'List = {a}')\n",
    "print(len(a))"
   ]
  },
  {
   "cell_type": "code",
   "execution_count": 30,
   "metadata": {},
   "outputs": [
    {
     "name": "stdout",
     "output_type": "stream",
     "text": [
      "[5, 4, 3, 7, 6]\n"
     ]
    }
   ],
   "source": [
    "a: list[int] = []\n",
    "b: int = int(input('B = '))\n",
    "d: int = 10\n",
    "\n",
    "while b / d != 0:\n",
    "    a.append(b % d)\n",
    "    b = int(b / d)\n",
    "    \n",
    "\n",
    "print(a)\n"
   ]
  },
  {
   "cell_type": "code",
   "execution_count": 34,
   "metadata": {},
   "outputs": [
    {
     "name": "stdout",
     "output_type": "stream",
     "text": [
      "[1, 0, 0, 0, 0, 1, 1, 0]\n"
     ]
    }
   ],
   "source": [
    "a: list[int] = []\n",
    "b: int = int(input('B = '))\n",
    "d: int = 2\n",
    "\n",
    "while b / d != 0:\n",
    "    a.append(b % d)\n",
    "    b = int(b / d)\n",
    "    \n",
    "a.reverse()\n",
    "print(a)\n"
   ]
  },
  {
   "cell_type": "code",
   "execution_count": 37,
   "metadata": {},
   "outputs": [
    {
     "name": "stdout",
     "output_type": "stream",
     "text": [
      "[442, 663, 884, 1105, 1326, 1547, 1768, 1989, 2210, 2431, 2652, 2873, 3094, 3315, 3536, 3757, 3978, 4199, 4420, 4641, 4862]\n"
     ]
    }
   ],
   "source": [
    "array: list[int] = []\n",
    "n: int = 0\n",
    "a: int = 300\n",
    "\n",
    "while True:\n",
    "    if a % 13 == 0 and a % 17 == 0:\n",
    "        array.append(a)\n",
    "        n = n + 1\n",
    "    if n > 20:\n",
    "        break\n",
    "    a += 1\n",
    "\n",
    "print(array)"
   ]
  },
  {
   "cell_type": "code",
   "execution_count": 2,
   "metadata": {},
   "outputs": [
    {
     "name": "stdout",
     "output_type": "stream",
     "text": [
      "[2, 3, 5, 7, 11, 13, 17, 19, 23, 29, 31, 37, 41, 43, 47, 53, 59, 61, 67, 71, 73, 79, 83, 89, 97, 101, 103, 107, 109]\n"
     ]
    }
   ],
   "source": [
    "array: list[int] = []\n",
    "n: int = 1\n",
    "a: int = 2\n",
    "is_primary: bool = True\n",
    "\n",
    "while True:\n",
    "    for x in range(2, a):\n",
    "        if a % x == 0:\n",
    "            is_primary = False\n",
    "            break\n",
    "\n",
    "    if is_primary:\n",
    "        array.append(a)\n",
    "        n = n + 1\n",
    "        \n",
    "    if n >= 30:\n",
    "        break\n",
    "    \n",
    "    a += 1\n",
    "    is_primary = True\n",
    "    \n",
    "print(array)"
   ]
  },
  {
   "cell_type": "code",
   "execution_count": 6,
   "metadata": {},
   "outputs": [
    {
     "name": "stdout",
     "output_type": "stream",
     "text": [
      "[19, 19, 16, 11, 18, 13, 9, 9, 16, 17]\n",
      "[38, 38, 32, 22, 36, 26, 18, 18, 32, 34]\n"
     ]
    }
   ],
   "source": [
    "from random import random\n",
    "\n",
    "\n",
    "array: list[int] = []\n",
    "\n",
    "for _ in range(10):\n",
    "    a = int(random() * 19 + 1)\n",
    "    array.append(a)\n",
    "\n",
    "print(array)\n",
    "\n",
    "for i in range(10):\n",
    "    array[i] = array[i] * 2\n",
    "\n",
    "print(array)"
   ]
  }
 ],
 "metadata": {
  "kernelspec": {
   "display_name": "Python 3",
   "language": "python",
   "name": "python3"
  },
  "language_info": {
   "codemirror_mode": {
    "name": "ipython",
    "version": 3
   },
   "file_extension": ".py",
   "mimetype": "text/x-python",
   "name": "python",
   "nbconvert_exporter": "python",
   "pygments_lexer": "ipython3",
   "version": "3.11.0"
  },
  "orig_nbformat": 4,
  "vscode": {
   "interpreter": {
    "hash": "5238573367df39f7286bb46f9ff5f08f63a01a80960060ce41e3c79b190280fa"
   }
  }
 },
 "nbformat": 4,
 "nbformat_minor": 2
}
