{
 "cells": [
  {
   "cell_type": "code",
   "execution_count": 4,
   "metadata": {},
   "outputs": [
    {
     "name": "stdout",
     "output_type": "stream",
     "text": [
      "[47, 9, 13, 41, 46, 35, 26, 40, 33, 7, 39, 25, 7, 46, 28]\n",
      "[45, 7, 11, 39, 44, 33, 24, 38, 31, 5, 37, 23, 5, 44, 26]\n"
     ]
    }
   ],
   "source": [
    "from random import random\n",
    "b = int(input('B = '))\n",
    "\n",
    "\n",
    "array: list[int] = []\n",
    "\n",
    "for _ in range(15):\n",
    "    a = int(random() * 49 + 1)\n",
    "    array.append(a)\n",
    "\n",
    "print(array)\n",
    "\n",
    "for i in range(15):\n",
    "    array[i] = array[i] - b\n",
    "\n",
    "print(array)"
   ]
  },
  {
   "cell_type": "code",
   "execution_count": 5,
   "metadata": {},
   "outputs": [
    {
     "name": "stdout",
     "output_type": "stream",
     "text": [
      "[6, 7, 2, 14, 10, 14, 15, 14, 13, 19]\n",
      "114\n"
     ]
    }
   ],
   "source": [
    "from random import random\n",
    "\n",
    "\n",
    "array: list[int] = []\n",
    "\n",
    "for _ in range(10):\n",
    "    r: int = int(random() * 19 + 1)\n",
    "    array.append(r)\n",
    "\n",
    "print(array)\n",
    "sum: int = 0\n",
    "\n",
    "for i in range(10):\n",
    "    sum = sum + array[i]\n",
    "\n",
    "print(sum)"
   ]
  },
  {
   "cell_type": "code",
   "execution_count": 9,
   "metadata": {},
   "outputs": [
    {
     "name": "stdout",
     "output_type": "stream",
     "text": [
      "List = [4, 2, 3, 3, 4]\n",
      "288\n"
     ]
    }
   ],
   "source": [
    "from random import random\n",
    "\n",
    "\n",
    "array: list[int] = []\n",
    "\n",
    "for _ in range(5):\n",
    "    r: int = int(random() * 4 + 1)\n",
    "    array.append(r)\n",
    "\n",
    "print(f'List = {array}')\n",
    "conduct: int = 1\n",
    "\n",
    "for i in range(5):\n",
    "    conduct = conduct * array[i]\n",
    "\n",
    "print(conduct)\n"
   ]
  },
  {
   "cell_type": "code",
   "execution_count": 17,
   "metadata": {},
   "outputs": [
    {
     "name": "stdout",
     "output_type": "stream",
     "text": [
      "[1, 1, 2, 1, 4]\n",
      "Sum = 23\n"
     ]
    }
   ],
   "source": [
    "from random import random\n",
    "\n",
    "\n",
    "array: list[int] = []\n",
    "\n",
    "for _ in range(5):\n",
    "    r: int = int(random() * 4 + 1)\n",
    "    array.append(r)\n",
    "\n",
    "print(array)\n",
    "\n",
    "square: int = 0\n",
    "sum: int = 0\n",
    "\n",
    "\n",
    "for i in range(5):\n",
    "    square = array[i] ** 2\n",
    "    sum = sum + square\n",
    "\n",
    "\n",
    "print(f'Sum = {sum}')\n"
   ]
  },
  {
   "cell_type": "code",
   "execution_count": 25,
   "metadata": {},
   "outputs": [
    {
     "name": "stdout",
     "output_type": "stream",
     "text": [
      "[3, 1, 1, 4, 4, 4, 1, 2, 2, 4]\n",
      "17\n"
     ]
    }
   ],
   "source": [
    "from random import random\n",
    "\n",
    "\n",
    "array: list[int] = []\n",
    "\n",
    "for _ in range(10):\n",
    "    r: int = int(random() * 4 + 1)\n",
    "    array.append(r)\n",
    "\n",
    "print(array)\n",
    "sum: int = 0\n",
    "i: int = 0\n",
    "\n",
    "while i < 6:\n",
    "    sum = sum + array[i]\n",
    "    i += 1\n",
    "\n",
    "print(sum)\n"
   ]
  },
  {
   "cell_type": "code",
   "execution_count": 30,
   "metadata": {},
   "outputs": [
    {
     "name": "stdout",
     "output_type": "stream",
     "text": [
      "[7, 1, 9, 6, 9, 4, 7, 1, 6, 1]\n",
      "36\n"
     ]
    }
   ],
   "source": [
    "from random import random\n",
    "\n",
    "\n",
    "array: list[int] = []\n",
    "\n",
    "for _ in range(10):\n",
    "    r: int = int(random() * 9 + 1)\n",
    "    array.append(r)\n",
    "\n",
    "print(array)\n",
    "\n",
    "k1 = int(input('k1 = '))\n",
    "k2 = int(input('k2 = '))\n",
    "sum = 0\n",
    "\n",
    "for i in  range(k1, k2 + 1):\n",
    "    sum = sum + array[i]\n",
    "\n",
    "print(sum)\n"
   ]
  },
  {
   "cell_type": "code",
   "execution_count": 36,
   "metadata": {},
   "outputs": [
    {
     "name": "stdout",
     "output_type": "stream",
     "text": [
      "[4, 2, 4, 3, 4]\n",
      "Average = 3.4\n"
     ]
    }
   ],
   "source": [
    "from random import random\n",
    "\n",
    "\n",
    "array: list[int] = []\n",
    "\n",
    "for _ in range(5):\n",
    "    r: int = int(random() * 4 + 1)\n",
    "    array.append(r)\n",
    "\n",
    "print(array)\n",
    "\n",
    "sum = 0\n",
    "\n",
    "\n",
    "for i in range(5):\n",
    "    sum = sum + array[i]\n",
    "\n",
    "average: float = sum / len(array)\n",
    "\n",
    "print(f'Average = {average}')\n"
   ]
  },
  {
   "cell_type": "code",
   "execution_count": 43,
   "metadata": {},
   "outputs": [
    {
     "name": "stdout",
     "output_type": "stream",
     "text": [
      "[3, 1, 3, 1, 2, 2, 4, 3, 2, 1]\n",
      "8\n",
      "2.0\n"
     ]
    }
   ],
   "source": [
    "from random import random\n",
    "\n",
    "\n",
    "array: list[int] = []\n",
    "\n",
    "for _ in range(10):\n",
    "    r: int = int(random() * 4 + 1)\n",
    "    array.append(r)\n",
    "\n",
    "print(array)\n",
    "\n",
    "s1 = int(input('S1 = '))\n",
    "s2 = int(input('S2 = '))\n",
    "sum: int = 0\n",
    "\n",
    "for i in range(s1, s2 + 1):\n",
    "    sum = sum + array[i]\n",
    "\n",
    "average: float = sum / (s2 - s1 + 1)\n",
    "\n",
    "print(sum)\n",
    "print(average)"
   ]
  },
  {
   "cell_type": "code",
   "execution_count": 46,
   "metadata": {},
   "outputs": [
    {
     "name": "stdout",
     "output_type": "stream",
     "text": [
      "[-5, -5, 8, -2, -3, -9, -2, 4, -6, -8]\n",
      "8\n",
      "4\n",
      "12\n"
     ]
    }
   ],
   "source": [
    "from random import random\n",
    "\n",
    "\n",
    "array: list[int] = []\n",
    "\n",
    "for _ in range(10):\n",
    "    r: int = int(random() * 21 - 10)\n",
    "    array.append(r)\n",
    "\n",
    "print(array)\n",
    "sum = 0\n",
    "\n",
    "for i in range(10):\n",
    "    if array[i] > 0:\n",
    "        sum = sum + array[i]\n",
    "        print(array[i])\n",
    "\n",
    "print(sum)\n"
   ]
  },
  {
   "cell_type": "code",
   "execution_count": 21,
   "metadata": {},
   "outputs": [
    {
     "name": "stdout",
     "output_type": "stream",
     "text": [
      "[8, 8, 4, 4, 5, 4, 6, 1, 7, 4]\n",
      "8\n",
      "8\n",
      "4\n",
      "4\n",
      "4\n",
      "6\n",
      "4\n"
     ]
    }
   ],
   "source": [
    "from random import random\n",
    "\n",
    "\n",
    "array: list[int] = []\n",
    "\n",
    "for _ in range(10):\n",
    "    r: int = int(random() * 9 + 1)\n",
    "    array.append(r)\n",
    "\n",
    "print(array)\n",
    "\n",
    "for i in range(10):\n",
    "    if array[i] % 2 == 0:\n",
    "        print(array[i])\n",
    "\n",
    "\n"
   ]
  },
  {
   "cell_type": "code",
   "execution_count": 31,
   "metadata": {},
   "outputs": [
    {
     "name": "stdout",
     "output_type": "stream",
     "text": [
      "[93, 20, 4, 40, 84, 50, 53, 12, 85, 73]\n",
      "20\n",
      "40\n",
      "50\n"
     ]
    }
   ],
   "source": [
    "from random import random\n",
    "\n",
    "\n",
    "array: list[int] = []\n",
    "\n",
    "for _ in range(10):\n",
    "    r: int = int(random() * 99 + 1)\n",
    "    array.append(r)\n",
    "\n",
    "print(array)\n",
    "\n",
    "for i in range(10):\n",
    "    if array[i] % 10 == 0:  \n",
    "        print(array[i])\n"
   ]
  },
  {
   "cell_type": "code",
   "execution_count": 38,
   "metadata": {},
   "outputs": [
    {
     "name": "stdout",
     "output_type": "stream",
     "text": [
      "[130, 128, 94, 12, 147, 8, 47, 103, 107, 155]\n",
      "94\n",
      "12\n",
      "8\n",
      "47\n"
     ]
    }
   ],
   "source": [
    "from random import random\n",
    "\n",
    "\n",
    "array: list[int] = []\n",
    "\n",
    "for _ in range(10):\n",
    "    r: int = int(random() * 199 + 1)\n",
    "    array.append(r)\n",
    "\n",
    "print(array)\n",
    "\n",
    "for i in range(10):\n",
    "    if array[i] < 100:\n",
    "        print(array[i])"
   ]
  },
  {
   "cell_type": "code",
   "execution_count": 45,
   "metadata": {},
   "outputs": [
    {
     "name": "stdout",
     "output_type": "stream",
     "text": [
      "[-1, 18, 18, -8, 5, 17, 3, 13, 2, -7, 11, 7, -8, 12, 6, 14, -3, 9, 7, 17]\n",
      "[7, 19, 19, 0, 6, 18, 4, 14, 3, 1, 12, 8, 0, 13, 7, 15, 5, 10, 8, 18]\n"
     ]
    }
   ],
   "source": [
    "from random import random\n",
    "\n",
    "\n",
    "array: list[int] = []\n",
    "\n",
    "for _ in range(20):\n",
    "    r: int = int(random() * 29 - 10)\n",
    "    array.append(r)\n",
    "\n",
    "print(array)\n",
    "\n",
    "k1: int = int(input())\n",
    "k2: int = int(input())\n",
    "\n",
    "e1 = array[k1]\n",
    "e2 = array[k2]\n",
    "for i in range(20):\n",
    "    if array[i] > 0:\n",
    "        array[i] -= e1\n",
    "    else:\n",
    "        array[i] -= e2\n",
    "\n",
    "print(array)"
   ]
  },
  {
   "cell_type": "code",
   "execution_count": 50,
   "metadata": {},
   "outputs": [
    {
     "name": "stdout",
     "output_type": "stream",
     "text": [
      "[184, 151, 100, 161, 21, 153, 87, 24, 190, 144]\n",
      "21\n",
      "87\n",
      "24\n"
     ]
    }
   ],
   "source": [
    "from random import random\n",
    "\n",
    "\n",
    "array: list[int] = []\n",
    "\n",
    "for _ in range(10):\n",
    "    r: int = int(random() * 199 + 1)\n",
    "    array.append(r)\n",
    "\n",
    "print(array)\n",
    "\n",
    "for x in array:\n",
    "    if x >= 10 and x < 100:\n",
    "        print(x)"
   ]
  },
  {
   "cell_type": "code",
   "execution_count": 59,
   "metadata": {},
   "outputs": [
    {
     "name": "stdout",
     "output_type": "stream",
     "text": [
      "[68, 43, 61, 79, 85, 2, 98, 68, 41, 76]\n",
      "43 1\n",
      "79 3\n",
      "2 5\n",
      "68 7\n",
      "76 9\n"
     ]
    }
   ],
   "source": [
    "from random import random\n",
    "\n",
    "\n",
    "array: list[int] = []\n",
    "\n",
    "for _ in range(10):\n",
    "    r: int = int(random() * 99 + 1 )\n",
    "    array.append(r)\n",
    "\n",
    "print(array)\n",
    "\n",
    "for i in range(1, 10):\n",
    "    if (i + 1) % 2 == 0:\n",
    "        print(array[i], i)\n",
    "        "
   ]
  },
  {
   "cell_type": "code",
   "execution_count": 60,
   "metadata": {},
   "outputs": [
    {
     "name": "stdout",
     "output_type": "stream",
     "text": [
      "[89, 76, 47, 1, 31, 54, 58, 79, 36, 32]\n",
      "47 2\n",
      "54 5\n",
      "36 8\n"
     ]
    }
   ],
   "source": [
    "from random import random\n",
    "\n",
    "\n",
    "array: list[int] = []\n",
    "\n",
    "for _ in range(10):\n",
    "    r: int = int(random() * 99 + 1)\n",
    "    array.append(r)\n",
    "\n",
    "print(array)\n",
    "\n",
    "for i in range(1, 10):\n",
    "    if (i + 1) % 3 == 0:\n",
    "        print(array[i], i)\n",
    "\n"
   ]
  },
  {
   "cell_type": "code",
   "execution_count": null,
   "metadata": {},
   "outputs": [],
   "source": []
  }
 ],
 "metadata": {
  "kernelspec": {
   "display_name": "Python 3",
   "language": "python",
   "name": "python3"
  },
  "language_info": {
   "codemirror_mode": {
    "name": "ipython",
    "version": 3
   },
   "file_extension": ".py",
   "mimetype": "text/x-python",
   "name": "python",
   "nbconvert_exporter": "python",
   "pygments_lexer": "ipython3",
   "version": "3.11.0"
  },
  "orig_nbformat": 4,
  "vscode": {
   "interpreter": {
    "hash": "5238573367df39f7286bb46f9ff5f08f63a01a80960060ce41e3c79b190280fa"
   }
  }
 },
 "nbformat": 4,
 "nbformat_minor": 2
}
