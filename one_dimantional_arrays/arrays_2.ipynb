{
 "cells": [
  {
   "cell_type": "code",
   "execution_count": 4,
   "metadata": {},
   "outputs": [
    {
     "name": "stdout",
     "output_type": "stream",
     "text": [
      "[47, 9, 13, 41, 46, 35, 26, 40, 33, 7, 39, 25, 7, 46, 28]\n",
      "[45, 7, 11, 39, 44, 33, 24, 38, 31, 5, 37, 23, 5, 44, 26]\n"
     ]
    }
   ],
   "source": [
    "from random import random\n",
    "b = int(input('B = '))\n",
    "\n",
    "\n",
    "array: list[int] = []\n",
    "\n",
    "for _ in range(15):\n",
    "    a = int(random() * 49 + 1)\n",
    "    array.append(a)\n",
    "\n",
    "print(array)\n",
    "\n",
    "for i in range(15):\n",
    "    array[i] = array[i] - b\n",
    "\n",
    "print(array)"
   ]
  }
 ],
 "metadata": {
  "kernelspec": {
   "display_name": "Python 3",
   "language": "python",
   "name": "python3"
  },
  "language_info": {
   "codemirror_mode": {
    "name": "ipython",
    "version": 3
   },
   "file_extension": ".py",
   "mimetype": "text/x-python",
   "name": "python",
   "nbconvert_exporter": "python",
   "pygments_lexer": "ipython3",
   "version": "3.11.0"
  },
  "orig_nbformat": 4,
  "vscode": {
   "interpreter": {
    "hash": "5238573367df39f7286bb46f9ff5f08f63a01a80960060ce41e3c79b190280fa"
   }
  }
 },
 "nbformat": 4,
 "nbformat_minor": 2
}
