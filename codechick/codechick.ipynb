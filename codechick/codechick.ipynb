{
 "cells": [
  {
   "cell_type": "code",
   "execution_count": 2,
   "metadata": {},
   "outputs": [
    {
     "name": "stdout",
     "output_type": "stream",
     "text": [
      "8\n"
     ]
    }
   ],
   "source": [
    "def addition(number):\n",
    "    return number + 1\n",
    "\n",
    "print(f'{addition(7)}')"
   ]
  },
  {
   "cell_type": "code",
   "execution_count": 3,
   "metadata": {},
   "outputs": [
    {
     "name": "stdout",
     "output_type": "stream",
     "text": [
      "180\n"
     ]
    }
   ],
   "source": [
    "def convert_minutes_2_seconds(minutes):\n",
    "    return minutes * 60\n",
    "\n",
    "print(f'{convert_minutes_2_seconds(3)}')"
   ]
  },
  {
   "cell_type": "code",
   "execution_count": 5,
   "metadata": {},
   "outputs": [
    {
     "name": "stdout",
     "output_type": "stream",
     "text": [
      "6.0\n"
     ]
    }
   ],
   "source": [
    "def triangle_area(base, height):\n",
    "    return base * height / 2\n",
    "\n",
    "print(f'{triangle_area(6, 2)}')"
   ]
  },
  {
   "cell_type": "code",
   "execution_count": 7,
   "metadata": {},
   "outputs": [
    {
     "name": "stdout",
     "output_type": "stream",
     "text": [
      "7200\n"
     ]
    }
   ],
   "source": [
    "def convert_hours_2_seconds(hours):\n",
    "    return hours * 3600\n",
    "\n",
    "print(f'{convert_hours_2_seconds(2)}')"
   ]
  },
  {
   "cell_type": "code",
   "execution_count": 9,
   "metadata": {},
   "outputs": [
    {
     "name": "stdout",
     "output_type": "stream",
     "text": [
      "23725\n"
     ]
    }
   ],
   "source": [
    "def convert_age_2_days(years):\n",
    "    return years * 365\n",
    "\n",
    "print(f'{convert_age_2_days(65)}')"
   ]
  },
  {
   "cell_type": "code",
   "execution_count": 15,
   "metadata": {},
   "outputs": [
    {
     "name": "stdout",
     "output_type": "stream",
     "text": [
      "0\n"
     ]
    }
   ],
   "source": [
    "def remainder(x: int | float, y: int | float):\n",
    "    return x % y\n",
    "\n",
    "print(f'{remainder(8, 2)}')"
   ]
  },
  {
   "cell_type": "code",
   "execution_count": 17,
   "metadata": {},
   "outputs": [
    {
     "name": "stdout",
     "output_type": "stream",
     "text": [
      "99\n"
     ]
    }
   ],
   "source": [
    "def convert_string_2_int(txt):\n",
    "    return int(txt)\n",
    "\n",
    "print(f'{convert_string_2_int(\"99\")}')"
   ]
  },
  {
   "cell_type": "code",
   "execution_count": 18,
   "metadata": {},
   "outputs": [
    {
     "data": {
      "text/plain": [
       "100"
      ]
     },
     "execution_count": 18,
     "metadata": {},
     "output_type": "execute_result"
    }
   ],
   "source": [
    "def circuit_power(voltage, current):\n",
    "    return voltage * current\n",
    "\n",
    "circuit_power(10, 10)"
   ]
  },
  {
   "cell_type": "code",
   "execution_count": 20,
   "metadata": {},
   "outputs": [
    {
     "data": {
      "text/plain": [
       "16"
      ]
     },
     "execution_count": 20,
     "metadata": {},
     "output_type": "execute_result"
    }
   ],
   "source": [
    "def find_rectangle_perimeter(length, width):\n",
    "    return length * 2 + width * 2\n",
    "\n",
    "find_rectangle_perimeter(3, 5)"
   ]
  },
  {
   "cell_type": "code",
   "execution_count": 29,
   "metadata": {},
   "outputs": [
    {
     "data": {
      "text/plain": [
       "1"
      ]
     },
     "execution_count": 29,
     "metadata": {},
     "output_type": "execute_result"
    }
   ],
   "source": [
    "def get_first_element(elements):\n",
    "    if len(elements) == 0:\n",
    "        return None\n",
    "    else:\n",
    "        return elements[0]\n",
    "\n",
    "get_first_element([1, 3])"
   ]
  },
  {
   "cell_type": "code",
   "execution_count": null,
   "metadata": {},
   "outputs": [],
   "source": [
    "def convert_animals_2_legs(chickens, cows, pigs):\n",
    "    return chickens * 2 + cows * 4 + pigs * 4\n"
   ]
  },
  {
   "cell_type": "code",
   "execution_count": null,
   "metadata": {},
   "outputs": [],
   "source": [
    "def convert_hours_minutes_2_seconds(hours, minutes):\n",
    "    return hours * 3600 + minutes * 60\n",
    "\n"
   ]
  },
  {
   "cell_type": "code",
   "execution_count": 30,
   "metadata": {},
   "outputs": [
    {
     "data": {
      "text/plain": [
       "8"
      ]
     },
     "execution_count": 30,
     "metadata": {},
     "output_type": "execute_result"
    }
   ],
   "source": [
    "def football_points(wins, draws, losses):\n",
    "    return wins * 3 + draws * 1 + losses * 0\n",
    "\n",
    "football_points(2, 2, 2)"
   ]
  },
  {
   "cell_type": "code",
   "execution_count": null,
   "metadata": {},
   "outputs": [],
   "source": [
    "def less_than_100(a, b):\n",
    "    return a + b < 100"
   ]
  },
  {
   "cell_type": "code",
   "execution_count": 33,
   "metadata": {},
   "outputs": [
    {
     "name": "stdout",
     "output_type": "stream",
     "text": [
      "23\n"
     ]
    }
   ],
   "source": [
    "def difference(nums):\n",
    "    return max(nums) - min(nums)\n",
    "\n",
    "print(f'{difference([10, 15, 25, 2, 10, 6])}')"
   ]
  },
  {
   "cell_type": "code",
   "execution_count": 39,
   "metadata": {},
   "outputs": [
    {
     "name": "stdout",
     "output_type": "stream",
     "text": [
      "45\n"
     ]
    }
   ],
   "source": [
    "def sum_of_elements(my_list):\n",
    "    sum = 0\n",
    "    \n",
    "    for i in my_list:\n",
    "        sum = sum + i\n",
    "\n",
    "    return sum\n",
    "\n",
    "print(f'{sum_of_elements([30, 10, 5])}')"
   ]
  },
  {
   "cell_type": "code",
   "execution_count": 42,
   "metadata": {},
   "outputs": [
    {
     "data": {
      "text/plain": [
       "'Hello, Andrew'"
      ]
     },
     "execution_count": 42,
     "metadata": {},
     "output_type": "execute_result"
    }
   ],
   "source": [
    "def hello_name(name):\n",
    "    return f'Hello, {name}'\n",
    "\n",
    "hello_name('Andrew')"
   ]
  },
  {
   "cell_type": "code",
   "execution_count": 44,
   "metadata": {},
   "outputs": [
    {
     "data": {
      "text/plain": [
       "False"
      ]
     },
     "execution_count": 44,
     "metadata": {},
     "output_type": "execute_result"
    }
   ],
   "source": [
    "def divisible(num):\n",
    "    return num % 100 == 0\n",
    "\n",
    "divisible(101)"
   ]
  },
  {
   "cell_type": "code",
   "execution_count": 47,
   "metadata": {},
   "outputs": [
    {
     "data": {
      "text/plain": [
       "15000"
      ]
     },
     "execution_count": 47,
     "metadata": {},
     "output_type": "execute_result"
    }
   ],
   "source": [
    "def frames(minutes, fps):\n",
    "    return (minutes * 60) * fps\n",
    "\n",
    "frames(10, 25)"
   ]
  },
  {
   "cell_type": "code",
   "execution_count": 51,
   "metadata": {},
   "outputs": [
    {
     "data": {
      "text/plain": [
       "True"
      ]
     },
     "execution_count": 51,
     "metadata": {},
     "output_type": "execute_result"
    }
   ],
   "source": [
    "def is_empty(string):\n",
    "    return string == ''\n",
    "\n",
    "is_empty('')"
   ]
  },
  {
   "cell_type": "code",
   "execution_count": 56,
   "metadata": {},
   "outputs": [
    {
     "data": {
      "text/plain": [
       "True"
      ]
     },
     "execution_count": 56,
     "metadata": {},
     "output_type": "execute_result"
    }
   ],
   "source": [
    "def divides_evenly(a, b):\n",
    "    return a % b == 0\n",
    "\n",
    "\n",
    "divides_evenly(3, 3)"
   ]
  },
  {
   "cell_type": "code",
   "execution_count": 58,
   "metadata": {},
   "outputs": [
    {
     "data": {
      "text/plain": [
       "'четное'"
      ]
     },
     "execution_count": 58,
     "metadata": {},
     "output_type": "execute_result"
    }
   ],
   "source": [
    "def isEvenOrOdd(number):\n",
    "    if number % 2 == 0:\n",
    "        return 'четное'\n",
    "    else:\n",
    "        return 'нечетное'\n",
    "    \n",
    "isEvenOrOdd(2)\n"
   ]
  },
  {
   "cell_type": "code",
   "execution_count": 60,
   "metadata": {},
   "outputs": [
    {
     "data": {
      "text/plain": [
       "1024"
      ]
     },
     "execution_count": 60,
     "metadata": {},
     "output_type": "execute_result"
    }
   ],
   "source": [
    "def pos_com(number):\n",
    "\treturn 2**number\n",
    "\n",
    "pos_com(10)"
   ]
  },
  {
   "cell_type": "code",
   "execution_count": 65,
   "metadata": {},
   "outputs": [
    {
     "data": {
      "text/plain": [
       "True"
      ]
     },
     "execution_count": 65,
     "metadata": {},
     "output_type": "execute_result"
    }
   ],
   "source": [
    "def flip_bool(boolean):\n",
    "    return not boolean\n",
    "   \n",
    "    \n",
    "flip_bool(False)"
   ]
  },
  {
   "cell_type": "code",
   "execution_count": 72,
   "metadata": {},
   "outputs": [
    {
     "data": {
      "text/plain": [
       "'Goooooogle'"
      ]
     },
     "execution_count": 72,
     "metadata": {},
     "output_type": "execute_result"
    }
   ],
   "source": [
    "def google(number):\n",
    "    store: str = ''\n",
    "    for _ in range(number):\n",
    "        store = store + 'o'\n",
    "\n",
    "    return f'G{store}gle'\n",
    "\n",
    "google(6)"
   ]
  },
  {
   "cell_type": "code",
   "execution_count": 81,
   "metadata": {},
   "outputs": [
    {
     "data": {
      "text/plain": [
       "'ellghho'"
      ]
     },
     "execution_count": 81,
     "metadata": {},
     "output_type": "execute_result"
    }
   ],
   "source": [
    "def new_word(word):\n",
    "    store: str = ''\n",
    "    for i in range(1, len(word)):\n",
    "        store = store + word[i]\n",
    "\n",
    "    return store # word[1:len(word)]\n",
    "\n",
    "new_word('Hellghho')"
   ]
  },
  {
   "cell_type": "code",
   "execution_count": 85,
   "metadata": {},
   "outputs": [
    {
     "data": {
      "text/plain": [
       "0"
      ]
     },
     "execution_count": 85,
     "metadata": {},
     "output_type": "execute_result"
    }
   ],
   "source": [
    "def NOT(num):\n",
    "    return int(not bool(num))\n",
    "\n",
    "def AND(num,num2):\n",
    "    return int(bool(num) and bool(num2))\n",
    "\n",
    "def OR(num,num2):\n",
    "    return int(bool(num) or bool(num2))\n",
    "\n",
    "NOT(-1)\n"
   ]
  },
  {
   "cell_type": "code",
   "execution_count": 2,
   "metadata": {},
   "outputs": [
    {
     "name": "stdout",
     "output_type": "stream",
     "text": [
      "0 1\n",
      "1 2\n",
      "2 4\n",
      "0 H\n",
      "1 e\n",
      "2 l\n",
      "3 l\n",
      "4 o\n"
     ]
    }
   ],
   "source": [
    "# https://codechick.io/challenges/81\n",
    "\n",
    "numbers = [1, 2, 4]\n",
    "\n",
    "for i, v in enumerate(numbers):\n",
    "    print(i, v)\n",
    "\n",
    "s = 'Hello'\n",
    "for i, v in enumerate(s):\n",
    "    print(i, v)"
   ]
  },
  {
   "cell_type": "code",
   "execution_count": 3,
   "metadata": {},
   "outputs": [
    {
     "data": {
      "text/plain": [
       "140717731074888"
      ]
     },
     "execution_count": 3,
     "metadata": {},
     "output_type": "execute_result"
    }
   ],
   "source": [
    "x = 2\n",
    "id(x)"
   ]
  },
  {
   "cell_type": "code",
   "execution_count": null,
   "metadata": {},
   "outputs": [],
   "source": [
    "def are_numbers_equal(a, b):\n",
    "    return a == b"
   ]
  },
  {
   "cell_type": "code",
   "execution_count": null,
   "metadata": {},
   "outputs": [],
   "source": [
    "import sys\n",
    "\n",
    "\n",
    "def find_smallest_number(my_list):\n",
    "\n",
    "    min = sys.maxsize\n",
    "    for x in my_list:\n",
    "        if x < min:\n",
    "            min = x\n",
    "\n",
    "    return min"
   ]
  },
  {
   "cell_type": "code",
   "execution_count": null,
   "metadata": {},
   "outputs": [],
   "source": [
    "def less_than_100(a, b):\n",
    "\treturn a + b < 100"
   ]
  },
  {
   "cell_type": "code",
   "execution_count": 9,
   "metadata": {},
   "outputs": [
    {
     "data": {
      "text/plain": [
       "0"
      ]
     },
     "execution_count": 9,
     "metadata": {},
     "output_type": "execute_result"
    }
   ],
   "source": [
    "def flip_bool(boolean):\n",
    "    return int(not bool(boolean))\n",
    "\n",
    "flip_bool(1)"
   ]
  },
  {
   "cell_type": "code",
   "execution_count": null,
   "metadata": {},
   "outputs": [],
   "source": [
    "def new_word(word):\n",
    "    return word[1:len(word)]"
   ]
  },
  {
   "cell_type": "code",
   "execution_count": 12,
   "metadata": {},
   "outputs": [
    {
     "data": {
      "text/plain": [
       "0"
      ]
     },
     "execution_count": 12,
     "metadata": {},
     "output_type": "execute_result"
    }
   ],
   "source": [
    "def distance_home(my_list):\n",
    "    return abs(sum(my_list))\n",
    "\n",
    "\n",
    "distance_home([3, 4, -5, -2])\n"
   ]
  },
  {
   "cell_type": "code",
   "execution_count": 15,
   "metadata": {},
   "outputs": [
    {
     "data": {
      "text/plain": [
       "False"
      ]
     },
     "execution_count": 15,
     "metadata": {},
     "output_type": "execute_result"
    }
   ],
   "source": [
    "def should_serve_drinks(age, on_break):\n",
    "    return age >= 18 and not on_break\n",
    "\n",
    "should_serve_drinks(17, False)"
   ]
  },
  {
   "cell_type": "code",
   "execution_count": null,
   "metadata": {},
   "outputs": [],
   "source": [
    "def flip(y):\n",
    "    return int(not bool(y))"
   ]
  },
  {
   "cell_type": "code",
   "execution_count": 17,
   "metadata": {},
   "outputs": [
    {
     "data": {
      "text/plain": [
       "54"
      ]
     },
     "execution_count": 17,
     "metadata": {},
     "output_type": "execute_result"
    }
   ],
   "source": [
    "def how_many_stickers(n):\n",
    "    return n**2 * 6\n",
    "\n",
    "how_many_stickers(3)"
   ]
  },
  {
   "cell_type": "code",
   "execution_count": 29,
   "metadata": {},
   "outputs": [
    {
     "data": {
      "text/plain": [
       "1.0"
      ]
     },
     "execution_count": 29,
     "metadata": {},
     "output_type": "execute_result"
    }
   ],
   "source": [
    "def inches_to_feet(inches):\n",
    "\treturn inches / 12 if inches >= 12 else 0\n",
    "\n",
    "inches_to_feet(12)"
   ]
  },
  {
   "cell_type": "code",
   "execution_count": 35,
   "metadata": {},
   "outputs": [
    {
     "data": {
      "text/plain": [
       "True"
      ]
     },
     "execution_count": 35,
     "metadata": {},
     "output_type": "execute_result"
    }
   ],
   "source": [
    "def is_safe_bridge(s):\n",
    "    for x in s:\n",
    "        if x == ' ':\n",
    "            return False\n",
    "    return True\n",
    "\n",
    "is_safe_bridge('11111111')"
   ]
  },
  {
   "cell_type": "code",
   "execution_count": 38,
   "metadata": {},
   "outputs": [
    {
     "data": {
      "text/plain": [
       "\"it's a good day\""
      ]
     },
     "execution_count": 38,
     "metadata": {},
     "output_type": "execute_result"
    }
   ],
   "source": [
    "def has_bugs(buggy_code):\n",
    "\tif buggy_code:\n",
    "\t\treturn 'sad days'\n",
    "\telse:\n",
    "\t\treturn 'it\\'s a good day'\n",
    "\t\n",
    "has_bugs(False)"
   ]
  },
  {
   "cell_type": "code",
   "execution_count": 6,
   "metadata": {},
   "outputs": [
    {
     "data": {
      "text/plain": [
       "1"
      ]
     },
     "execution_count": 6,
     "metadata": {},
     "output_type": "execute_result"
    }
   ],
   "source": [
    "def flip_bool(boolean):\n",
    "    return int(not bool(boolean))\n",
    "\n",
    "flip_bool(False)"
   ]
  },
  {
   "cell_type": "code",
   "execution_count": 8,
   "metadata": {},
   "outputs": [
    {
     "data": {
      "text/plain": [
       "'toxic'"
      ]
     },
     "execution_count": 8,
     "metadata": {},
     "output_type": "execute_result"
    }
   ],
   "source": [
    "def new_word(word):\n",
    "    return word[1:len(word)]\n",
    "\n",
    "new_word('toxic')"
   ]
  },
  {
   "cell_type": "code",
   "execution_count": null,
   "metadata": {},
   "outputs": [],
   "source": [
    "def has_key(dictionary, key):\n",
    "    return dictionary.get(key) is not None"
   ]
  },
  {
   "cell_type": "code",
   "execution_count": null,
   "metadata": {},
   "outputs": [],
   "source": [
    "def how_many_potatoes(some_string):\n",
    "    count = 0\n",
    "    word_list = some_string.split(', ')\n",
    "    for word in word_list:\n",
    "        if word == 'картошка':\n",
    "            count += 1\n",
    "    \n",
    "    return count\n",
    "\n",
    "how_many_potatoes(\"лук, картошка, капуста, картошка, лук, картошка, капуста, картошка\")"
   ]
  },
  {
   "cell_type": "code",
   "execution_count": 42,
   "metadata": {},
   "outputs": [
    {
     "data": {
      "text/plain": [
       "False"
      ]
     },
     "execution_count": 42,
     "metadata": {},
     "output_type": "execute_result"
    }
   ],
   "source": [
    "def is_empty(dictionary):\n",
    "    return len(dictionary) == 0\n",
    "\n",
    "\n",
    "is_empty({'a': 3})"
   ]
  },
  {
   "cell_type": "code",
   "execution_count": 52,
   "metadata": {},
   "outputs": [
    {
     "data": {
      "text/plain": [
       "True"
      ]
     },
     "execution_count": 52,
     "metadata": {},
     "output_type": "execute_result"
    }
   ],
   "source": [
    "def match(s1, s2):\n",
    "\treturn s1.lower() == s2.lower()\n",
    "\n",
    "match(\"коД\", \"код\")"
   ]
  },
  {
   "cell_type": "code",
   "execution_count": 1,
   "metadata": {},
   "outputs": [
    {
     "data": {
      "text/plain": [
       "4"
      ]
     },
     "execution_count": 1,
     "metadata": {},
     "output_type": "execute_result"
    }
   ],
   "source": [
    "dict_ = {'name': 'Leo', 'age': 48}\n",
    "\n",
    "tuple_ = (1, 2, 3)\n",
    "\n",
    "list_ = [1, 2, 3, 4]\n",
    "\n",
    "list_[-1]\n"
   ]
  },
  {
   "cell_type": "code",
   "execution_count": null,
   "metadata": {},
   "outputs": [],
   "source": [
    "def convert_age_2_days(years):\n",
    "    return years * 365"
   ]
  },
  {
   "cell_type": "code",
   "execution_count": null,
   "metadata": {},
   "outputs": [],
   "source": [
    "def less_than_100(a, b):\n",
    "    return a + b < 100"
   ]
  },
  {
   "cell_type": "code",
   "execution_count": null,
   "metadata": {},
   "outputs": [],
   "source": [
    "def flip_bool(boolean):\n",
    "    return int(not bool(boolean))"
   ]
  },
  {
   "cell_type": "code",
   "execution_count": 3,
   "metadata": {},
   "outputs": [
    {
     "data": {
      "text/plain": [
       "True"
      ]
     },
     "execution_count": 3,
     "metadata": {},
     "output_type": "execute_result"
    }
   ],
   "source": [
    "def match(s1, s2):\n",
    "    return s1.lower() == s2.lower()\n",
    "\n",
    "match(\"привет\", \"прИВеТ\")"
   ]
  },
  {
   "cell_type": "code",
   "execution_count": 14,
   "metadata": {},
   "outputs": [
    {
     "data": {
      "text/plain": [
       "1"
      ]
     },
     "execution_count": 14,
     "metadata": {},
     "output_type": "execute_result"
    }
   ],
   "source": [
    "def last_ind(lst):\n",
    "    return None if len(lst) == 0 else lst[-1]\n",
    "\n",
    "last_ind([1])"
   ]
  },
  {
   "cell_type": "code",
   "execution_count": 16,
   "metadata": {},
   "outputs": [
    {
     "data": {
      "text/plain": [
       "-2"
      ]
     },
     "execution_count": 16,
     "metadata": {},
     "output_type": "execute_result"
    }
   ],
   "source": [
    "def get_vote_count(votes):\n",
    "    return votes['лайки'] - votes['дизлайки']\n",
    "\n",
    "get_vote_count({ \"лайки\": 13, \"дизлайки\": 15 })"
   ]
  },
  {
   "cell_type": "code",
   "execution_count": null,
   "metadata": {},
   "outputs": [],
   "source": [
    "def calc_kinetic_energy(m, v):\n",
    "    return round((m * v**2) / 2)"
   ]
  },
  {
   "cell_type": "code",
   "execution_count": 18,
   "metadata": {},
   "outputs": [
    {
     "data": {
      "text/plain": [
       "0"
      ]
     },
     "execution_count": 18,
     "metadata": {},
     "output_type": "execute_result"
    }
   ],
   "source": [
    "def count_true(my_list):\n",
    "    count = 0\n",
    "    for flag in my_list:\n",
    "        if flag:\n",
    "            count += 1\n",
    "    \n",
    "    return count\n",
    "\n",
    "count_true([])"
   ]
  },
  {
   "cell_type": "code",
   "execution_count": 21,
   "metadata": {},
   "outputs": [
    {
     "data": {
      "text/plain": [
       "''"
      ]
     },
     "execution_count": 21,
     "metadata": {},
     "output_type": "execute_result"
    }
   ],
   "source": [
    "def get_filename(path):\n",
    "    return path.split('/')[-1]\n",
    "\n",
    "get_filename(\"\")"
   ]
  },
  {
   "cell_type": "code",
   "execution_count": 24,
   "metadata": {},
   "outputs": [
    {
     "data": {
      "text/plain": [
       "3"
      ]
     },
     "execution_count": 24,
     "metadata": {},
     "output_type": "execute_result"
    }
   ],
   "source": [
    "def count_syllables(string):\n",
    "    count = 0\n",
    "    for s in string.lower():\n",
    "        if s in ['e', 'o', 'i', 'u', 'a', 'y']:\n",
    "            count += 1\n",
    "    \n",
    "    return count\n",
    "\n",
    "count_syllables('dedoffffffu')"
   ]
  },
  {
   "cell_type": "code",
   "execution_count": 46,
   "metadata": {},
   "outputs": [
    {
     "data": {
      "text/plain": [
       "False"
      ]
     },
     "execution_count": 46,
     "metadata": {},
     "output_type": "execute_result"
    }
   ],
   "source": [
    "def nothing_is_nothing(*args):\n",
    "    for arg in args:\n",
    "        if not bool(arg):\n",
    "            return False\n",
    "    \n",
    "    return True\n",
    "\n",
    "\n",
    "nothing_is_nothing(1, False, [], {})"
   ]
  },
  {
   "cell_type": "code",
   "execution_count": 54,
   "metadata": {},
   "outputs": [
    {
     "data": {
      "text/plain": [
       "'DFgffffffffffffffffffFH'"
      ]
     },
     "execution_count": 54,
     "metadata": {},
     "output_type": "execute_result"
    }
   ],
   "source": [
    "def reverse_case(string):\n",
    "    sum = ''\n",
    "    for s in string:\n",
    "        if s.isupper():\n",
    "            sum = sum + s.lower()\n",
    "        else:\n",
    "            sum = sum + s.upper()\n",
    "    \n",
    "    return sum\n",
    "\n",
    "reverse_case('dfGFFFFFFFFFFFFFFFFFFfh')"
   ]
  },
  {
   "cell_type": "code",
   "execution_count": 67,
   "metadata": {},
   "outputs": [
    {
     "data": {
      "text/plain": [
       "'восемь'"
      ]
     },
     "execution_count": 67,
     "metadata": {},
     "output_type": "execute_result"
    }
   ],
   "source": [
    "def convert_number_2_word(number):\n",
    "    \n",
    "    decoder = {\n",
    "        1: 'один',\n",
    "        2: 'два', \n",
    "        3: 'три', \n",
    "        4: 'четыре', \n",
    "        5: 'пять', \n",
    "        6: 'шесть', \n",
    "        7: 'семь', \n",
    "        8: 'восемь', \n",
    "        9: 'девять', \n",
    "        0: 'ноль'\n",
    "    }\n",
    "    \n",
    "    return decoder[number]\n",
    "\n",
    "convert_number_2_word(8)"
   ]
  },
  {
   "cell_type": "code",
   "execution_count": 9,
   "metadata": {},
   "outputs": [
    {
     "data": {
      "text/plain": [
       "1"
      ]
     },
     "execution_count": 9,
     "metadata": {},
     "output_type": "execute_result"
    }
   ],
   "source": [
    "numbers = [1, 2, 3, 4]\n",
    "# t = (1, 2, 3 ,4, 5)\n",
    "\n",
    "m = (3 * n for n in numbers if n > 2)\n",
    "numbers.count(1)"
   ]
  },
  {
   "cell_type": "code",
   "execution_count": 14,
   "metadata": {},
   "outputs": [
    {
     "name": "stdout",
     "output_type": "stream",
     "text": [
      "Leo 48\n"
     ]
    }
   ],
   "source": [
    "name, age = (\"Leo\", 48)\n",
    "print(name, age)\n"
   ]
  },
  {
   "cell_type": "code",
   "execution_count": 8,
   "metadata": {},
   "outputs": [
    {
     "name": "stdout",
     "output_type": "stream",
     "text": [
      "\\test_folder\\test_file.dat \\test_folder\\test_file.dat\n"
     ]
    }
   ],
   "source": [
    "import pathlib\n",
    "\n",
    "path1 = pathlib.Path('/test_folder/') / pathlib.Path('test_file.dat')\n",
    "\n",
    "print(str(path1))\n"
   ]
  },
  {
   "cell_type": "code",
   "execution_count": 69,
   "metadata": {},
   "outputs": [
    {
     "data": {
      "text/plain": [
       "'нижний'"
      ]
     },
     "execution_count": 69,
     "metadata": {},
     "output_type": "execute_result"
    }
   ],
   "source": [
    "def get_case(string):\n",
    "    all_symbol_is_upper: bool = True\n",
    "    all_symbol_is_lower: bool = True\n",
    "\n",
    "    for s in string :\n",
    "        if s in ['1', '2', '3', '4', '5', '6', '7', '8', '9', '0', ',', '.', ':', ';', ' ', '!']:\n",
    "            continue\n",
    "\n",
    "        if s.isupper():\n",
    "            all_symbol_is_lower = False\n",
    "        else:\n",
    "            all_symbol_is_upper = False\n",
    "    \n",
    "    if all_symbol_is_upper:\n",
    "        return 'верхний'\n",
    "    \n",
    "    if not(all_symbol_is_upper or all_symbol_is_lower):\n",
    "         return 'смешанный'\n",
    "    \n",
    "\n",
    "    return 'нижний'\n",
    "\n",
    "\n",
    "\n",
    "get_case('whisper...')"
   ]
  },
  {
   "cell_type": "code",
   "execution_count": null,
   "metadata": {},
   "outputs": [],
   "source": [
    "def is_truthy(val):\n",
    "    return int(bool(val))\n",
    "\n"
   ]
  },
  {
   "cell_type": "code",
   "execution_count": 74,
   "metadata": {},
   "outputs": [
    {
     "data": {
      "text/plain": [
       "(0, 1, 0)"
      ]
     },
     "execution_count": 74,
     "metadata": {},
     "output_type": "execute_result"
    }
   ],
   "source": [
    "def calculate_scores(string):\n",
    "    count_А = 0\n",
    "    count_Б = 0\n",
    "    count_В = 0\n",
    "    \n",
    "    for s in string:\n",
    "        if s == 'A':\n",
    "            count_А = count_А + 1\n",
    "        \n",
    "        if s == 'Б':\n",
    "            count_Б = count_Б + 1\n",
    "\n",
    "        if s == 'B':\n",
    "            count_В = count_В + 1\n",
    "\n",
    "\n",
    "    return count_А, count_Б, count_В\n",
    "\n",
    "calculate_scores('ААБВ')"
   ]
  },
  {
   "cell_type": "code",
   "execution_count": 87,
   "metadata": {},
   "outputs": [
    {
     "data": {
      "text/plain": [
       "[3, 2, 1]"
      ]
     },
     "execution_count": 87,
     "metadata": {},
     "output_type": "execute_result"
    }
   ],
   "source": [
    "def calculate_scores(string):\n",
    "    count_A = 0\n",
    "    count_Б = 0\n",
    "    count_B = 0\n",
    "    \n",
    "    for s in string:\n",
    "        if s == 'А':\n",
    "            count_A = count_A + 1\n",
    "        \n",
    "        if s == 'Б':\n",
    "            count_Б = count_Б + 1\n",
    "\n",
    "        if s == 'В':\n",
    "            count_B = count_B + 1\n",
    "\n",
    "\n",
    "    return [count_A, count_Б, count_B]\n",
    "\n",
    "calculate_scores('АААВББ')"
   ]
  },
  {
   "cell_type": "code",
   "execution_count": 1,
   "metadata": {},
   "outputs": [
    {
     "data": {
      "text/plain": [
       "'REWQ'"
      ]
     },
     "execution_count": 1,
     "metadata": {},
     "output_type": "execute_result"
    }
   ],
   "source": [
    "def reverse_capitalize(txt):\n",
    "    store = str()\n",
    "    for s in txt:\n",
    "        store = s + store\n",
    "\n",
    "    return store.upper()\n",
    "\n",
    "reverse_capitalize('qwer')"
   ]
  },
  {
   "cell_type": "code",
   "execution_count": 8,
   "metadata": {},
   "outputs": [
    {
     "data": {
      "text/plain": [
       "\"['a', 'b', 'c']\""
      ]
     },
     "execution_count": 8,
     "metadata": {},
     "output_type": "execute_result"
    }
   ],
   "source": [
    "def sort_word(word):\n",
    "    sorted_word = sorted(word)\n",
    "    new_word = str()\n",
    "    for s in sorted_word:\n",
    "        new_word = new_word + s\n",
    "\n",
    "    return new_word\n",
    "\n",
    "sort_word('bca')"
   ]
  },
  {
   "cell_type": "code",
   "execution_count": 19,
   "metadata": {},
   "outputs": [
    {
     "data": {
      "text/plain": [
       "[3, 5, 7, 9]"
      ]
     },
     "execution_count": 19,
     "metadata": {},
     "output_type": "execute_result"
    }
   ],
   "source": [
    "def increment_items(my_list):\n",
    "    for i, _ in enumerate(my_list):\n",
    "        my_list[i] += 1\n",
    "\n",
    "    return my_list\n",
    "\n",
    "increment_items([2, 4, 6, 8])"
   ]
  },
  {
   "cell_type": "code",
   "execution_count": null,
   "metadata": {},
   "outputs": [],
   "source": [
    "d = {'a': 1, 'b': 2}\n",
    "\n",
    "for  i, k in enumerate(d):\n",
    "    print(k)\n",
    "\n",
    "print()\n",
    "\n",
    "l = [1, 2, 3, 4, 5]\n",
    "\n",
    "for i, v in enumerate(l):\n",
    "    print(v)\n",
    "\n",
    "print()\n",
    "\n",
    "t = ('a', 'b', 'c', 'd')\n",
    "\n",
    "for i, v in enumerate(t):\n",
    "    print(v)"
   ]
  },
  {
   "cell_type": "code",
   "execution_count": 33,
   "metadata": {},
   "outputs": [
    {
     "data": {
      "text/plain": [
       "True"
      ]
     },
     "execution_count": 33,
     "metadata": {},
     "output_type": "execute_result"
    }
   ],
   "source": [
    "def is_palindrome(word):\n",
    "    store = str()\n",
    "\n",
    "    for s in word:\n",
    "        store = s + store\n",
    "\n",
    "    return word == store\n",
    "\n",
    "is_palindrome('mom')"
   ]
  },
  {
   "cell_type": "code",
   "execution_count": null,
   "metadata": {},
   "outputs": [],
   "source": [
    "def volume_of_box(sizes):\n",
    "    return sizes['ширина'] * sizes['длина'] * sizes['высота']"
   ]
  },
  {
   "cell_type": "code",
   "execution_count": 44,
   "metadata": {},
   "outputs": [
    {
     "data": {
      "text/plain": [
       "True"
      ]
     },
     "execution_count": 44,
     "metadata": {},
     "output_type": "execute_result"
    }
   ],
   "source": [
    "def free_shipping(order):\n",
    "    sum = 0\n",
    "\n",
    "    for i, k in enumerate(order):\n",
    "        sum += order[k]\n",
    "    \n",
    "    return sum >= 50\n",
    "free_shipping({ \"Monopoly\": 11.99, \"Secret Hitler\": 35.99, \"Bananagrams\": 13.99 })"
   ]
  },
  {
   "cell_type": "code",
   "execution_count": 46,
   "metadata": {},
   "outputs": [
    {
     "data": {
      "text/plain": [
       "True"
      ]
     },
     "execution_count": 46,
     "metadata": {},
     "output_type": "execute_result"
    }
   ],
   "source": [
    "def test_jackpot(result):\n",
    "    first_item = result[0]\n",
    "    for v in result:\n",
    "        if v != first_item:\n",
    "            return False\n",
    "        \n",
    "    return True\n",
    "\n",
    "test_jackpot([\"АА\", \"АА\", \"АА\", \"АА\"])"
   ]
  },
  {
   "cell_type": "code",
   "execution_count": 50,
   "metadata": {},
   "outputs": [
    {
     "data": {
      "text/plain": [
       "['html', 'css']"
      ]
     },
     "execution_count": 50,
     "metadata": {},
     "output_type": "execute_result"
    }
   ],
   "source": [
    "def get_extension(lst):\n",
    "    extensions = []\n",
    "    for s in lst:\n",
    "        extensions.append(s.split('.')[-1])\n",
    "\n",
    "    return extensions\n",
    "\n",
    "get_extension([\"код.html\", \"код.css\"])"
   ]
  },
  {
   "cell_type": "code",
   "execution_count": 52,
   "metadata": {},
   "outputs": [
    {
     "data": {
      "text/plain": [
       "True"
      ]
     },
     "execution_count": 52,
     "metadata": {},
     "output_type": "execute_result"
    }
   ],
   "source": [
    "def not_not_not(n, b):\n",
    "    acc = b\n",
    "\n",
    "    for _ in range(n):\n",
    "        acc = not acc\n",
    "\n",
    "    return acc\n",
    "\n",
    "not_not_not(6, True)"
   ]
  },
  {
   "cell_type": "code",
   "execution_count": 3,
   "metadata": {},
   "outputs": [
    {
     "data": {
      "text/plain": [
       "'You FAILED the Exam'"
      ]
     },
     "execution_count": 3,
     "metadata": {},
     "output_type": "execute_result"
    }
   ],
   "source": [
    "def grade_percentage(user_score, pass_score):\n",
    "\ts = ''\n",
    "\tif int(user_score[:-1]) < int(pass_score[:-1]):\n",
    "\t\ts = 'FAILED'\n",
    "\telse:\n",
    "\t\ts = 'PASSED'\n",
    "\n",
    "\treturn f'You {s} the Exam'\n",
    "\n",
    "grade_percentage(\"77%\", \"85%\")"
   ]
  },
  {
   "cell_type": "code",
   "execution_count": 15,
   "metadata": {},
   "outputs": [
    {
     "data": {
      "text/plain": [
       "'cxz'"
      ]
     },
     "execution_count": 15,
     "metadata": {},
     "output_type": "execute_result"
    }
   ],
   "source": [
    "def alphabet_soup(txt):\n",
    "    acc = ''\n",
    "    symbols = list(txt)\n",
    "    symbols.sort()\n",
    "\n",
    "    for s in symbols:\n",
    "        acc += s\n",
    "\n",
    "    return acc\n",
    "\n",
    "alphabet_soup('zxc')"
   ]
  },
  {
   "cell_type": "code",
   "execution_count": 26,
   "metadata": {},
   "outputs": [
    {
     "data": {
      "text/plain": [
       "['Андрей', 'Вова', 'Иван']"
      ]
     },
     "execution_count": 26,
     "metadata": {},
     "output_type": "execute_result"
    }
   ],
   "source": [
    "def get_student_names(students):\n",
    "    names = []\n",
    "    for i, k in enumerate(students):\n",
    "        names.append(students[k])\n",
    "\n",
    "    names.sort()\n",
    "\n",
    "    return names\n",
    "\n",
    "get_student_names({\n",
    "  \"Студент 1\" : \"Андрей\",\n",
    "  \"Студент 2\" : \"Иван\",\n",
    "  \"Студент 3\" : \"Вова\"\n",
    "})"
   ]
  },
  {
   "cell_type": "code",
   "execution_count": 34,
   "metadata": {},
   "outputs": [
    {
     "data": {
      "text/plain": [
       "'Нельзя делить на 0!'"
      ]
     },
     "execution_count": 34,
     "metadata": {},
     "output_type": "execute_result"
    }
   ],
   "source": [
    "def calculator(number1, operator, number2):\n",
    "    total = 0\n",
    "\n",
    "    if operator == '+':\n",
    "        total = number1 + number2\n",
    "    elif operator == '-':\n",
    "        total = number1 - number2\n",
    "    elif operator == '*':\n",
    "        total = number1 * number2\n",
    "    elif operator == '/':\n",
    "        if number2 == 0:\n",
    "            return \"Нельзя делить на 0!\"\n",
    "        total = int(number1 / number2)\n",
    "\n",
    "\n",
    "    return total\n",
    "\n",
    "calculator(5, \"/\", 0)"
   ]
  },
  {
   "cell_type": "code",
   "execution_count": 41,
   "metadata": {},
   "outputs": [
    {
     "data": {
      "text/plain": [
       "'АВМ'"
      ]
     },
     "execution_count": 41,
     "metadata": {},
     "output_type": "execute_result"
    }
   ],
   "source": [
    "def society_name(friends):\n",
    "    name = ''\n",
    "    friends.sort()\n",
    "    \n",
    "    for s in friends:\n",
    "        name += s[0]\n",
    "\n",
    "\n",
    "    return name\n",
    "\n",
    "society_name([\"Вова\", \"Андрей\", \"Максим\"])"
   ]
  },
  {
   "cell_type": "code",
   "execution_count": 58,
   "metadata": {},
   "outputs": [
    {
     "data": {
      "text/plain": [
       "False"
      ]
     },
     "execution_count": 58,
     "metadata": {},
     "output_type": "execute_result"
    }
   ],
   "source": [
    "def is_subset(list1, list2):\n",
    "    result = True\n",
    "\n",
    "    for s1 in list1:\n",
    "        r = False\n",
    "        for s2 in list2:\n",
    "            if s1 == s2:\n",
    "                r = True\n",
    "                break\n",
    "\n",
    "        result = result and r\n",
    "    \n",
    "    return result\n",
    "\n",
    "\n",
    "\n",
    "is_subset([3, 2, 5], [5, 7, 9, 2])"
   ]
  },
  {
   "cell_type": "code",
   "execution_count": 29,
   "metadata": {},
   "outputs": [
    {
     "data": {
      "text/plain": [
       "0"
      ]
     },
     "execution_count": 29,
     "metadata": {},
     "output_type": "execute_result"
    }
   ],
   "source": [
    "from string import ascii_lowercase\n",
    "\n",
    "s = \"qudusayo\"\n",
    "\n",
    "ascii_lowercase.index('a')"
   ]
  },
  {
   "cell_type": "code",
   "execution_count": 41,
   "metadata": {},
   "outputs": [
    {
     "data": {
      "text/plain": [
       "123"
      ]
     },
     "execution_count": 41,
     "metadata": {},
     "output_type": "execute_result"
    }
   ],
   "source": [
    "from string import ascii_lowercase\n",
    "\n",
    "\n",
    "def how_many_times(message):\n",
    "    total = 0\n",
    "\n",
    "    for s in message:\n",
    "        total = total + ascii_lowercase.index(s) + 1\n",
    "\n",
    "    return total\n",
    "\n",
    "how_many_times('qudusayo')"
   ]
  },
  {
   "cell_type": "code",
   "execution_count": 66,
   "metadata": {},
   "outputs": [
    {
     "data": {
      "text/plain": [
       "'60.7%'"
      ]
     },
     "execution_count": 66,
     "metadata": {},
     "output_type": "execute_result"
    }
   ],
   "source": [
    "def profit_margin(cost_price, sales_price):\n",
    "    return f'{round(((sales_price - cost_price) / sales_price) * 100, 1)}%'\n",
    "    \n",
    "profit_margin(33, 84)"
   ]
  },
  {
   "cell_type": "code",
   "execution_count": 50,
   "metadata": {},
   "outputs": [
    {
     "data": {
      "text/plain": [
       "[3, 2, 4, 4, 1, 1]"
      ]
     },
     "execution_count": 50,
     "metadata": {},
     "output_type": "execute_result"
    }
   ],
   "source": [
    "def move_to_end(my_list, element):\n",
    "    current_list = []\n",
    "    total = 0\n",
    "    for s in my_list:\n",
    "        if s == element:\n",
    "            total += 1\n",
    "        else:\n",
    "            current_list.append(s)\n",
    "\n",
    "    for _ in range(total):\n",
    "        current_list.append(element)\n",
    "    \n",
    "    return current_list\n",
    "\n",
    "move_to_end([1, 3, 2, 4, 4, 1], 1)"
   ]
  },
  {
   "cell_type": "code",
   "execution_count": 2,
   "metadata": {},
   "outputs": [
    {
     "data": {
      "text/plain": [
       "[1, 2, 3, 7, [1, 2, 3, 7]]"
      ]
     },
     "execution_count": 2,
     "metadata": {},
     "output_type": "execute_result"
    }
   ],
   "source": [
    "def clone(my_list: list):\n",
    "    \n",
    "    my_list.append(my_list.copy())\n",
    "\n",
    "    return my_list\n",
    "\n",
    "clone([1, 2, 3, 7])"
   ]
  },
  {
   "cell_type": "code",
   "execution_count": 23,
   "metadata": {},
   "outputs": [
    {
     "data": {
      "text/plain": [
       "'GFgDS'"
      ]
     },
     "execution_count": 23,
     "metadata": {},
     "output_type": "execute_result"
    }
   ],
   "source": [
    "def reverse(string: str) -> str:\n",
    "    total: str = str()\n",
    "\n",
    "    for symbol in string:\n",
    "        if symbol.islower():\n",
    "            symbol = symbol.upper()\n",
    "        else:\n",
    "            symbol = symbol.lower()\n",
    "        total = total + symbol\n",
    "\n",
    "    return total[::-1]\n",
    "\n",
    "reverse('sdGfg')"
   ]
  },
  {
   "cell_type": "code",
   "execution_count": 32,
   "metadata": {},
   "outputs": [
    {
     "data": {
      "text/plain": [
       "'TNEMmove'"
      ]
     },
     "execution_count": 32,
     "metadata": {},
     "output_type": "execute_result"
    }
   ],
   "source": [
    "def cap_to_front(word):\n",
    "    total_1 = ''\n",
    "\n",
    "\n",
    "    for s in word:\n",
    "        if s.isupper():\n",
    "            total_1 = s + total_1\n",
    "        else:\n",
    "            total_1 += s\n",
    "\n",
    "    return total_1\n",
    "\n",
    "cap_to_front('moveMENT')"
   ]
  },
  {
   "cell_type": "code",
   "execution_count": 71,
   "metadata": {},
   "outputs": [
    {
     "data": {
      "text/plain": [
       "['Даня']"
      ]
     },
     "execution_count": 71,
     "metadata": {},
     "output_type": "execute_result"
    }
   ],
   "source": [
    "def remove_enemies(names, enemies):\n",
    "    friends = []\n",
    "\n",
    "    for name in names:\n",
    "        if name not in enemies:\n",
    "            friends.append(name)\n",
    "            \n",
    "    return friends\n",
    "\n",
    "remove_enemies([\"Катя\", \"Маша\", \"Даня\", \"Маша\"], [\"Маша\", 'Катя'])"
   ]
  },
  {
   "cell_type": "code",
   "execution_count": 74,
   "metadata": {},
   "outputs": [
    {
     "data": {
      "text/plain": [
       "['Даня']"
      ]
     },
     "execution_count": 74,
     "metadata": {},
     "output_type": "execute_result"
    }
   ],
   "source": [
    "def remove_enemies(names, enemies):\n",
    "    friends = []\n",
    "\n",
    "    for name in names:\n",
    "        is_enemy = False\n",
    "        for enemy in enemies:\n",
    "            if name == enemy:\n",
    "                is_enemy = True\n",
    "                break\n",
    "        if not is_enemy:\n",
    "            friends.append(name)\n",
    "\n",
    "    return friends\n",
    "\n",
    "remove_enemies([\"Катя\", \"Маша\", \"Даня\", \"Маша\"], [\"Маша\", 'Катя'])"
   ]
  },
  {
   "cell_type": "code",
   "execution_count": 105,
   "metadata": {},
   "outputs": [
    {
     "data": {
      "text/plain": [
       "4"
      ]
     },
     "execution_count": 105,
     "metadata": {},
     "output_type": "execute_result"
    }
   ],
   "source": [
    "def hamming_distance(string1: str, string2: str):\n",
    "    Hamming_distance: int = 0\n",
    "\n",
    "    for i in range (len(string1)):\n",
    "        if string1[i] != string2[i]:\n",
    "            Hamming_distance += 1\n",
    "\n",
    "    return Hamming_distance\n",
    "\n",
    "hamming_distance(\"bacde\", \"bcdef\")"
   ]
  },
  {
   "cell_type": "code",
   "execution_count": 108,
   "metadata": {},
   "outputs": [
    {
     "data": {
      "text/plain": [
       "4"
      ]
     },
     "execution_count": 108,
     "metadata": {},
     "output_type": "execute_result"
    }
   ],
   "source": [
    "def left_digit(string):\n",
    "    for s in string:\n",
    "        if s.isdigit():\n",
    "            return int(s)\n",
    "    \n",
    "left_digit(';j4gfvh;kj1g1')"
   ]
  },
  {
   "cell_type": "code",
   "execution_count": 164,
   "metadata": {},
   "outputs": [
    {
     "data": {
      "text/plain": [
       "'Привет Вова, Привет Боба'"
      ]
     },
     "execution_count": 164,
     "metadata": {},
     "output_type": "execute_result"
    }
   ],
   "source": [
    "def greet_people(names: list):\n",
    "    greeting = ''\n",
    "\n",
    "    for name in names:\n",
    "        greeting = greeting + 'Привет ' + name + ', '\n",
    "\n",
    "\n",
    "    return greeting.strip(', ')\n",
    "\n",
    "greet_people(['Вова', 'Боба'])"
   ]
  },
  {
   "cell_type": "code",
   "execution_count": 220,
   "metadata": {},
   "outputs": [
    {
     "data": {
      "text/plain": [
       "False"
      ]
     },
     "execution_count": 220,
     "metadata": {},
     "output_type": "execute_result"
    }
   ],
   "source": [
    "def is_isogram(word):\n",
    "    string = word.lower()\n",
    "\n",
    "    for s1 in string:\n",
    "        total = 0\n",
    "        for s2 in string:\n",
    "            if s1 == s2:\n",
    "                total += 1\n",
    "        if total >= 2:\n",
    "            return False\n",
    "        \n",
    "    return True\n",
    "\n",
    "is_isogram(\"AlgorismR\")"
   ]
  },
  {
   "cell_type": "code",
   "execution_count": 221,
   "metadata": {},
   "outputs": [
    {
     "name": "stdout",
     "output_type": "stream",
     "text": [
      "lgorism\n"
     ]
    }
   ],
   "source": [
    "word = \"Algorism\"\n",
    "\n",
    "print(word[1:])"
   ]
  },
  {
   "cell_type": "code",
   "execution_count": 232,
   "metadata": {},
   "outputs": [
    {
     "data": {
      "text/plain": [
       "5"
      ]
     },
     "execution_count": 232,
     "metadata": {},
     "output_type": "execute_result"
    }
   ],
   "source": [
    "def steps_to_convert(string):\n",
    "    count_1 = 0\n",
    "    count_2 = 0\n",
    "    \n",
    "    for s in string:\n",
    "        if s.islower():\n",
    "            count_1 += 1\n",
    "        if s.isupper():\n",
    "            count_2 += 1\n",
    "\n",
    "    if count_1 < count_2:\n",
    "        return count_1\n",
    "    else:\n",
    "        return count_2\n",
    "\n",
    "steps_to_convert('ghfghjkFGHJA')"
   ]
  },
  {
   "cell_type": "code",
   "execution_count": 264,
   "metadata": {},
   "outputs": [
    {
     "data": {
      "text/plain": [
       "[1.0, 2.0, 3.0, 5.5]"
      ]
     },
     "execution_count": 264,
     "metadata": {},
     "output_type": "execute_result"
    }
   ],
   "source": [
    "def get_discounts(numbers: list, d):\n",
    "    total = []\n",
    "    result = 0\n",
    "    d = int(d.replace('%', ''))\n",
    "\n",
    "    for number in numbers:\n",
    "        result = number * (d / 100)\n",
    "        total.append(result)\n",
    "\n",
    "    return total\n",
    "\n",
    "get_discounts([2, 4, 6, 11], \"50%\")"
   ]
  },
  {
   "cell_type": "code",
   "execution_count": 255,
   "metadata": {},
   "outputs": [
    {
     "name": "stdout",
     "output_type": "stream",
     "text": [
      "['50', '']\n"
     ]
    }
   ],
   "source": [
    "d = '50%'\n",
    "\n",
    "print(d.split('%'))"
   ]
  },
  {
   "cell_type": "code",
   "execution_count": 1,
   "metadata": {},
   "outputs": [
    {
     "name": "stdout",
     "output_type": "stream",
     "text": [
      "Leo\n",
      "47\n",
      "{1, 2}\n",
      "{'name': 'Mary', 'age': 23, 'email': '@mary@ex.com'}\n",
      "{'name': 'Mary', 'age': 23}\n",
      "{'name': 'Mary', 'age': 23}\n",
      "{'a': 1, 'b': 2}\n"
     ]
    }
   ],
   "source": [
    "my_dict = {'name': 'Leo', 'age': 47}\n",
    "\n",
    "'age' in my_dict\n",
    "\n",
    "for v in my_dict.values():\n",
    "    print(v)\n",
    "\n",
    "my_hashtable = {1, 1, 2}\n",
    "print(my_hashtable)\n",
    "\n",
    "my_dict2 = dict(name='Mary', age=23)\n",
    "my_dict2['email'] = '@mary@ex.com'\n",
    "\n",
    "print(my_dict2)\n",
    "\n",
    "del(my_dict2['email'])\n",
    "\n",
    "print(my_dict2)\n",
    "\n",
    "my_dict2.get('email1', '')\n",
    "print(my_dict2)\n",
    "\n",
    "my_dict3 = my_dict2.copy()\n",
    "\n",
    "merged = {'a': 1} | {'b': 2}\n",
    "\n",
    "print(merged)\n"
   ]
  },
  {
   "cell_type": "code",
   "execution_count": 10,
   "metadata": {},
   "outputs": [
    {
     "data": {
      "text/plain": [
       "{'H', 'a', 'e', 'l', 'o', 's'}"
      ]
     },
     "execution_count": 10,
     "metadata": {},
     "output_type": "execute_result"
    }
   ],
   "source": [
    "s = set('Hello')\n",
    "s.add('s')\n",
    "s\n",
    "\n",
    "merged = s | {'a'}\n",
    "merged"
   ]
  },
  {
   "cell_type": "code",
   "execution_count": null,
   "metadata": {},
   "outputs": [],
   "source": [
    "def correct_spacing(sentence: str):\n",
    "    count = 0\n",
    "\n",
    "    for s in sentence:\n",
    "        if s == ' ':\n",
    "            count += 1\n",
    "        \n",
    "        if count > 1:\n",
    "            s.replace(' ', '')"
   ]
  },
  {
   "cell_type": "code",
   "execution_count": 53,
   "metadata": {},
   "outputs": [
    {
     "name": "stdout",
     "output_type": "stream",
     "text": [
      "sd  fg\n"
     ]
    }
   ],
   "source": [
    "word = 'sd  fg jvdhqbcjki      dfghj'\n",
    "count = 0\n",
    "\n",
    "for s in word:\n",
    "    if s == ' ':\n",
    "        count += 1\n",
    "        \n",
    "    if count > 1:\n",
    "        word.replace(' ', '')\n",
    "\n",
    "    if s != ' ':\n",
    "        count = 0\n",
    "\n",
    "print(word)\n"
   ]
  },
  {
   "cell_type": "code",
   "execution_count": 12,
   "metadata": {},
   "outputs": [
    {
     "data": {
      "text/plain": [
       "'sdf sd fg '"
      ]
     },
     "execution_count": 12,
     "metadata": {},
     "output_type": "execute_result"
    }
   ],
   "source": [
    "def correct_spacing(sentence):\n",
    "    count = 0\n",
    "    new_sentence = list(sentence)\n",
    "\n",
    "    for i, s in enumerate(new_sentence):\n",
    "\n",
    "        if s == ' ':\n",
    "            count += 1\n",
    "\n",
    "        if s != ' ':\n",
    "            count = 0\n",
    "\n",
    "        if count > 1:\n",
    "            new_sentence[i] = ''\n",
    "\n",
    "    if new_sentence[0] == ' ':\n",
    "        new_sentence[0] = ''\n",
    "\n",
    "    if new_sentence[-1] == ' ':\n",
    "        new_sentence[-1] = ''\n",
    "\n",
    "    return ''.join(new_sentence)\n",
    "\n",
    "correct_spacing('             sdf     sd   fg       ')"
   ]
  },
  {
   "cell_type": "code",
   "execution_count": 100,
   "metadata": {},
   "outputs": [
    {
     "name": "stdout",
     "output_type": "stream",
     "text": [
      "AFJDK ND MS DMS \n"
     ]
    }
   ],
   "source": [
    "count = 0\n",
    "word = 'AFJDK              ND                        MS                  DMS                          '\n",
    "new_word_ = list(word)\n",
    "\n",
    "for i, s in enumerate(new_word_):\n",
    "    if s == ' ':\n",
    "        count += 1\n",
    "\n",
    "    if s != ' ':\n",
    "        count = 0\n",
    "\n",
    "    if count > 1:\n",
    "        new_word_[i] = ''\n",
    "\n",
    "print(''.join(new_word_))"
   ]
  },
  {
   "cell_type": "code",
   "execution_count": 19,
   "metadata": {},
   "outputs": [
    {
     "data": {
      "text/plain": [
       "0.5"
      ]
     },
     "execution_count": 19,
     "metadata": {},
     "output_type": "execute_result"
    }
   ],
   "source": [
    "from math import pi\n",
    "\n",
    "def weight(r, h):\n",
    "    v1 = pi * r**2 * h\n",
    "\n",
    "    v2 = v1 / 1000\n",
    "\n",
    "    return round(v2, 2)\n",
    "\n",
    "weight(4, 10)"
   ]
  },
  {
   "cell_type": "code",
   "execution_count": 22,
   "metadata": {},
   "outputs": [
    {
     "data": {
      "text/plain": [
       "51"
      ]
     },
     "execution_count": 22,
     "metadata": {},
     "output_type": "execute_result"
    }
   ],
   "source": [
    "def end_corona(recovers, new_cases, active_cases):\n",
    "    count = 0\n",
    "    \n",
    "    while active_cases > 0:\n",
    "        active_cases = active_cases + new_cases - recovers\n",
    "        count += 1\n",
    "\n",
    "    return count\n",
    "\n",
    "end_corona(3000, 2000, 50699)"
   ]
  },
  {
   "cell_type": "code",
   "execution_count": 59,
   "metadata": {},
   "outputs": [
    {
     "data": {
      "text/plain": [
       "24"
      ]
     },
     "execution_count": 59,
     "metadata": {},
     "output_type": "execute_result"
    }
   ],
   "source": [
    "def multiply_nums(numbers: str):\n",
    "    product = 1\n",
    "    digits = numbers.replace(' ', '').split(',')\n",
    "\n",
    "    for digit in digits:\n",
    "        product = product * int(digit)\n",
    "    \n",
    "    return product\n",
    "\n",
    "multiply_nums(\"1, 2, 3, 4\")"
   ]
  },
  {
   "cell_type": "code",
   "execution_count": 55,
   "metadata": {},
   "outputs": [
    {
     "data": {
      "text/plain": [
       "168"
      ]
     },
     "execution_count": 55,
     "metadata": {},
     "output_type": "execute_result"
    }
   ],
   "source": [
    "def war_of_numbers(lst:list):\n",
    "    sum_1: int = 0\n",
    "    sum_2: int = 0\n",
    "\n",
    "    for number in lst:\n",
    "        if number % 2 == 0:\n",
    "            sum_1 = sum_1 + number\n",
    "        else:\n",
    "            sum_2 = sum_2 + number\n",
    "    \n",
    "    return sum_1 - sum_2 if sum_1 > sum_2 else sum_2 - sum_1 \n",
    "\n",
    "war_of_numbers([5, 9, 45, 6, 2, 7, 34, 8, 6, 90, 5, 243])"
   ]
  },
  {
   "cell_type": "code",
   "execution_count": 52,
   "metadata": {},
   "outputs": [
    {
     "data": {
      "text/plain": [
       "63"
      ]
     },
     "execution_count": 52,
     "metadata": {},
     "output_type": "execute_result"
    }
   ],
   "source": [
    "def total_volume(*boxes):\n",
    "    total = 0\n",
    "\n",
    "    for box in boxes:\n",
    "        v = 1\n",
    "        for number in box:\n",
    "            v = v * number\n",
    "        total = total + v\n",
    "\n",
    "    return total\n",
    "\n",
    "total_volume([4, 2, 4], [3, 3, 3], [1, 1, 2], [2, 1, 1])"
   ]
  },
  {
   "cell_type": "code",
   "execution_count": 3,
   "metadata": {},
   "outputs": [
    {
     "name": "stdout",
     "output_type": "stream",
     "text": [
      "a c b d\n"
     ]
    }
   ],
   "source": [
    "\n",
    "class Test:\n",
    "    def __init__(self, first: str, last: str) -> None:\n",
    "        self.first = first\n",
    "        self.last = last\n",
    "\n",
    "    def __add__(self, other: 'Test'):\n",
    "        return Test(f'{self.first} {other.first}', f'{self.last} {other.last}')\n",
    "    \n",
    "    def __str__(self) -> str:\n",
    "        return f'{self.first} {self.last}'\n",
    "    \n",
    "\n",
    "t1 = Test('a', 'b')\n",
    "t2 = Test('c', 'd')\n",
    "t3 = t1 + t2\n",
    "\n",
    "print(t3)\n"
   ]
  },
  {
   "cell_type": "code",
   "execution_count": 6,
   "metadata": {},
   "outputs": [
    {
     "name": "stdout",
     "output_type": "stream",
     "text": [
      "Root\n",
      "B\n",
      "A\n",
      "C\n"
     ]
    }
   ],
   "source": [
    "class Root():\n",
    "    def f(self):\n",
    "        print('Root')\n",
    "\n",
    "class A(Root):\n",
    "    def f(self):\n",
    "        super().f()\n",
    "        print('A')\n",
    "\n",
    "class B(Root):\n",
    "    def f(self):\n",
    "        super().f()\n",
    "        print('B')\n",
    "\n",
    "\n",
    "class  C(A, B):\n",
    " def f(self):\n",
    "        super().f()\n",
    "        print('C')\n",
    "\n",
    "\n",
    "# r = Root()\n",
    "# r.f()\n",
    "\n",
    "# a = A()\n",
    "# a.f()\n",
    "\n",
    "# b = B()\n",
    "# b.f()\n",
    "\n",
    "c = C()\n",
    "c.f()\n"
   ]
  },
  {
   "cell_type": "code",
   "execution_count": 11,
   "metadata": {},
   "outputs": [
    {
     "data": {
      "text/plain": [
       "False"
      ]
     },
     "execution_count": 11,
     "metadata": {},
     "output_type": "execute_result"
    }
   ],
   "source": [
    "def double_letters(word):\n",
    "    symbol = ''\n",
    "    for s in word:\n",
    "        if s == symbol:\n",
    "            return True\n",
    "        symbol = s\n",
    "    return False\n",
    "\n",
    "double_letters('fgd')"
   ]
  },
  {
   "cell_type": "code",
   "execution_count": 31,
   "metadata": {},
   "outputs": [
    {
     "data": {
      "text/plain": [
       "[1, 2, 4, 9]"
      ]
     },
     "execution_count": 31,
     "metadata": {},
     "output_type": "execute_result"
    }
   ],
   "source": [
    "def asc_des_none(my_list, string):\n",
    "    if string == 'Asc':\n",
    "        my_list.sort()\n",
    "    \n",
    "    elif string == 'Des':\n",
    "        my_list.sort(reverse = True)\n",
    "\n",
    "    return my_list\n",
    "\n",
    "\n",
    "asc_des_none([4, 9, 2, 1], \"Asc\")"
   ]
  },
  {
   "cell_type": "code",
   "execution_count": 36,
   "metadata": {},
   "outputs": [
    {
     "data": {
      "text/plain": [
       "'дж4в45кр1пт крут0й'"
      ]
     },
     "execution_count": 36,
     "metadata": {},
     "output_type": "execute_result"
    }
   ],
   "source": [
    "def hacker_speak(text):\n",
    "    new_text = ''\n",
    "    for s in text:\n",
    "        if s == 'а':\n",
    "            s = '4'\n",
    "            new_text = new_text + s\n",
    "        elif s == 'е':\n",
    "            s = '3'\n",
    "            new_text = new_text + s\n",
    "\n",
    "        elif s == 'и':\n",
    "            s = '1'\n",
    "            new_text = new_text + s\n",
    "\n",
    "        elif s == 'о':\n",
    "            s = '0'\n",
    "            new_text = new_text + s\n",
    "\n",
    "        elif s == 'с':\n",
    "            s = '5'\n",
    "            new_text = new_text + s\n",
    "\n",
    "        else:\n",
    "            new_text = new_text + s\n",
    "    \n",
    "    return new_text\n",
    "\n",
    "hacker_speak(\"джаваскрипт крутой\")"
   ]
  },
  {
   "cell_type": "code",
   "execution_count": null,
   "metadata": {},
   "outputs": [],
   "source": [
    "def upward_trend(my_list):\n",
    "    total = True\n",
    "\n",
    "    for i, number in enumerate(my_list):\n",
    "        if number[i - 1] > number[i]:\n",
    "            total = True\n",
    "        else:\n",
    "            total = False\n",
    "    \n",
    "    return total\n",
    "\n",
    "upward_trend([1, 2, 3, 4])"
   ]
  },
  {
   "cell_type": "code",
   "execution_count": 138,
   "metadata": {},
   "outputs": [
    {
     "data": {
      "text/plain": [
       "False"
      ]
     },
     "execution_count": 138,
     "metadata": {},
     "output_type": "execute_result"
    }
   ],
   "source": [
    "def upward_trend(my_list):\n",
    "    number_1 = int()\n",
    "    total = False\n",
    "\n",
    "    for number in my_list:\n",
    "        if number == f'{number}':\n",
    "            return 'Строкам тут не место!'\n",
    "            break\n",
    "        \n",
    "        if number >= number_1:\n",
    "            total = total + True\n",
    "        else:\n",
    "            return False\n",
    "            \n",
    "        number_1 = number\n",
    "\n",
    "    return bool(total)\n",
    "\n",
    "upward_trend([1, 2, 7, 4, 5])"
   ]
  },
  {
   "cell_type": "code",
   "execution_count": 141,
   "metadata": {},
   "outputs": [
    {
     "data": {
      "text/plain": [
       "[3, 9, -6, -816, 1224, 9]"
      ]
     },
     "execution_count": 141,
     "metadata": {},
     "output_type": "execute_result"
    }
   ],
   "source": [
    "def cumulative_sum(lst):\n",
    "    new_lst = []\n",
    "    number_1 = 1\n",
    "    for i, number in enumerate(lst):\n",
    "        new_lst.append(number_1 * number)\n",
    "        number_1 = number\n",
    "\n",
    "    return new_lst\n",
    "\n",
    "cumulative_sum([3, 3, -2, 408, 3, 3])"
   ]
  },
  {
   "cell_type": "code",
   "execution_count": 156,
   "metadata": {},
   "outputs": [
    {
     "data": {
      "text/plain": [
       "15"
      ]
     },
     "execution_count": 156,
     "metadata": {},
     "output_type": "execute_result"
    }
   ],
   "source": [
    "def binary_array_to_number(arr):\n",
    "    return sum([s * 2 ** i for i, s in enumerate(arr[::-1])])\n",
    "\n",
    "\n",
    "binary_array_to_number([1,1,1,1])\n",
    "# sum([s * 2 ** i for i, s in enumerate(reversed([1, 1, 1, 1]))])"
   ]
  },
  {
   "cell_type": "code",
   "execution_count": 158,
   "metadata": {},
   "outputs": [
    {
     "data": {
      "text/plain": [
       "5.0"
      ]
     },
     "execution_count": 158,
     "metadata": {},
     "output_type": "execute_result"
    }
   ],
   "source": [
    "def litres(time):\n",
    "    return ((time * 0.5) * 10) // 10\n",
    "\n",
    "litres(11.8)"
   ]
  },
  {
   "cell_type": "code",
   "execution_count": 176,
   "metadata": {},
   "outputs": [
    {
     "name": "stdout",
     "output_type": "stream",
     "text": [
      "16\n"
     ]
    }
   ],
   "source": [
    "def century(year):\n",
    "    return year // 100 + (1 if year % 100 > 0 else 0)\n",
    "\n",
    "print(century(1600))\n"
   ]
  },
  {
   "cell_type": "code",
   "execution_count": 13,
   "metadata": {},
   "outputs": [
    {
     "data": {
      "text/plain": [
       "True"
      ]
     },
     "execution_count": 13,
     "metadata": {},
     "output_type": "execute_result"
    }
   ],
   "source": [
    "import math \n",
    "\n",
    "def is_square(number):\n",
    "    if number < 0:\n",
    "        return False\n",
    "    \n",
    "    root = math.sqrt(number)\n",
    "\n",
    "    return int(root) - root == 0\n",
    "\n",
    "is_square(0)"
   ]
  },
  {
   "cell_type": "code",
   "execution_count": 14,
   "metadata": {},
   "outputs": [
    {
     "data": {
      "text/plain": [
       "0.19615242270663202"
      ]
     },
     "execution_count": 14,
     "metadata": {},
     "output_type": "execute_result"
    }
   ],
   "source": [
    "import math \n",
    "\n",
    "math.sqrt(27) % 1"
   ]
  },
  {
   "cell_type": "code",
   "execution_count": 20,
   "metadata": {},
   "outputs": [
    {
     "data": {
      "text/plain": [
       "True"
      ]
     },
     "execution_count": 20,
     "metadata": {},
     "output_type": "execute_result"
    }
   ],
   "source": [
    "def is_isogram(string):\n",
    "    string = string.lower()\n",
    "    bound = 0\n",
    "\n",
    "    for letter in string:\n",
    "        for another_letter in string[bound + 1:]:\n",
    "            if letter == another_letter:\n",
    "                return False\n",
    "\n",
    "        bound += 1\n",
    "\n",
    "    return True\n",
    "\n",
    "is_isogram('Dermatoglyphics')"
   ]
  },
  {
   "cell_type": "code",
   "execution_count": 32,
   "metadata": {},
   "outputs": [
    {
     "data": {
      "text/plain": [
       "'TAAAGC'"
      ]
     },
     "execution_count": 32,
     "metadata": {},
     "output_type": "execute_result"
    }
   ],
   "source": [
    "def DNA_strand(dna):    \n",
    "    return str().join([{'T': 'A', 'A': 'T', 'C': 'G', 'G': 'C' }.get(letter, '') for letter in dna])\n",
    "\n",
    "DNA_strand('ATTTCG')"
   ]
  },
  {
   "cell_type": "code",
   "execution_count": null,
   "metadata": {},
   "outputs": [],
   "source": [
    "def friend(x):\n",
    "    return [n for n in x if len(x) == 4]"
   ]
  },
  {
   "cell_type": "code",
   "execution_count": 38,
   "metadata": {},
   "outputs": [
    {
     "data": {
      "text/plain": [
       "'abcdefghijklmnopqrstuvwxyz'"
      ]
     },
     "execution_count": 38,
     "metadata": {},
     "output_type": "execute_result"
    }
   ],
   "source": [
    "def longest(a1, a2):\n",
    "    return str().join(sorted(set(a1 + a2)))\n",
    "\n",
    "a = \"xyaabbbccccdefww\"\n",
    "b = \"xxxxyyyyabklmopq\"\n",
    "longest(a, b)\n",
    "\n",
    "a = \"abcdefghijklmnopqrstuvwxyz\"\n",
    "longest(a, a)"
   ]
  },
  {
   "cell_type": "code",
   "execution_count": 44,
   "metadata": {},
   "outputs": [
    {
     "data": {
      "text/plain": [
       "'this is a really long sentence'"
      ]
     },
     "execution_count": 44,
     "metadata": {},
     "output_type": "execute_result"
    }
   ],
   "source": [
    "def smash(words):\n",
    "    return ' '.join([word.strip() for word in words])\n",
    "\n",
    "smash([\" this\", \"   is\", \"a\", \"really\", \"long\", \"sentence \"])"
   ]
  },
  {
   "cell_type": "code",
   "execution_count": null,
   "metadata": {},
   "outputs": [],
   "source": [
    "def cumulative_sum(lst):\n",
    "    new_lst = []\n",
    "    number_1 = int()\n",
    "\n",
    "    for number in lst:\n",
    "        new_lst.append(number_1 + number)\n",
    "        number_1 = number\n",
    "\n",
    "    return new_lst\n",
    "\n",
    "cumulative_sum([1, 2, 3])"
   ]
  },
  {
   "cell_type": "code",
   "execution_count": 50,
   "metadata": {},
   "outputs": [
    {
     "data": {
      "text/plain": [
       "[3, 6, 4, 412, 415, 418]"
      ]
     },
     "execution_count": 50,
     "metadata": {},
     "output_type": "execute_result"
    }
   ],
   "source": [
    "def cumulative_sum(lst):\n",
    "\n",
    "    for i in range(1, len(lst)):\n",
    "        lst[i] += lst[i - 1]\n",
    "\n",
    "    return lst\n",
    "\n",
    "cumulative_sum([3, 3, -2, 408, 3, 3])\n",
    "\n",
    "# [3, 6, 4, 412, 415, 418]"
   ]
  },
  {
   "cell_type": "code",
   "execution_count": 81,
   "metadata": {},
   "outputs": [
    {
     "data": {
      "text/plain": [
       "432.42"
      ]
     },
     "execution_count": 81,
     "metadata": {},
     "output_type": "execute_result"
    }
   ],
   "source": [
    "def median(number_list):\n",
    "    number_list.sort()\n",
    "    middle_index = int((len(number_list) - 1)/2)\n",
    "    total = int()\n",
    "    \n",
    "    if len(number_list) % 2 == 0:\n",
    "        total = (number_list[middle_index] + number_list[middle_index + 1]) / 2\n",
    "    else:\n",
    "        total = number_list[middle_index]\n",
    "\n",
    "    return total\n",
    "\n",
    "median([21.4323, 432.54, 432.3, 542.4567])"
   ]
  },
  {
   "cell_type": "code",
   "execution_count": 171,
   "metadata": {},
   "outputs": [
    {
     "data": {
      "text/plain": [
       "'Jack'"
      ]
     },
     "execution_count": 171,
     "metadata": {},
     "output_type": "execute_result"
    }
   ],
   "source": [
    "import sys\n",
    "\n",
    "\n",
    "def oldest(people):\n",
    "    total_name = ''\n",
    "    max = -sys.maxsize\n",
    "    for i, v in enumerate(people):\n",
    "        if people[v] > max:\n",
    "            max = people[v]\n",
    "            total_name = v\n",
    "\n",
    "    return total_name\n",
    "\n",
    "oldest({\"Emma\": 11, \"Jack\": 99, \"Amy\": 15, \"Ben\": 29})\n"
   ]
  },
  {
   "cell_type": "code",
   "execution_count": 165,
   "metadata": {},
   "outputs": [
    {
     "name": "stdout",
     "output_type": "stream",
     "text": [
      "Emma\n",
      "Jack\n",
      "Amy\n",
      "Ben\n"
     ]
    }
   ],
   "source": [
    "people = {\"Emma\": 71, \"Jack\": 45, \"Amy\": 15, \"Ben\": 29}\n",
    "\n",
    "for k, v in enumerate(people):\n",
    "    print(v)\n"
   ]
  },
  {
   "cell_type": "code",
   "execution_count": 219,
   "metadata": {},
   "outputs": [
    {
     "data": {
      "text/plain": [
       "'20201112'"
      ]
     },
     "execution_count": 219,
     "metadata": {},
     "output_type": "execute_result"
    }
   ],
   "source": [
    "def format_date(date):\n",
    "    new_date = ''\n",
    "    date = date.split('/')\n",
    "\n",
    "    for s in date:\n",
    "        new_date = s + new_date\n",
    "    \n",
    "    return new_date\n",
    "\n",
    "format_date(\"12/11/2020\")"
   ]
  },
  {
   "cell_type": "code",
   "execution_count": 25,
   "metadata": {},
   "outputs": [
    {
     "name": "stdout",
     "output_type": "stream",
     "text": [
      "JDvBPScPQMwxMDHZCghshNSmmhN\n"
     ]
    }
   ],
   "source": [
    "# https://www.codewars.com/kata/61c78b57ee4be50035d28d42/python\n",
    "\n",
    "# This kata requires you to write a function which merges two strings together. \n",
    "# It does so by merging the end of the first string with the start of the second string \n",
    "# together when they are an exact match.\n",
    "\n",
    "# \"ab <cde>\" + \"<cde> fgh\" => \"ab <cde> fgh\"\n",
    "# \"ab <aab>\" + \"<aab> ab\" => \"abaabab\"\n",
    "# \"abc\" + \"def\" => \"abcdef\"\n",
    "# \"abc\" + \"abc\" => \"abc\"\n",
    "\n",
    "# NOTE: The algorithm should always use the longest possible overlap.\n",
    "\n",
    "# \"abaabaab\" + \"aabaabab\" would be \"abaabaabab\" and not \"abaabaabaabab\"\n",
    "\n",
    "'JDvBPScPQMwxMDHZCgh', 'hshNSmmhN'\n",
    "s1 =  'JDvBPScPQMwxMDHZCgh'\n",
    "s2 = 'hshNSmmhN'\n",
    "\n",
    "acc = ''\n",
    "overlapping = ''\n",
    "\n",
    "for l1 in s1[::-1]:\n",
    "    acc = l1 + acc\n",
    "    if s2.startswith(acc):\n",
    "        overlapping = acc\n",
    "\n",
    "equation = s1 + s2.replace(overlapping, '', 1)\n",
    "print(equation)\n",
    "\n",
    "# 'JDvBPScPQMwxMDHZCghshNSmmhN'"
   ]
  },
  {
   "cell_type": "code",
   "execution_count": null,
   "metadata": {},
   "outputs": [],
   "source": [
    "def merge_strings(first, second):\n",
    "    acc = ''\n",
    "    overlapping = ''\n",
    "\n",
    "    for l1 in first[::-1]:\n",
    "        acc = l1 + acc\n",
    "        if second.startswith(acc):\n",
    "            overlapping = acc\n",
    "\n",
    "    return f'{s1}{s2.replace(overlapping, \"\")}'"
   ]
  },
  {
   "cell_type": "code",
   "execution_count": 5,
   "metadata": {},
   "outputs": [
    {
     "data": {
      "text/plain": [
       "[1, 2, 123]"
      ]
     },
     "execution_count": 5,
     "metadata": {},
     "output_type": "execute_result"
    }
   ],
   "source": [
    "l = [1,2,'aasf','1','123',123]\n",
    "\n",
    "[i for i in l if type(i) is int ]"
   ]
  },
  {
   "cell_type": "code",
   "execution_count": 18,
   "metadata": {},
   "outputs": [
    {
     "data": {
      "text/plain": [
       "[14, 44, 39]"
      ]
     },
     "execution_count": 18,
     "metadata": {},
     "output_type": "execute_result"
    }
   ],
   "source": [
    "# https://www.codewars.com/kata/57b06f90e298a7b53d000a86/python\n",
    "\n",
    "a = [14, 47, 46, 17, 27, 21, 44, 4, 13, 19, 8, 20, 39, 33, 44, 10, 38, 12]\n",
    "n = 6\n",
    "[v for i, v in enumerate(a) if i % n == 0] if n <= len(a) else a[-1]"
   ]
  },
  {
   "cell_type": "code",
   "execution_count": 26,
   "metadata": {},
   "outputs": [
    {
     "data": {
      "text/plain": [
       "6"
      ]
     },
     "execution_count": 26,
     "metadata": {},
     "output_type": "execute_result"
    }
   ],
   "source": [
    "def count_uppercase(my_list):\n",
    "    sum = int()\n",
    "\n",
    "    for word in my_list:\n",
    "        for s in word:\n",
    "            if s.isupper():\n",
    "                sum += 1\n",
    "\n",
    "    return sum\n",
    "\n",
    "count_uppercase([\"SOLO\", \"hello\", \"Tea\", \"wHat\"])"
   ]
  },
  {
   "cell_type": "code",
   "execution_count": 34,
   "metadata": {},
   "outputs": [
    {
     "data": {
      "text/plain": [
       "2.0"
      ]
     },
     "execution_count": 34,
     "metadata": {},
     "output_type": "execute_result"
    }
   ],
   "source": [
    "class Calculator:\n",
    "    def add(a, b):\n",
    "        return a + b\n",
    "\n",
    "    def subtract(a, b):\n",
    "        return a - b\n",
    "\n",
    "    def multiply(a, b):\n",
    "        return a * b\n",
    "\n",
    "    def divide(a, b):\n",
    "        return a / b\n",
    "    \n",
    "\n",
    "Calculator.divide(4, 2)"
   ]
  },
  {
   "cell_type": "code",
   "execution_count": 46,
   "metadata": {},
   "outputs": [
    {
     "data": {
      "text/plain": [
       "7.0"
      ]
     },
     "execution_count": 46,
     "metadata": {},
     "output_type": "execute_result"
    }
   ],
   "source": [
    "def solve(equation):\n",
    "    s = equation.split()\n",
    "\n",
    "    if s[1] == '+':\n",
    "        return float(s[4]) - float(s[2])\n",
    "    else:\n",
    "        return float(s[4]) + float(s[2])\n",
    "\n",
    "solve('x + 43 = 50')"
   ]
  },
  {
   "cell_type": "code",
   "execution_count": 49,
   "metadata": {},
   "outputs": [
    {
     "data": {
      "text/plain": [
       "'Название: «Гамлет»'"
      ]
     },
     "execution_count": 49,
     "metadata": {},
     "output_type": "execute_result"
    }
   ],
   "source": [
    "class Book:\n",
    "    def __init__(self, title, author) -> None:\n",
    "        self.title = title\n",
    "        self.author = author\n",
    "        \n",
    "    def get_title(self):\n",
    "        return f\"Название: {self.title}\"\n",
    "    \n",
    "    def get_author(self):\n",
    "        return f\"Автор: {self.author}\"\n",
    "    \n",
    "PP = Book('«Гордость и предубеждение»', 'Джейн Остин')\n",
    "\n",
    "H = Book('«Гамлет»', 'Уильям Шекспир')\n",
    "\n",
    "WP = Book('«Война и мир»', 'Лев Толстой')\n"
   ]
  },
  {
   "cell_type": "code",
   "execution_count": 3,
   "metadata": {},
   "outputs": [
    {
     "data": {
      "text/plain": [
       "(199, 156, 132)"
      ]
     },
     "execution_count": 3,
     "metadata": {},
     "output_type": "execute_result"
    }
   ],
   "source": [
    "def color_invert(rgb):\n",
    "    total = list()\n",
    "    for number in rgb:\n",
    "        total.append(255 - number)\n",
    "    \n",
    "    return tuple(total)\n",
    "\n",
    "color_invert((56, 99, 123))"
   ]
  },
  {
   "cell_type": "code",
   "execution_count": 22,
   "metadata": {},
   "outputs": [
    {
     "data": {
      "text/plain": [
       "4"
      ]
     },
     "execution_count": 22,
     "metadata": {},
     "output_type": "execute_result"
    }
   ],
   "source": [
    "def sock_pairs(socks):\n",
    "    freq_dict: dict[str, int] = {}\n",
    "\n",
    "    for s in socks:\n",
    "        count = int()\n",
    "        for s1 in socks:\n",
    "            if s == s1:\n",
    "                count += 1\n",
    "        \n",
    "        if s not in freq_dict:\n",
    "            freq_dict[s] = count\n",
    "    \n",
    "    return sum ([freq_dict[k] // 2 for k in freq_dict])\n",
    "\n",
    "sock_pairs('CABBACCC')"
   ]
  },
  {
   "cell_type": "code",
   "execution_count": 7,
   "metadata": {},
   "outputs": [
    {
     "data": {
      "text/plain": [
       "[[0, 1, 1], [1, 0, 1], [1, 1, 0]]"
      ]
     },
     "execution_count": 7,
     "metadata": {},
     "output_type": "execute_result"
    }
   ],
   "source": [
    "def reverse_image(image):\n",
    "    for row in image:\n",
    "        for i, bit in enumerate(row):\n",
    "            row[i] = int(not bit)\n",
    "    \n",
    "    return image\n",
    "\n",
    "\n",
    "reverse_image([\n",
    "  [1, 0, 0],\n",
    "  [0, 1, 0],\n",
    "  [0, 0, 1]\n",
    "])"
   ]
  },
  {
   "cell_type": "code",
   "execution_count": 14,
   "metadata": {},
   "outputs": [
    {
     "data": {
      "text/plain": [
       "'I just!!! can!!! not!!! believe!!! it!'"
      ]
     },
     "execution_count": 14,
     "metadata": {},
     "output_type": "execute_result"
    }
   ],
   "source": [
    "def no_yelling(phrase):\n",
    "    words = phrase.split()\n",
    "    last_word = words[-1]\n",
    "\n",
    "    if last_word[-1] in  ['!', '?']:\n",
    "        words[-1] = last_word.replace(last_word[-1], '') + last_word[-1]\n",
    "  \n",
    "    return ' '.join(words)\n",
    "\n",
    "\n",
    "no_yelling(\"I just!!! can!!! not!!! believe!!! it!!!!!!!!!!!!!!!\")"
   ]
  },
  {
   "cell_type": "code",
   "execution_count": 75,
   "metadata": {},
   "outputs": [
    {
     "data": {
      "text/plain": [
       "'1001001111101110'"
      ]
     },
     "execution_count": 75,
     "metadata": {},
     "output_type": "execute_result"
    }
   ],
   "source": [
    "def text_to_number_binary(text):\n",
    "    new_text = text.split()\n",
    "    result = ''\n",
    "\n",
    "    for word in new_text:\n",
    "        if word.lower() == 'ноль':\n",
    "            result = result + '0'\n",
    "        elif word.lower() == 'один':\n",
    "            result = result + '1'\n",
    "        else:\n",
    "            continue\n",
    "\n",
    "    l = len(result)\n",
    "    if l % 8 != 0:\n",
    "        result = result[0: l - (l % 8)]\n",
    "    \n",
    "    return result\n",
    "\n",
    "text_to_number_binary('один Ноль ноль один ноль ноль один один один один один ноль оДин один один ноль один нолЬ')\n",
    "\n"
   ]
  },
  {
   "cell_type": "code",
   "execution_count": 82,
   "metadata": {},
   "outputs": [
    {
     "data": {
      "text/plain": [
       "False"
      ]
     },
     "execution_count": 82,
     "metadata": {},
     "output_type": "execute_result"
    }
   ],
   "source": [
    "def magic(string):\n",
    "    date_comp = string.split()\n",
    "\n",
    "    left = int(date_comp[0]) * int(date_comp[1])\n",
    "    right = int(date_comp[2])\n",
    "\n",
    "    while left != 0:\n",
    "        left_remainder = left % 10\n",
    "        right_remainder = right % 10\n",
    "        left = left // 10\n",
    "        right = right // 10\n",
    "\n",
    "        if right_remainder != left_remainder:\n",
    "            return False\n",
    "        \n",
    "    return True\n",
    "\n",
    "\n",
    "magic(\"9 2 2011\")"
   ]
  },
  {
   "cell_type": "code",
   "execution_count": 14,
   "metadata": {},
   "outputs": [
    {
     "data": {
      "text/plain": [
       "1012"
      ]
     },
     "execution_count": 14,
     "metadata": {},
     "output_type": "execute_result"
    }
   ],
   "source": [
    "def grab_number_sum(string):\n",
    "    store: str = str()\n",
    "    total: int = int()\n",
    "    for sym in string:\n",
    "        if sym.isdigit():\n",
    "            store = store + sym\n",
    "        else:\n",
    "            if store != '':\n",
    "                total += int(store)\n",
    "            store = str()\n",
    "\n",
    "    if store.isdecimal():\n",
    "        total += int(store)\n",
    "\n",
    "    return total\n"
   ]
  },
  {
   "cell_type": "code",
   "execution_count": 5,
   "metadata": {},
   "outputs": [
    {
     "data": {
      "text/plain": [
       "True"
      ]
     },
     "execution_count": 5,
     "metadata": {},
     "output_type": "execute_result"
    }
   ],
   "source": [
    "def consecutive_combo(list1, list2):\n",
    "    \n",
    "    merged_list = sorted(list1 + list2)\n",
    "\n",
    "    for i in range(0, len(merged_list) - 1):\n",
    "        if merged_list[i + 1] - merged_list[i] != 1:\n",
    "            return False\n",
    "    \n",
    "    return True\n",
    "\n",
    "\n",
    "consecutive_combo([44, 46], [45])"
   ]
  },
  {
   "cell_type": "code",
   "execution_count": 16,
   "metadata": {},
   "outputs": [
    {
     "data": {
      "text/plain": [
       "['ц']"
      ]
     },
     "execution_count": 16,
     "metadata": {},
     "output_type": "execute_result"
    }
   ],
   "source": [
    "def remove_letters(letters, word):\n",
    "    acc: list[str] = []\n",
    "    i: int = int()\n",
    "    j: int = int()\n",
    "\n",
    "    word_length: int = len(word)\n",
    "\n",
    "    while i < word_length:\n",
    "        if letters[j] == word[i]:\n",
    "            i += 1\n",
    "        else:\n",
    "            acc.append(letters[j])\n",
    "\n",
    "        j += 1\n",
    "    \n",
    "    if j < len(letters):\n",
    "        acc = letters[j:]\n",
    "\n",
    "    return acc\n",
    "\n",
    "\n",
    "remove_letters([\"с\", \"т\", \"р\", \"о\", \"к\", \"а\", \"ц\"], \"строка\")\n"
   ]
  },
  {
   "cell_type": "code",
   "execution_count": 34,
   "metadata": {},
   "outputs": [
    {
     "data": {
      "text/plain": [
       "False"
      ]
     },
     "execution_count": 34,
     "metadata": {},
     "output_type": "execute_result"
    }
   ],
   "source": [
    "def no_duplicate_letters(phrase):\n",
    "    new_phrase = phrase.split()\n",
    "   \n",
    "    for word in new_phrase:\n",
    "        if len(set(word)) != len(word):\n",
    "                return False\n",
    "\n",
    "    return True\n",
    "\n",
    "\n",
    "no_duplicate_letters(\"Не прыгаый\")"
   ]
  },
  {
   "cell_type": "code",
   "execution_count": 151,
   "metadata": {},
   "outputs": [
    {
     "data": {
      "text/plain": [
       "['2345b', '932c', '832u32']"
      ]
     },
     "execution_count": 151,
     "metadata": {},
     "output_type": "execute_result"
    }
   ],
   "source": [
    "def sort_by_letter(my_list):\n",
    "    arr = [(w, ''.join([c for c in w if not c.isdigit()])) for w in my_list]\n",
    "\n",
    "    for i in range(0, len(arr)):\n",
    "        for j in range(0, len(arr)):\n",
    "            if arr[i][1] < arr[j][1]:\n",
    "                (arr[i], arr[j]) = (arr[j], arr[i])\n",
    "    \n",
    "    return [i[0] for i in arr]\n",
    "\n",
    "\n",
    "sort_by_letter([\"932c\", \"832u32\", \"2345b\"])"
   ]
  },
  {
   "cell_type": "code",
   "execution_count": 150,
   "metadata": {},
   "outputs": [
    {
     "data": {
      "text/plain": [
       "8"
      ]
     },
     "execution_count": 150,
     "metadata": {},
     "output_type": "execute_result"
    }
   ],
   "source": [
    "def prime_numbers(n):\n",
    "    n += 1\n",
    "    count = 0\n",
    "\n",
    "    for i in range(2, n):\n",
    "        is_prime = True\n",
    "        for j in range(2, n):\n",
    "            if i != j and i % j == 0:\n",
    "                is_prime = False\n",
    "\n",
    "        if is_prime:\n",
    "            count+= 1\n",
    "\n",
    "    return count\n",
    "\n",
    "\n",
    "prime_numbers(20)\n"
   ]
  },
  {
   "cell_type": "code",
   "execution_count": 55,
   "metadata": {},
   "outputs": [
    {
     "data": {
      "text/plain": [
       "3"
      ]
     },
     "execution_count": 55,
     "metadata": {},
     "output_type": "execute_result"
    }
   ],
   "source": [
    "def duplicate_count(txt):\n",
    "    total = 0\n",
    "\n",
    "    for s in set(txt):\n",
    "        count = 0\n",
    "        for s1 in txt:\n",
    "            if s == s1:\n",
    "                count += 1\n",
    "            \n",
    "        if count > 1:\n",
    "            total += 1 \n",
    "    \n",
    "    return total\n",
    "\n",
    "\n",
    "duplicate_count(\"aabbcdee\")"
   ]
  },
  {
   "cell_type": "code",
   "execution_count": 56,
   "metadata": {},
   "outputs": [
    {
     "data": {
      "text/plain": [
       "{'I', 'b', 'd', 'e', 'i', 'l', 'n', 's', 't', 'v'}"
      ]
     },
     "execution_count": 56,
     "metadata": {},
     "output_type": "execute_result"
    }
   ],
   "source": [
    "txt = \"Indivisibilities\"\n",
    "\n",
    "set(txt)"
   ]
  },
  {
   "cell_type": "code",
   "execution_count": 107,
   "metadata": {},
   "outputs": [
    {
     "data": {
      "text/plain": [
       "[[6, 8], [7, 7]]"
      ]
     },
     "execution_count": 107,
     "metadata": {},
     "output_type": "execute_result"
    }
   ],
   "source": [
    "def all_pairs(my_list, target):\n",
    "    new_list = []\n",
    "    total = []\n",
    "\n",
    "    for i, number in enumerate(my_list):\n",
    "        for i1, number1 in enumerate(my_list):\n",
    "            if number + number1 == target and i != i1:\n",
    "                new_list.append(number)\n",
    "                new_list.append(number1)\n",
    "\n",
    "        if new_list == []:\n",
    "            continue\n",
    "        else:\n",
    "            total.append(sorted(new_list))\n",
    "            my_list.remove(number)\n",
    "            \n",
    "        new_list = []\n",
    "        \n",
    "\n",
    "    return sorted(total)\n",
    "\n",
    "all_pairs([8, 7, 7, 2, 4, 6], 14)"
   ]
  },
  {
   "cell_type": "code",
   "execution_count": 157,
   "metadata": {},
   "outputs": [
    {
     "data": {
      "text/plain": [
       "[-1, -1, 1, 2, 3, 4, 5, 6]"
      ]
     },
     "execution_count": 157,
     "metadata": {},
     "output_type": "execute_result"
    }
   ],
   "source": [
    "def sort_array(my_list):\n",
    "    for i in range(0, len(my_list)):\n",
    "        for j in range(0, len(my_list)):\n",
    "            if my_list[i] < my_list[j]:\n",
    "                (my_list[i], my_list[j]) = (my_list[j], my_list[i])\n",
    "    return my_list\n",
    "\n",
    "sort_array([2, -5, 1, 4, 7, 8])"
   ]
  },
  {
   "cell_type": "code",
   "execution_count": 162,
   "metadata": {},
   "outputs": [
    {
     "data": {
      "text/plain": [
       "[2, 3, -2, 5, -8, 6, -2]"
      ]
     },
     "execution_count": 162,
     "metadata": {},
     "output_type": "execute_result"
    }
   ],
   "source": [
    "def pos_neg_sort(my_list):\n",
    "    for i in range(0, len(my_list)):\n",
    "        for j in range(0, len(my_list)):\n",
    "            if my_list[i] < my_list[j] and my_list[i] > 0 and my_list[j] > 0:\n",
    "                (my_list[i], my_list[j]) = (my_list[j], my_list[i])\n",
    "    return my_list\n",
    "\n",
    "pos_neg_sort([6, 3, -2, 5, -8, 2, -2])"
   ]
  },
  {
   "cell_type": "code",
   "execution_count": 50,
   "metadata": {},
   "outputs": [
    {
     "data": {
      "text/plain": [
       "'мой друг Привет,'"
      ]
     },
     "execution_count": 50,
     "metadata": {},
     "output_type": "execute_result"
    }
   ],
   "source": [
    "def sort_by_length(string):\n",
    "    from itertools import groupby\n",
    "    result = []\n",
    "\n",
    "    sorted_arr = sorted([(w, len(w)) for w in string.split()], key=lambda i: i[1])\n",
    "    grouped_arr = groupby(sorted_arr, key=lambda i: i[1])\n",
    "    sorted_grouped_arr = [sorted([v for v in group[1]], key=lambda i: i[0].lower()) for group in grouped_arr]\n",
    "\n",
    "    for group in sorted_grouped_arr:\n",
    "        for item in group:\n",
    "            result.append(item[0])\n",
    "\n",
    "    return ' '.join(result)\n",
    "\n",
    "\n",
    "sort_by_length(\"Привет, мой друг\")"
   ]
  },
  {
   "cell_type": "code",
   "execution_count": 74,
   "metadata": {},
   "outputs": [
    {
     "data": {
      "text/plain": [
       "[('A', 'a'), ('a', 'a'), ('e', 'e'), ('E', 'e')]"
      ]
     },
     "execution_count": 74,
     "metadata": {},
     "output_type": "execute_result"
    }
   ],
   "source": [
    "string = \"eA2a1E\"\n",
    "\n",
    "alphabet_parts = sorted(\n",
    "    [(s, s.lower()) for s in string if s.isalpha()],\n",
    "    key=lambda x: x[1]\n",
    ")\n",
    "\n",
    "digit_parts = ''.join(sorted([s for s in string if s.isdigit()]))\n",
    "\n",
    "alphabet_parts"
   ]
  },
  {
   "cell_type": "code",
   "execution_count": 5,
   "metadata": {},
   "outputs": [
    {
     "data": {
      "text/plain": [
       "[]"
      ]
     },
     "execution_count": 5,
     "metadata": {},
     "output_type": "execute_result"
    }
   ],
   "source": [
    "def filter_factorials(numbers):\n",
    "    result = []\n",
    "    for n in numbers:\n",
    "        f = 1\n",
    "        i = 1\n",
    "        while n >= f:\n",
    "            f = f * i\n",
    "            i += 1\n",
    "            if f == n:\n",
    "                result.append(n)\n",
    "\n",
    "    return result\n",
    "\n",
    "\n",
    "filter_factorials([8, 9, 10])\n"
   ]
  },
  {
   "cell_type": "code",
   "execution_count": 10,
   "metadata": {},
   "outputs": [
    {
     "data": {
      "text/plain": [
       "'isModalOpen'"
      ]
     },
     "execution_count": 10,
     "metadata": {},
     "output_type": "execute_result"
    }
   ],
   "source": [
    "def to_camel_case(string: str):\n",
    "    result = ''\n",
    "    skip = False\n",
    "    for i, c in enumerate(string):\n",
    "      \n",
    "      if skip: \n",
    "         skip = False\n",
    "         continue\n",
    "      \n",
    "      if c != '_':\n",
    "         result += c\n",
    "         skip = False\n",
    "      else:\n",
    "        result += string[i + 1].upper()\n",
    "        skip = True\n",
    "\n",
    "    return result\n",
    "      \n",
    "\n",
    "to_camel_case(\"is_modal_open\")"
   ]
  },
  {
   "cell_type": "code",
   "execution_count": 13,
   "metadata": {},
   "outputs": [
    {
     "data": {
      "text/plain": [
       "'get_color'"
      ]
     },
     "execution_count": 13,
     "metadata": {},
     "output_type": "execute_result"
    }
   ],
   "source": [
    "def to_snake_case(string: str):\n",
    "    result = ''\n",
    "\n",
    "    for c in string:\n",
    "        if c.isupper():\n",
    "            result += f'_{c.lower()}'\n",
    "        else:\n",
    "            result += c\n",
    "\n",
    "    return result\n",
    "\n",
    "to_snake_case(\"getColor\")"
   ]
  },
  {
   "cell_type": "code",
   "execution_count": 43,
   "metadata": {},
   "outputs": [
    {
     "data": {
      "text/plain": [
       "False"
      ]
     },
     "execution_count": 43,
     "metadata": {},
     "output_type": "execute_result"
    }
   ],
   "source": [
    "def almost_palindrome(txt: str):\n",
    "    c = 0\n",
    "    t = txt\n",
    "    l = len(txt)\n",
    "\n",
    "    for _ in range(0, l // 2):\n",
    "        if t[0] == t[-1]:\n",
    "            c += 1\n",
    "        t = t[1:-1]\n",
    "\n",
    "    c += len(t)\n",
    "    \n",
    "    return  l // 2 - c == (1 if l % 2 == 0 else 0)\n",
    "\n",
    "almost_palindrome(\"1234312\")\n"
   ]
  },
  {
   "cell_type": "code",
   "execution_count": null,
   "metadata": {},
   "outputs": [],
   "source": [
    "for c in str(11211230):\n",
    "    pass"
   ]
  },
  {
   "cell_type": "code",
   "execution_count": 7,
   "metadata": {},
   "outputs": [
    {
     "data": {
      "text/plain": [
       "True"
      ]
     },
     "execution_count": 7,
     "metadata": {},
     "output_type": "execute_result"
    }
   ],
   "source": [
    "def over_twenty_one(cards):\n",
    "\tsum = 0\n",
    "\t\n",
    "\tfor c in cards:\n",
    "\t\tif c in ['В', 'Д', 'К']:\n",
    "\t\t\tsum += 10\n",
    "\t\telif c == 'Т':\n",
    "\t\t\tsum += 1\n",
    "\t\telse:\n",
    "\t\t\tsum += c\n",
    "\t\t\t\n",
    "\treturn sum > 21\n",
    "\n",
    "over_twenty_one([\"В\", \"Д\", \"К\"])"
   ]
  },
  {
   "cell_type": "code",
   "execution_count": 25,
   "metadata": {},
   "outputs": [
    {
     "data": {
      "text/plain": [
       "True"
      ]
     },
     "execution_count": 25,
     "metadata": {},
     "output_type": "execute_result"
    }
   ],
   "source": [
    "def is_valid(string: str):\n",
    "    \n",
    "    if string == str():\n",
    "        return False\n",
    "    \n",
    "    ip_parts: list[str] = string.split('.')\n",
    "    results = []\n",
    "\n",
    "    for p in ip_parts:\n",
    "   \n",
    "        if len(p) == 1 and p[0] == '0':\n",
    "            results.append(True)\n",
    "            continue\n",
    "\n",
    "        if len(p) > 1 and p[0] == '0':\n",
    "            results.append(False)\n",
    "            continue\n",
    "\n",
    "        if  p.isdecimal() and 256 > int(p) > 0:\n",
    "            results.append(True)\n",
    "            continue\n",
    "        else:\n",
    "            results.append(False)\n",
    "\n",
    "    return all(results) and len(ip_parts) == 4\n",
    "\n",
    "#is_valid(\"123.456.78.90\")\n",
    "is_valid(\"0.55.56.1\")\n",
    "#is_valid(\"123.45.67.89\")"
   ]
  },
  {
   "cell_type": "code",
   "execution_count": 20,
   "metadata": {},
   "outputs": [
    {
     "data": {
      "text/plain": [
       "'5:05 am'"
      ]
     },
     "execution_count": 20,
     "metadata": {},
     "output_type": "execute_result"
    }
   ],
   "source": [
    "def convert_time(time: str):\n",
    "    parts = time.split() + ['']\n",
    "    [time, suffix] = parts[0:2]\n",
    "    [hours, minutes] = parts[0].split(':')\n",
    "   \n",
    "    if suffix in ['pm', 'am']:\n",
    "       hours = 12 + int(hours) if suffix == \"pm\" else int(hours)\n",
    "       if hours == 12 and suffix == 'am':\n",
    "           hours = 0\n",
    "\n",
    "       return f'{hours}:{minutes}'\n",
    "    else:\n",
    "        p1 = 12 - 24 % int(hours) if int(hours) > 12 else hours\n",
    "        p2 = minutes\n",
    "\n",
    "        return f'{p1}:{p2} {\"pm\" if int(hours) > 12 else \"am\"}'\n",
    "\n",
    "\n",
    "convert_time(\"5:05\")"
   ]
  },
  {
   "cell_type": "code",
   "execution_count": 13,
   "metadata": {},
   "outputs": [
    {
     "data": {
      "text/plain": [
       "['Thomas Aquinas', 'Rene Descartes', 'David Hume', 'John Locke']"
      ]
     },
     "execution_count": 13,
     "metadata": {},
     "output_type": "execute_result"
    }
   ],
   "source": [
    "def sort_contacts(names, sort):\n",
    "\n",
    "    return [] if names is None else [\n",
    "        f'{part[0]} {part[1]}' \n",
    "        for part in sorted(\n",
    "                [name.split() for name in names], \n",
    "                key=lambda k: k[1], \n",
    "                reverse=sort == 'DESC'\n",
    "            )\n",
    "    ]\n",
    "    \n",
    "\n",
    "sort_contacts([\n",
    "  \"John Locke\",\n",
    "  \"Thomas Aquinas\",\n",
    "  \"David Hume\",\n",
    "  \"Rene Descartes\"\n",
    "], \"ASC\")\n"
   ]
  },
  {
   "cell_type": "code",
   "execution_count": 28,
   "metadata": {},
   "outputs": [
    {
     "data": {
      "text/plain": [
       "'correct'"
      ]
     },
     "execution_count": 28,
     "metadata": {},
     "output_type": "execute_result"
    }
   ],
   "source": [
    "def caesar_cipher(text, key):\n",
    "    en_alphabet = \"abcdefghijklmnopqrstuvwxyz\"\n",
    "    s = ''\n",
    "    words = text.split()\n",
    "    results: list[str] = []\n",
    "\n",
    "    for word in words:\n",
    "        for c in word:\n",
    "            ind = en_alphabet.find(c)\n",
    "            ind = ind + key\n",
    "\n",
    "            if ind >= len(en_alphabet):\n",
    "                ind = ind - len(en_alphabet)\n",
    "\n",
    "            s = s + en_alphabet[ind]\n",
    "        \n",
    "        results.append(s)\n",
    "        s = str()\n",
    "\n",
    "    return ' '.join(results)\n",
    "\n",
    "\n",
    "#caesar_cipher(\"hello\", 5)  # \"mjqqt\"\n",
    "#caesar_cipher(\"a\", 2) # \"c\"\n",
    "\n",
    "caesar_cipher(\"z\", 2)\n",
    "caesar_cipher(\"fruuhfw\", 23)\n"
   ]
  },
  {
   "cell_type": "code",
   "execution_count": 27,
   "metadata": {},
   "outputs": [
    {
     "data": {
      "text/plain": [
       "('jMnQ136',\n",
       " [('6', 107, 0),\n",
       "  ('j', 10, 0),\n",
       "  ('n', 14, 0),\n",
       "  ('M', 13, 0),\n",
       "  ('3', 104, 0),\n",
       "  ('1', 102, 0),\n",
       "  ('Q', 17, 0)])"
      ]
     },
     "execution_count": 27,
     "metadata": {},
     "output_type": "execute_result"
    }
   ],
   "source": [
    "def sorting(string):\n",
    "    acc: list[tuple[str, int, int]] = []\n",
    "\n",
    "    for c in string:\n",
    "        if 96 < ord(c) < 123:\n",
    "            acc.append((c, ord(c) - 96, 0))\n",
    "        elif 64 < ord(c) < 91:\n",
    "            acc.append((c, ord(c) - 64, 0))\n",
    "        elif 47 < ord(c) < 58:\n",
    "            acc.append((c, ord(c) - 47 + 100, 0))\n",
    "\n",
    "    sorted_acc = sorted(acc, key=lambda x: x[1] + x[2])\n",
    "\n",
    "    return ''.join([c[0] for c in sorted_acc]), acc\n",
    "\n",
    "sorting(\"09eaA2a1EzZ\")\n",
    "sorting(\"6jnM31Q\")\n",
    "\n",
    "# 65 - 90 upper case chars\n",
    "# 97 - 122 lower case chars\n",
    "# 48 - 57 digits"
   ]
  },
  {
   "cell_type": "code",
   "execution_count": 11,
   "metadata": {},
   "outputs": [
    {
     "data": {
      "text/plain": [
       "5"
      ]
     },
     "execution_count": 11,
     "metadata": {},
     "output_type": "execute_result"
    }
   ],
   "source": [
    "from string import ascii_lowercase, ascii_uppercase, digits, punctuation\n",
    "\n",
    "\n",
    "def how_strong_is_password(password):\n",
    "    complexity = 0\n",
    "\n",
    "    complexity += 1 if len(password) >= 6 else 0\n",
    "    complexity += 1 if any(c for c in password if c in digits) else 0\n",
    "    complexity += 1 if any(c for c in password if c in ascii_lowercase) else 0\n",
    "    complexity += 1 if any(c for c in password if c in ascii_uppercase) else 0\n",
    "    complexity += 1 if any(c for c in password if c in punctuation) else 0\n",
    "\n",
    "    return complexity\n",
    "\n",
    "\n",
    "how_strong_is_password(\"chick\")  # 1\n",
    "how_strong_is_password(\"codechick\")\n",
    "how_strong_is_password(\"codechick!\")\n",
    "how_strong_is_password(\"CodeChick!!1\")\n"
   ]
  },
  {
   "cell_type": "code",
   "execution_count": 35,
   "metadata": {},
   "outputs": [
    {
     "data": {
      "text/plain": [
       "False"
      ]
     },
     "execution_count": 35,
     "metadata": {},
     "output_type": "execute_result"
    }
   ],
   "source": [
    "def is_val_in_tree(tree, value):\n",
    "    for i in tree:\n",
    "        item_type = type(i)\n",
    "        if item_type == int and i == value:\n",
    "            return True\n",
    "        elif item_type == list and len(i) > 0:\n",
    "            result = is_val_in_tree(i, value)\n",
    "            if result:\n",
    "                return True\n",
    "\n",
    "    return False\n",
    "\n",
    "\n",
    "list1 = [3, [8, [5, None, None], None], [7, None, None]]\n",
    "list1 = []\n",
    "# is_val_in_tree(list1, 5)\n",
    "is_val_in_tree(list1, 21)\n"
   ]
  },
  {
   "cell_type": "code",
   "execution_count": 37,
   "metadata": {},
   "outputs": [
    {
     "data": {
      "text/plain": [
       "'Победил первый игрок!'"
      ]
     },
     "execution_count": 37,
     "metadata": {},
     "output_type": "execute_result"
    }
   ],
   "source": [
    "import numpy as np\n",
    "def rps(sign1, sign2):\n",
    "    if sign1 == sign2:\n",
    "        return 'Ничья'\n",
    "    elif sign1 == 'камень' and sign2 == 'ножницы':\n",
    "        return 'Победил первый игрок'\n",
    "    elif sign1 == 'ножницы' and sign2 == 'камень':\n",
    "        return 'Победил второй игрок'\n",
    "    elif sign1 == 'бумага' and sign2 == 'камень':\n",
    "        return 'Победил первый игрок'\n",
    "    elif sign1 == 'камень' and sign2 == 'бумага':\n",
    "        return 'Победил второй игрок'\n",
    "    elif sign1 == 'ножницы' and sign2 == 'бумага':\n",
    "        return 'Победил первый игрок'\n",
    "    elif sign1 == 'бумага' and sign2 == 'ножницы':\n",
    "        return 'Победил второй игрок'\n",
    "    \n",
    "rps(\"ножницы\", \"бумага\")"
   ]
  },
  {
   "cell_type": "code",
   "execution_count": 29,
   "metadata": {},
   "outputs": [
    {
     "data": {
      "text/plain": [
       "True"
      ]
     },
     "execution_count": 29,
     "metadata": {},
     "output_type": "execute_result"
    }
   ],
   "source": [
    "def palindrome_descendant(number):\n",
    "    def is_palindrome(word):\n",
    "        store = str()\n",
    "        for s in word:\n",
    "            store = s + store\n",
    "\n",
    "        return word == store\n",
    "\n",
    "    if is_palindrome(str(number)):\n",
    "        return True\n",
    "    \n",
    "    s = ''\n",
    "    n = str(number)\n",
    "    for i in range(0, len(n) - 1, 2):\n",
    "        s += str(int(n[i]) + int(n[i + 1]))\n",
    "\n",
    "    \n",
    "    if len(s) % 2 == 0 and not is_palindrome(s):\n",
    "        return palindrome_descendant(int(s))\n",
    "    elif len(s) == 1:\n",
    "        return False\n",
    "    else:\n",
    "        return is_palindrome(s)\n",
    "\n",
    "\n",
    "\n",
    "# palindrome_descendant(97358817) # False\n",
    "# palindrome_descendant(9735) # False\n",
    "# palindrome_descendant(10210112) # True\n",
    "# palindrome_descendant(332233) # True\n",
    "\n",
    "palindrome_descendant(11) # True\n",
    "palindrome_descendant(1122) # False !!!!\n",
    "palindrome_descendant(11211230) # True !!!!\n"
   ]
  },
  {
   "cell_type": "code",
   "execution_count": 44,
   "metadata": {},
   "outputs": [
    {
     "data": {
      "text/plain": [
       "True"
      ]
     },
     "execution_count": 44,
     "metadata": {},
     "output_type": "execute_result"
    }
   ],
   "source": [
    "def can_play(hand, face):\n",
    "    count1 = 0\n",
    "    new_face = face.split()\n",
    "    for card in hand:\n",
    "        new_card = card.split()\n",
    "        if new_card[0] == new_face[0] or new_card[1] == new_face[1]:\n",
    "            count1 += 1\n",
    "\n",
    "    if count1 > 0:\n",
    "        return True\n",
    "    \n",
    "    return False\n",
    "\n",
    "can_play([\"желтый 3\", \"желтый 5\", \"красный 8\"], \"синий 5\")"
   ]
  },
  {
   "cell_type": "code",
   "execution_count": 59,
   "metadata": {},
   "outputs": [
    {
     "data": {
      "text/plain": [
       "'Победа!'"
      ]
     },
     "execution_count": 59,
     "metadata": {},
     "output_type": "execute_result"
    }
   ],
   "source": [
    "def decision(hand, face):\n",
    "    count = 0\n",
    "    new_face = face.split()\n",
    "    \n",
    "    for card in hand:\n",
    "        new_card = card.split()\n",
    "        if new_card[0] == new_face[0] or new_card[1] == new_face[1]:\n",
    "            count += 1\n",
    "        \n",
    "    if len(hand) == 1 and count < 1:\n",
    "        return 'Уно!'\n",
    "    elif count >= 1 and len(hand) == 2:\n",
    "        return 'Уно!'\n",
    "    elif count >= 1 and len(hand) == 1:\n",
    "        return 'Победа!'\n",
    "\n",
    "    return 'Продолжаем...'\n",
    "\n",
    "decision(['синий 1'], 'синий 5')"
   ]
  },
  {
   "cell_type": "code",
   "execution_count": 21,
   "metadata": {},
   "outputs": [
    {
     "data": {
      "text/plain": [
       "False"
      ]
     },
     "execution_count": 21,
     "metadata": {},
     "output_type": "execute_result"
    }
   ],
   "source": [
    "def within_triangle(a, b, c, p):\n",
    "\n",
    "    def product(a, b):\n",
    "        return a[0] * b[1] - b[0] * a[1]\n",
    "\n",
    "    ab = (b[0] - a[0], b[1] - a[1])\n",
    "    ca = (a[0] - c[0], a[1] - c[1])\n",
    "    bc = (c[0] - b[0], c[1] - b[1])\n",
    "\n",
    "    ap = (p[0] - a[0], p[1] - a[1])\n",
    "    bp = (p[0] - b[0], p[1] - b[1])\n",
    "    cp = (p[0] - c[0], p[1] - c[1])\n",
    "\n",
    "    return \\\n",
    "        (product(ab, ap) > 0 and product(bc, bp) > 0 and product(ca, cp) > 0) or \\\n",
    "        (product(ab, ap) < 0 and product(bc, bp) < 0 and product(ca, cp) < 0)\n",
    "\n",
    "#within_triangle((1, 4), (5, 6), (6, 1), (4, 5))\n",
    "within_triangle((1, 4), (5, 6), (6, 1), (3, 2))\n",
    "#within_triangle((-6, 2), (-2, -2), (8, 4), (4, 2))"
   ]
  },
  {
   "cell_type": "code",
   "execution_count": 9,
   "metadata": {},
   "outputs": [
    {
     "ename": "TypeError",
     "evalue": "unsupported operand type(s) for -: 'list' and 'list'",
     "output_type": "error",
     "traceback": [
      "\u001b[1;31m---------------------------------------------------------------------------\u001b[0m",
      "\u001b[1;31mTypeError\u001b[0m                                 Traceback (most recent call last)",
      "Cell \u001b[1;32mIn[9], line 10\u001b[0m\n\u001b[0;32m      8\u001b[0m     dd \u001b[39m=\u001b[39m \u001b[39mlist\u001b[39m(\u001b[39mset\u001b[39m(result))\n\u001b[0;32m      9\u001b[0m     \u001b[39mreturn\u001b[39;00m money_bag \u001b[39m-\u001b[39m dd\n\u001b[1;32m---> 10\u001b[0m coins_div([\u001b[39m1\u001b[39;49m, \u001b[39m2\u001b[39;49m, \u001b[39m3\u001b[39;49m, \u001b[39m2\u001b[39;49m, \u001b[39m2\u001b[39;49m, \u001b[39m2\u001b[39;49m, \u001b[39m3\u001b[39;49m])\n",
      "Cell \u001b[1;32mIn[9], line 9\u001b[0m, in \u001b[0;36mcoins_div\u001b[1;34m(money_bag)\u001b[0m\n\u001b[0;32m      7\u001b[0m             result\u001b[39m.\u001b[39mappend(\u001b[39mf\u001b[39m\u001b[39m'\u001b[39m\u001b[39m{\u001b[39;00mn\u001b[39m}\u001b[39;00m\u001b[39m + \u001b[39m\u001b[39m{\u001b[39;00mn1\u001b[39m}\u001b[39;00m\u001b[39m'\u001b[39m)\n\u001b[0;32m      8\u001b[0m dd \u001b[39m=\u001b[39m \u001b[39mlist\u001b[39m(\u001b[39mset\u001b[39m(result))\n\u001b[1;32m----> 9\u001b[0m \u001b[39mreturn\u001b[39;00m money_bag \u001b[39m-\u001b[39;49m dd\n",
      "\u001b[1;31mTypeError\u001b[0m: unsupported operand type(s) for -: 'list' and 'list'"
     ]
    }
   ],
   "source": [
    "def coins_div(money_bag):\n",
    "    x = sum(money_bag) / 3\n",
    "    result = []\n",
    "    for n in money_bag:\n",
    "        for n1 in money_bag:\n",
    "            if n + n1 == x:\n",
    "                result.append(f'{n} + {n1}')\n",
    "    dd = list(set(result))\n",
    "    return money_bag - dd\n",
    "coins_div([1, 2, 3, 2, 2, 2, 3])"
   ]
  },
  {
   "cell_type": "code",
   "execution_count": null,
   "metadata": {},
   "outputs": [],
   "source": [
    "def lucky_ticket(n_digits):\n",
    "    pass\n",
    "\n",
    "lucky_ticket(2) # 10\n",
    "lucky_ticket(4) # 670"
   ]
  },
  {
   "cell_type": "code",
   "execution_count": 14,
   "metadata": {},
   "outputs": [
    {
     "data": {
      "text/plain": [
       "False"
      ]
     },
     "execution_count": 14,
     "metadata": {},
     "output_type": "execute_result"
    }
   ],
   "source": [
    "def traverse_chain(my_list, f):\n",
    "    result = my_list[0]\n",
    "    for v in my_list[1:]:\n",
    "        result = f(result, v)\n",
    "\n",
    "    return result\n",
    "\n",
    "def boolean_and(my_list):\n",
    "    return traverse_chain(my_list, lambda r, v: r and v)\n",
    "\n",
    "def boolean_or(my_list):\n",
    "    return traverse_chain(my_list, lambda r, v: r or v)\n",
    "\n",
    "def boolean_xor(my_list):\n",
    "    return traverse_chain(my_list, lambda r, v: not r ^ (not v))\n",
    "\n",
    "\n",
    "#boolean_and([True, True, True, True, False])\n",
    "\n",
    "# boolean_or([True, True, False, False])\n",
    "\n",
    "boolean_xor([True, True, False, False])"
   ]
  },
  {
   "cell_type": "code",
   "execution_count": 33,
   "metadata": {},
   "outputs": [
    {
     "name": "stdout",
     "output_type": "stream",
     "text": [
      "\n",
      "1\t0\t0\t0\t1\t\n",
      "0\t1\t0\t1\t0\t\n",
      "0\t0\t1\t0\t0\t\n",
      "0\t1\t0\t1\t0\t\n",
      "1\t0\t0\t0\t1\t"
     ]
    },
    {
     "data": {
      "text/plain": [
       "[[1, 0, 0, 0, 1],\n",
       " [0, 1, 0, 1, 0],\n",
       " [0, 0, 1, 0, 0],\n",
       " [0, 1, 0, 1, 0],\n",
       " [1, 0, 0, 0, 1]]"
      ]
     },
     "execution_count": 33,
     "metadata": {},
     "output_type": "execute_result"
    }
   ],
   "source": [
    "def help_bobby(size):\n",
    "    result = []\n",
    "    for i in range(size):\n",
    "        result.append([])\n",
    "        for j in range(size):\n",
    "            result[i].append(1 if i == j or i == size - j - 1 else 0)\n",
    "\n",
    "    return result\n",
    "\n",
    "help_bobby(5)"
   ]
  },
  {
   "cell_type": "code",
   "execution_count": null,
   "metadata": {},
   "outputs": [],
   "source": [
    "def decode(string):\n",
    "    pass\n",
    "\n",
    "decode(\"привет\")# [16, 17, 9, 12, 15, 10]\n",
    "\n",
    "decode(\"кодчик\") # [11, 15, 14, 15, 9, 11]\n",
    "\n",
    "decode(\"трудная задачка\") # [10, 17, 11, 14, 14, 10, 5, 5, 17, 10, 14, 10, 15, 11, 10]"
   ]
  }
 ],
 "metadata": {
  "kernelspec": {
   "display_name": "Python 3",
   "language": "python",
   "name": "python3"
  },
  "language_info": {
   "codemirror_mode": {
    "name": "ipython",
    "version": 3
   },
   "file_extension": ".py",
   "mimetype": "text/x-python",
   "name": "python",
   "nbconvert_exporter": "python",
   "pygments_lexer": "ipython3",
   "version": "3.11.0"
  },
  "orig_nbformat": 4,
  "vscode": {
   "interpreter": {
    "hash": "5238573367df39f7286bb46f9ff5f08f63a01a80960060ce41e3c79b190280fa"
   }
  }
 },
 "nbformat": 4,
 "nbformat_minor": 2
}
