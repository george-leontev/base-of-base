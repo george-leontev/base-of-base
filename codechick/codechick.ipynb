{
 "cells": [
  {
   "cell_type": "code",
   "execution_count": 2,
   "metadata": {},
   "outputs": [
    {
     "name": "stdout",
     "output_type": "stream",
     "text": [
      "8\n"
     ]
    }
   ],
   "source": [
    "def addition(number):\n",
    "    return number + 1\n",
    "\n",
    "print(f'{addition(7)}')"
   ]
  },
  {
   "cell_type": "code",
   "execution_count": 3,
   "metadata": {},
   "outputs": [
    {
     "name": "stdout",
     "output_type": "stream",
     "text": [
      "180\n"
     ]
    }
   ],
   "source": [
    "def convert_minutes_2_seconds(minutes):\n",
    "    return minutes * 60\n",
    "\n",
    "print(f'{convert_minutes_2_seconds(3)}')"
   ]
  },
  {
   "cell_type": "code",
   "execution_count": 5,
   "metadata": {},
   "outputs": [
    {
     "name": "stdout",
     "output_type": "stream",
     "text": [
      "6.0\n"
     ]
    }
   ],
   "source": [
    "def triangle_area(base, height):\n",
    "    return base * height / 2\n",
    "\n",
    "print(f'{triangle_area(6, 2)}')"
   ]
  },
  {
   "cell_type": "code",
   "execution_count": 7,
   "metadata": {},
   "outputs": [
    {
     "name": "stdout",
     "output_type": "stream",
     "text": [
      "7200\n"
     ]
    }
   ],
   "source": [
    "def convert_hours_2_seconds(hours):\n",
    "    return hours * 3600\n",
    "\n",
    "print(f'{convert_hours_2_seconds(2)}')"
   ]
  },
  {
   "cell_type": "code",
   "execution_count": 9,
   "metadata": {},
   "outputs": [
    {
     "name": "stdout",
     "output_type": "stream",
     "text": [
      "23725\n"
     ]
    }
   ],
   "source": [
    "def convert_age_2_days(years):\n",
    "    return years * 365\n",
    "\n",
    "print(f'{convert_age_2_days(65)}')"
   ]
  },
  {
   "cell_type": "code",
   "execution_count": 15,
   "metadata": {},
   "outputs": [
    {
     "name": "stdout",
     "output_type": "stream",
     "text": [
      "0\n"
     ]
    }
   ],
   "source": [
    "def remainder(x: int | float, y: int | float):\n",
    "    return x % y\n",
    "\n",
    "print(f'{remainder(8, 2)}')"
   ]
  },
  {
   "cell_type": "code",
   "execution_count": 17,
   "metadata": {},
   "outputs": [
    {
     "name": "stdout",
     "output_type": "stream",
     "text": [
      "99\n"
     ]
    }
   ],
   "source": [
    "def convert_string_2_int(txt):\n",
    "    return int(txt)\n",
    "\n",
    "print(f'{convert_string_2_int(\"99\")}')"
   ]
  },
  {
   "cell_type": "code",
   "execution_count": 18,
   "metadata": {},
   "outputs": [
    {
     "data": {
      "text/plain": [
       "100"
      ]
     },
     "execution_count": 18,
     "metadata": {},
     "output_type": "execute_result"
    }
   ],
   "source": [
    "def circuit_power(voltage, current):\n",
    "    return voltage * current\n",
    "\n",
    "circuit_power(10, 10)"
   ]
  },
  {
   "cell_type": "code",
   "execution_count": 20,
   "metadata": {},
   "outputs": [
    {
     "data": {
      "text/plain": [
       "16"
      ]
     },
     "execution_count": 20,
     "metadata": {},
     "output_type": "execute_result"
    }
   ],
   "source": [
    "def find_rectangle_perimeter(length, width):\n",
    "    return length * 2 + width * 2\n",
    "\n",
    "find_rectangle_perimeter(3, 5)"
   ]
  },
  {
   "cell_type": "code",
   "execution_count": 29,
   "metadata": {},
   "outputs": [
    {
     "data": {
      "text/plain": [
       "1"
      ]
     },
     "execution_count": 29,
     "metadata": {},
     "output_type": "execute_result"
    }
   ],
   "source": [
    "def get_first_element(elements):\n",
    "    if len(elements) == 0:\n",
    "        return None\n",
    "    else:\n",
    "        return elements[0]\n",
    "\n",
    "get_first_element([1, 3])"
   ]
  },
  {
   "cell_type": "code",
   "execution_count": null,
   "metadata": {},
   "outputs": [],
   "source": [
    "def convert_animals_2_legs(chickens, cows, pigs):\n",
    "    return chickens * 2 + cows * 4 + pigs * 4\n"
   ]
  },
  {
   "cell_type": "code",
   "execution_count": null,
   "metadata": {},
   "outputs": [],
   "source": [
    "def convert_hours_minutes_2_seconds(hours, minutes):\n",
    "    return hours * 3600 + minutes * 60\n",
    "\n"
   ]
  },
  {
   "cell_type": "code",
   "execution_count": 30,
   "metadata": {},
   "outputs": [
    {
     "data": {
      "text/plain": [
       "8"
      ]
     },
     "execution_count": 30,
     "metadata": {},
     "output_type": "execute_result"
    }
   ],
   "source": [
    "def football_points(wins, draws, losses):\n",
    "    return wins * 3 + draws * 1 + losses * 0\n",
    "\n",
    "football_points(2, 2, 2)"
   ]
  },
  {
   "cell_type": "code",
   "execution_count": null,
   "metadata": {},
   "outputs": [],
   "source": [
    "def less_than_100(a, b):\n",
    "    return a + b < 100"
   ]
  },
  {
   "cell_type": "code",
   "execution_count": 33,
   "metadata": {},
   "outputs": [
    {
     "name": "stdout",
     "output_type": "stream",
     "text": [
      "23\n"
     ]
    }
   ],
   "source": [
    "def difference(nums):\n",
    "    return max(nums) - min(nums)\n",
    "\n",
    "print(f'{difference([10, 15, 25, 2, 10, 6])}')"
   ]
  },
  {
   "cell_type": "code",
   "execution_count": 39,
   "metadata": {},
   "outputs": [
    {
     "name": "stdout",
     "output_type": "stream",
     "text": [
      "45\n"
     ]
    }
   ],
   "source": [
    "def sum_of_elements(my_list):\n",
    "    sum = 0\n",
    "    \n",
    "    for i in my_list:\n",
    "        sum = sum + i\n",
    "\n",
    "    return sum\n",
    "\n",
    "print(f'{sum_of_elements([30, 10, 5])}')"
   ]
  },
  {
   "cell_type": "code",
   "execution_count": 42,
   "metadata": {},
   "outputs": [
    {
     "data": {
      "text/plain": [
       "'Hello, Andrew'"
      ]
     },
     "execution_count": 42,
     "metadata": {},
     "output_type": "execute_result"
    }
   ],
   "source": [
    "def hello_name(name):\n",
    "    return f'Hello, {name}'\n",
    "\n",
    "hello_name('Andrew')"
   ]
  },
  {
   "cell_type": "code",
   "execution_count": 44,
   "metadata": {},
   "outputs": [
    {
     "data": {
      "text/plain": [
       "False"
      ]
     },
     "execution_count": 44,
     "metadata": {},
     "output_type": "execute_result"
    }
   ],
   "source": [
    "def divisible(num):\n",
    "    return num % 100 == 0\n",
    "\n",
    "divisible(101)"
   ]
  },
  {
   "cell_type": "code",
   "execution_count": 47,
   "metadata": {},
   "outputs": [
    {
     "data": {
      "text/plain": [
       "15000"
      ]
     },
     "execution_count": 47,
     "metadata": {},
     "output_type": "execute_result"
    }
   ],
   "source": [
    "def frames(minutes, fps):\n",
    "    return (minutes * 60) * fps\n",
    "\n",
    "frames(10, 25)"
   ]
  },
  {
   "cell_type": "code",
   "execution_count": 51,
   "metadata": {},
   "outputs": [
    {
     "data": {
      "text/plain": [
       "True"
      ]
     },
     "execution_count": 51,
     "metadata": {},
     "output_type": "execute_result"
    }
   ],
   "source": [
    "def is_empty(string):\n",
    "    return string == ''\n",
    "\n",
    "is_empty('')"
   ]
  },
  {
   "cell_type": "code",
   "execution_count": 56,
   "metadata": {},
   "outputs": [
    {
     "data": {
      "text/plain": [
       "True"
      ]
     },
     "execution_count": 56,
     "metadata": {},
     "output_type": "execute_result"
    }
   ],
   "source": [
    "def divides_evenly(a, b):\n",
    "    return a % b == 0\n",
    "\n",
    "\n",
    "divides_evenly(3, 3)"
   ]
  },
  {
   "cell_type": "code",
   "execution_count": 58,
   "metadata": {},
   "outputs": [
    {
     "data": {
      "text/plain": [
       "'четное'"
      ]
     },
     "execution_count": 58,
     "metadata": {},
     "output_type": "execute_result"
    }
   ],
   "source": [
    "def isEvenOrOdd(number):\n",
    "    if number % 2 == 0:\n",
    "        return 'четное'\n",
    "    else:\n",
    "        return 'нечетное'\n",
    "    \n",
    "isEvenOrOdd(2)\n"
   ]
  },
  {
   "cell_type": "code",
   "execution_count": 60,
   "metadata": {},
   "outputs": [
    {
     "data": {
      "text/plain": [
       "1024"
      ]
     },
     "execution_count": 60,
     "metadata": {},
     "output_type": "execute_result"
    }
   ],
   "source": [
    "def pos_com(number):\n",
    "\treturn 2**number\n",
    "\n",
    "pos_com(10)"
   ]
  },
  {
   "cell_type": "code",
   "execution_count": 65,
   "metadata": {},
   "outputs": [
    {
     "data": {
      "text/plain": [
       "True"
      ]
     },
     "execution_count": 65,
     "metadata": {},
     "output_type": "execute_result"
    }
   ],
   "source": [
    "def flip_bool(boolean):\n",
    "    return not boolean\n",
    "   \n",
    "    \n",
    "flip_bool(False)"
   ]
  },
  {
   "cell_type": "code",
   "execution_count": 72,
   "metadata": {},
   "outputs": [
    {
     "data": {
      "text/plain": [
       "'Goooooogle'"
      ]
     },
     "execution_count": 72,
     "metadata": {},
     "output_type": "execute_result"
    }
   ],
   "source": [
    "def google(number):\n",
    "    store: str = ''\n",
    "    for _ in range(number):\n",
    "        store = store + 'o'\n",
    "\n",
    "    return f'G{store}gle'\n",
    "\n",
    "google(6)"
   ]
  },
  {
   "cell_type": "code",
   "execution_count": 81,
   "metadata": {},
   "outputs": [
    {
     "data": {
      "text/plain": [
       "'ellghho'"
      ]
     },
     "execution_count": 81,
     "metadata": {},
     "output_type": "execute_result"
    }
   ],
   "source": [
    "def new_word(word):\n",
    "    store: str = ''\n",
    "    for i in range(1, len(word)):\n",
    "        store = store + word[i]\n",
    "\n",
    "    return store # word[1:len(word)]\n",
    "\n",
    "new_word('Hellghho')"
   ]
  },
  {
   "cell_type": "code",
   "execution_count": 85,
   "metadata": {},
   "outputs": [
    {
     "data": {
      "text/plain": [
       "0"
      ]
     },
     "execution_count": 85,
     "metadata": {},
     "output_type": "execute_result"
    }
   ],
   "source": [
    "def NOT(num):\n",
    "    return int(not bool(num))\n",
    "\n",
    "def AND(num,num2):\n",
    "    return int(bool(num) and bool(num2))\n",
    "\n",
    "def OR(num,num2):\n",
    "    return int(bool(num) or bool(num2))\n",
    "\n",
    "NOT(-1)\n"
   ]
  },
  {
   "cell_type": "code",
   "execution_count": 2,
   "metadata": {},
   "outputs": [
    {
     "name": "stdout",
     "output_type": "stream",
     "text": [
      "0 1\n",
      "1 2\n",
      "2 4\n",
      "0 H\n",
      "1 e\n",
      "2 l\n",
      "3 l\n",
      "4 o\n"
     ]
    }
   ],
   "source": [
    "# https://codechick.io/challenges/81\n",
    "\n",
    "numbers = [1, 2, 4]\n",
    "\n",
    "for i, v in enumerate(numbers):\n",
    "    print(i, v)\n",
    "\n",
    "s = 'Hello'\n",
    "for i, v in enumerate(s):\n",
    "    print(i, v)"
   ]
  },
  {
   "cell_type": "code",
   "execution_count": 3,
   "metadata": {},
   "outputs": [
    {
     "data": {
      "text/plain": [
       "140717731074888"
      ]
     },
     "execution_count": 3,
     "metadata": {},
     "output_type": "execute_result"
    }
   ],
   "source": [
    "x = 2\n",
    "id(x)"
   ]
  },
  {
   "cell_type": "code",
   "execution_count": null,
   "metadata": {},
   "outputs": [],
   "source": [
    "def are_numbers_equal(a, b):\n",
    "    return a == b"
   ]
  },
  {
   "cell_type": "code",
   "execution_count": null,
   "metadata": {},
   "outputs": [],
   "source": [
    "import sys\n",
    "\n",
    "\n",
    "def find_smallest_number(my_list):\n",
    "\n",
    "    min = sys.maxsize\n",
    "    for x in my_list:\n",
    "        if x < min:\n",
    "            min = x\n",
    "\n",
    "    return min"
   ]
  },
  {
   "cell_type": "code",
   "execution_count": null,
   "metadata": {},
   "outputs": [],
   "source": [
    "def less_than_100(a, b):\n",
    "\treturn a + b < 100"
   ]
  },
  {
   "cell_type": "code",
   "execution_count": 9,
   "metadata": {},
   "outputs": [
    {
     "data": {
      "text/plain": [
       "0"
      ]
     },
     "execution_count": 9,
     "metadata": {},
     "output_type": "execute_result"
    }
   ],
   "source": [
    "def flip_bool(boolean):\n",
    "    return int(not bool(boolean))\n",
    "\n",
    "flip_bool(1)"
   ]
  },
  {
   "cell_type": "code",
   "execution_count": null,
   "metadata": {},
   "outputs": [],
   "source": [
    "def new_word(word):\n",
    "    return word[1:len(word)]"
   ]
  },
  {
   "cell_type": "code",
   "execution_count": 12,
   "metadata": {},
   "outputs": [
    {
     "data": {
      "text/plain": [
       "0"
      ]
     },
     "execution_count": 12,
     "metadata": {},
     "output_type": "execute_result"
    }
   ],
   "source": [
    "def distance_home(my_list):\n",
    "    return abs(sum(my_list))\n",
    "\n",
    "\n",
    "distance_home([3, 4, -5, -2])\n"
   ]
  },
  {
   "cell_type": "code",
   "execution_count": 15,
   "metadata": {},
   "outputs": [
    {
     "data": {
      "text/plain": [
       "False"
      ]
     },
     "execution_count": 15,
     "metadata": {},
     "output_type": "execute_result"
    }
   ],
   "source": [
    "def should_serve_drinks(age, on_break):\n",
    "    return age >= 18 and not on_break\n",
    "\n",
    "should_serve_drinks(17, False)"
   ]
  },
  {
   "cell_type": "code",
   "execution_count": null,
   "metadata": {},
   "outputs": [],
   "source": [
    "def flip(y):\n",
    "    return int(not bool(y))"
   ]
  },
  {
   "cell_type": "code",
   "execution_count": 17,
   "metadata": {},
   "outputs": [
    {
     "data": {
      "text/plain": [
       "54"
      ]
     },
     "execution_count": 17,
     "metadata": {},
     "output_type": "execute_result"
    }
   ],
   "source": [
    "def how_many_stickers(n):\n",
    "    return n**2 * 6\n",
    "\n",
    "how_many_stickers(3)"
   ]
  },
  {
   "cell_type": "code",
   "execution_count": 29,
   "metadata": {},
   "outputs": [
    {
     "data": {
      "text/plain": [
       "1.0"
      ]
     },
     "execution_count": 29,
     "metadata": {},
     "output_type": "execute_result"
    }
   ],
   "source": [
    "def inches_to_feet(inches):\n",
    "\treturn inches / 12 if inches >= 12 else 0\n",
    "\n",
    "inches_to_feet(12)"
   ]
  },
  {
   "cell_type": "code",
   "execution_count": 35,
   "metadata": {},
   "outputs": [
    {
     "data": {
      "text/plain": [
       "True"
      ]
     },
     "execution_count": 35,
     "metadata": {},
     "output_type": "execute_result"
    }
   ],
   "source": [
    "def is_safe_bridge(s):\n",
    "    for x in s:\n",
    "        if x == ' ':\n",
    "            return False\n",
    "    return True\n",
    "\n",
    "is_safe_bridge('11111111')"
   ]
  },
  {
   "cell_type": "code",
   "execution_count": 38,
   "metadata": {},
   "outputs": [
    {
     "data": {
      "text/plain": [
       "\"it's a good day\""
      ]
     },
     "execution_count": 38,
     "metadata": {},
     "output_type": "execute_result"
    }
   ],
   "source": [
    "def has_bugs(buggy_code):\n",
    "\tif buggy_code:\n",
    "\t\treturn 'sad days'\n",
    "\telse:\n",
    "\t\treturn 'it\\'s a good day'\n",
    "\t\n",
    "has_bugs(False)"
   ]
  },
  {
   "cell_type": "code",
   "execution_count": 6,
   "metadata": {},
   "outputs": [
    {
     "data": {
      "text/plain": [
       "1"
      ]
     },
     "execution_count": 6,
     "metadata": {},
     "output_type": "execute_result"
    }
   ],
   "source": [
    "def flip_bool(boolean):\n",
    "    return int(not bool(boolean))\n",
    "\n",
    "flip_bool(False)"
   ]
  },
  {
   "cell_type": "code",
   "execution_count": 8,
   "metadata": {},
   "outputs": [
    {
     "data": {
      "text/plain": [
       "'toxic'"
      ]
     },
     "execution_count": 8,
     "metadata": {},
     "output_type": "execute_result"
    }
   ],
   "source": [
    "def new_word(word):\n",
    "    return word[1:len(word)]\n",
    "\n",
    "new_word('toxic')"
   ]
  },
  {
   "cell_type": "code",
   "execution_count": null,
   "metadata": {},
   "outputs": [],
   "source": [
    "def has_key(dictionary, key):\n",
    "    return dictionary.get(key) is not None"
   ]
  },
  {
   "cell_type": "code",
   "execution_count": null,
   "metadata": {},
   "outputs": [],
   "source": [
    "def how_many_potatoes(some_string):\n",
    "    count = 0\n",
    "    word_list = some_string.split(', ')\n",
    "    for word in word_list:\n",
    "        if word == 'картошка':\n",
    "            count += 1\n",
    "    \n",
    "    return count\n",
    "\n",
    "how_many_potatoes(\"лук, картошка, капуста, картошка, лук, картошка, капуста, картошка\")"
   ]
  },
  {
   "cell_type": "code",
   "execution_count": 42,
   "metadata": {},
   "outputs": [
    {
     "data": {
      "text/plain": [
       "False"
      ]
     },
     "execution_count": 42,
     "metadata": {},
     "output_type": "execute_result"
    }
   ],
   "source": [
    "def is_empty(dictionary):\n",
    "    return len(dictionary) == 0\n",
    "\n",
    "\n",
    "is_empty({'a': 3})"
   ]
  },
  {
   "cell_type": "code",
   "execution_count": 52,
   "metadata": {},
   "outputs": [
    {
     "data": {
      "text/plain": [
       "True"
      ]
     },
     "execution_count": 52,
     "metadata": {},
     "output_type": "execute_result"
    }
   ],
   "source": [
    "def match(s1, s2):\n",
    "\treturn s1.lower() == s2.lower()\n",
    "\n",
    "match(\"коД\", \"код\")"
   ]
  }
 ],
 "metadata": {
  "kernelspec": {
   "display_name": "Python 3",
   "language": "python",
   "name": "python3"
  },
  "language_info": {
   "codemirror_mode": {
    "name": "ipython",
    "version": 3
   },
   "file_extension": ".py",
   "mimetype": "text/x-python",
   "name": "python",
   "nbconvert_exporter": "python",
   "pygments_lexer": "ipython3",
   "version": "3.11.0"
  },
  "orig_nbformat": 4,
  "vscode": {
   "interpreter": {
    "hash": "5238573367df39f7286bb46f9ff5f08f63a01a80960060ce41e3c79b190280fa"
   }
  }
 },
 "nbformat": 4,
 "nbformat_minor": 2
}
