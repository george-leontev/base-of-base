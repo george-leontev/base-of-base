{
 "cells": [
  {
   "cell_type": "code",
   "execution_count": 2,
   "metadata": {},
   "outputs": [
    {
     "name": "stdout",
     "output_type": "stream",
     "text": [
      "8\n"
     ]
    }
   ],
   "source": [
    "def addition(number):\n",
    "    return number + 1\n",
    "\n",
    "print(f'{addition(7)}')"
   ]
  },
  {
   "cell_type": "code",
   "execution_count": 3,
   "metadata": {},
   "outputs": [
    {
     "name": "stdout",
     "output_type": "stream",
     "text": [
      "180\n"
     ]
    }
   ],
   "source": [
    "def convert_minutes_2_seconds(minutes):\n",
    "    return minutes * 60\n",
    "\n",
    "print(f'{convert_minutes_2_seconds(3)}')"
   ]
  },
  {
   "cell_type": "code",
   "execution_count": 5,
   "metadata": {},
   "outputs": [
    {
     "name": "stdout",
     "output_type": "stream",
     "text": [
      "6.0\n"
     ]
    }
   ],
   "source": [
    "def triangle_area(base, height):\n",
    "    return base * height / 2\n",
    "\n",
    "print(f'{triangle_area(6, 2)}')"
   ]
  },
  {
   "cell_type": "code",
   "execution_count": 7,
   "metadata": {},
   "outputs": [
    {
     "name": "stdout",
     "output_type": "stream",
     "text": [
      "7200\n"
     ]
    }
   ],
   "source": [
    "def convert_hours_2_seconds(hours):\n",
    "    return hours * 3600\n",
    "\n",
    "print(f'{convert_hours_2_seconds(2)}')"
   ]
  },
  {
   "cell_type": "code",
   "execution_count": 9,
   "metadata": {},
   "outputs": [
    {
     "name": "stdout",
     "output_type": "stream",
     "text": [
      "23725\n"
     ]
    }
   ],
   "source": [
    "def convert_age_2_days(years):\n",
    "    return years * 365\n",
    "\n",
    "print(f'{convert_age_2_days(65)}')"
   ]
  },
  {
   "cell_type": "code",
   "execution_count": 15,
   "metadata": {},
   "outputs": [
    {
     "name": "stdout",
     "output_type": "stream",
     "text": [
      "0\n"
     ]
    }
   ],
   "source": [
    "def remainder(x: int | float, y: int | float):\n",
    "    return x % y\n",
    "\n",
    "print(f'{remainder(8, 2)}')"
   ]
  },
  {
   "cell_type": "code",
   "execution_count": 17,
   "metadata": {},
   "outputs": [
    {
     "name": "stdout",
     "output_type": "stream",
     "text": [
      "99\n"
     ]
    }
   ],
   "source": [
    "def convert_string_2_int(txt):\n",
    "    return int(txt)\n",
    "\n",
    "print(f'{convert_string_2_int(\"99\")}')"
   ]
  },
  {
   "cell_type": "code",
   "execution_count": 18,
   "metadata": {},
   "outputs": [
    {
     "data": {
      "text/plain": [
       "100"
      ]
     },
     "execution_count": 18,
     "metadata": {},
     "output_type": "execute_result"
    }
   ],
   "source": [
    "def circuit_power(voltage, current):\n",
    "    return voltage * current\n",
    "\n",
    "circuit_power(10, 10)"
   ]
  },
  {
   "cell_type": "code",
   "execution_count": 20,
   "metadata": {},
   "outputs": [
    {
     "data": {
      "text/plain": [
       "16"
      ]
     },
     "execution_count": 20,
     "metadata": {},
     "output_type": "execute_result"
    }
   ],
   "source": [
    "def find_rectangle_perimeter(length, width):\n",
    "    return length * 2 + width * 2\n",
    "\n",
    "find_rectangle_perimeter(3, 5)"
   ]
  },
  {
   "cell_type": "code",
   "execution_count": 29,
   "metadata": {},
   "outputs": [
    {
     "data": {
      "text/plain": [
       "1"
      ]
     },
     "execution_count": 29,
     "metadata": {},
     "output_type": "execute_result"
    }
   ],
   "source": [
    "def get_first_element(elements):\n",
    "    if len(elements) == 0:\n",
    "        return None\n",
    "    else:\n",
    "        return elements[0]\n",
    "\n",
    "get_first_element([1, 3])"
   ]
  },
  {
   "cell_type": "code",
   "execution_count": null,
   "metadata": {},
   "outputs": [],
   "source": [
    "def convert_animals_2_legs(chickens, cows, pigs):\n",
    "    return chickens * 2 + cows * 4 + pigs * 4\n"
   ]
  },
  {
   "cell_type": "code",
   "execution_count": null,
   "metadata": {},
   "outputs": [],
   "source": [
    "def convert_hours_minutes_2_seconds(hours, minutes):\n",
    "    return hours * 3600 + minutes * 60\n",
    "\n"
   ]
  },
  {
   "cell_type": "code",
   "execution_count": 30,
   "metadata": {},
   "outputs": [
    {
     "data": {
      "text/plain": [
       "8"
      ]
     },
     "execution_count": 30,
     "metadata": {},
     "output_type": "execute_result"
    }
   ],
   "source": [
    "def football_points(wins, draws, losses):\n",
    "    return wins * 3 + draws * 1 + losses * 0\n",
    "\n",
    "football_points(2, 2, 2)"
   ]
  },
  {
   "cell_type": "code",
   "execution_count": null,
   "metadata": {},
   "outputs": [],
   "source": [
    "def less_than_100(a, b):\n",
    "    return a + b < 100"
   ]
  },
  {
   "cell_type": "code",
   "execution_count": 33,
   "metadata": {},
   "outputs": [
    {
     "name": "stdout",
     "output_type": "stream",
     "text": [
      "23\n"
     ]
    }
   ],
   "source": [
    "def difference(nums):\n",
    "    return max(nums) - min(nums)\n",
    "\n",
    "print(f'{difference([10, 15, 25, 2, 10, 6])}')"
   ]
  },
  {
   "cell_type": "code",
   "execution_count": 39,
   "metadata": {},
   "outputs": [
    {
     "name": "stdout",
     "output_type": "stream",
     "text": [
      "45\n"
     ]
    }
   ],
   "source": [
    "def sum_of_elements(my_list):\n",
    "    sum = 0\n",
    "    \n",
    "    for i in my_list:\n",
    "        sum = sum + i\n",
    "\n",
    "    return sum\n",
    "\n",
    "print(f'{sum_of_elements([30, 10, 5])}')"
   ]
  },
  {
   "cell_type": "code",
   "execution_count": 42,
   "metadata": {},
   "outputs": [
    {
     "data": {
      "text/plain": [
       "'Hello, Andrew'"
      ]
     },
     "execution_count": 42,
     "metadata": {},
     "output_type": "execute_result"
    }
   ],
   "source": [
    "def hello_name(name):\n",
    "    return f'Hello, {name}'\n",
    "\n",
    "hello_name('Andrew')"
   ]
  },
  {
   "cell_type": "code",
   "execution_count": 44,
   "metadata": {},
   "outputs": [
    {
     "data": {
      "text/plain": [
       "False"
      ]
     },
     "execution_count": 44,
     "metadata": {},
     "output_type": "execute_result"
    }
   ],
   "source": [
    "def divisible(num):\n",
    "    return num % 100 == 0\n",
    "\n",
    "divisible(101)"
   ]
  },
  {
   "cell_type": "code",
   "execution_count": 47,
   "metadata": {},
   "outputs": [
    {
     "data": {
      "text/plain": [
       "15000"
      ]
     },
     "execution_count": 47,
     "metadata": {},
     "output_type": "execute_result"
    }
   ],
   "source": [
    "def frames(minutes, fps):\n",
    "    return (minutes * 60) * fps\n",
    "\n",
    "frames(10, 25)"
   ]
  },
  {
   "cell_type": "code",
   "execution_count": 51,
   "metadata": {},
   "outputs": [
    {
     "data": {
      "text/plain": [
       "True"
      ]
     },
     "execution_count": 51,
     "metadata": {},
     "output_type": "execute_result"
    }
   ],
   "source": [
    "def is_empty(string):\n",
    "    return string == ''\n",
    "\n",
    "is_empty('')"
   ]
  },
  {
   "cell_type": "code",
   "execution_count": 56,
   "metadata": {},
   "outputs": [
    {
     "data": {
      "text/plain": [
       "True"
      ]
     },
     "execution_count": 56,
     "metadata": {},
     "output_type": "execute_result"
    }
   ],
   "source": [
    "def divides_evenly(a, b):\n",
    "    return a % b == 0\n",
    "\n",
    "\n",
    "divides_evenly(3, 3)"
   ]
  },
  {
   "cell_type": "code",
   "execution_count": 58,
   "metadata": {},
   "outputs": [
    {
     "data": {
      "text/plain": [
       "'четное'"
      ]
     },
     "execution_count": 58,
     "metadata": {},
     "output_type": "execute_result"
    }
   ],
   "source": [
    "def isEvenOrOdd(number):\n",
    "    if number % 2 == 0:\n",
    "        return 'четное'\n",
    "    else:\n",
    "        return 'нечетное'\n",
    "    \n",
    "isEvenOrOdd(2)\n"
   ]
  },
  {
   "cell_type": "code",
   "execution_count": 60,
   "metadata": {},
   "outputs": [
    {
     "data": {
      "text/plain": [
       "1024"
      ]
     },
     "execution_count": 60,
     "metadata": {},
     "output_type": "execute_result"
    }
   ],
   "source": [
    "def pos_com(number):\n",
    "\treturn 2**number\n",
    "\n",
    "pos_com(10)"
   ]
  },
  {
   "cell_type": "code",
   "execution_count": 65,
   "metadata": {},
   "outputs": [
    {
     "data": {
      "text/plain": [
       "True"
      ]
     },
     "execution_count": 65,
     "metadata": {},
     "output_type": "execute_result"
    }
   ],
   "source": [
    "def flip_bool(boolean):\n",
    "    return not boolean\n",
    "   \n",
    "    \n",
    "flip_bool(False)"
   ]
  },
  {
   "cell_type": "code",
   "execution_count": 72,
   "metadata": {},
   "outputs": [
    {
     "data": {
      "text/plain": [
       "'Goooooogle'"
      ]
     },
     "execution_count": 72,
     "metadata": {},
     "output_type": "execute_result"
    }
   ],
   "source": [
    "def google(number):\n",
    "    store: str = ''\n",
    "    for _ in range(number):\n",
    "        store = store + 'o'\n",
    "\n",
    "    return f'G{store}gle'\n",
    "\n",
    "google(6)"
   ]
  },
  {
   "cell_type": "code",
   "execution_count": 81,
   "metadata": {},
   "outputs": [
    {
     "data": {
      "text/plain": [
       "'ellghho'"
      ]
     },
     "execution_count": 81,
     "metadata": {},
     "output_type": "execute_result"
    }
   ],
   "source": [
    "def new_word(word):\n",
    "    store: str = ''\n",
    "    for i in range(1, len(word)):\n",
    "        store = store + word[i]\n",
    "\n",
    "    return store # word[1:len(word)]\n",
    "\n",
    "new_word('Hellghho')"
   ]
  },
  {
   "cell_type": "code",
   "execution_count": 85,
   "metadata": {},
   "outputs": [
    {
     "data": {
      "text/plain": [
       "0"
      ]
     },
     "execution_count": 85,
     "metadata": {},
     "output_type": "execute_result"
    }
   ],
   "source": [
    "def NOT(num):\n",
    "    return int(not bool(num))\n",
    "\n",
    "def AND(num,num2):\n",
    "    return int(bool(num) and bool(num2))\n",
    "\n",
    "def OR(num,num2):\n",
    "    return int(bool(num) or bool(num2))\n",
    "\n",
    "NOT(-1)\n"
   ]
  },
  {
   "cell_type": "code",
   "execution_count": 2,
   "metadata": {},
   "outputs": [
    {
     "name": "stdout",
     "output_type": "stream",
     "text": [
      "0 1\n",
      "1 2\n",
      "2 4\n",
      "0 H\n",
      "1 e\n",
      "2 l\n",
      "3 l\n",
      "4 o\n"
     ]
    }
   ],
   "source": [
    "# https://codechick.io/challenges/81\n",
    "\n",
    "numbers = [1, 2, 4]\n",
    "\n",
    "for i, v in enumerate(numbers):\n",
    "    print(i, v)\n",
    "\n",
    "s = 'Hello'\n",
    "for i, v in enumerate(s):\n",
    "    print(i, v)"
   ]
  },
  {
   "cell_type": "code",
   "execution_count": 3,
   "metadata": {},
   "outputs": [
    {
     "data": {
      "text/plain": [
       "140717731074888"
      ]
     },
     "execution_count": 3,
     "metadata": {},
     "output_type": "execute_result"
    }
   ],
   "source": [
    "x = 2\n",
    "id(x)"
   ]
  },
  {
   "cell_type": "code",
   "execution_count": null,
   "metadata": {},
   "outputs": [],
   "source": [
    "def are_numbers_equal(a, b):\n",
    "    return a == b"
   ]
  },
  {
   "cell_type": "code",
   "execution_count": null,
   "metadata": {},
   "outputs": [],
   "source": [
    "import sys\n",
    "\n",
    "\n",
    "def find_smallest_number(my_list):\n",
    "\n",
    "    min = sys.maxsize\n",
    "    for x in my_list:\n",
    "        if x < min:\n",
    "            min = x\n",
    "\n",
    "    return min"
   ]
  },
  {
   "cell_type": "code",
   "execution_count": null,
   "metadata": {},
   "outputs": [],
   "source": [
    "def less_than_100(a, b):\n",
    "\treturn a + b < 100"
   ]
  },
  {
   "cell_type": "code",
   "execution_count": 9,
   "metadata": {},
   "outputs": [
    {
     "data": {
      "text/plain": [
       "0"
      ]
     },
     "execution_count": 9,
     "metadata": {},
     "output_type": "execute_result"
    }
   ],
   "source": [
    "def flip_bool(boolean):\n",
    "    return int(not bool(boolean))\n",
    "\n",
    "flip_bool(1)"
   ]
  },
  {
   "cell_type": "code",
   "execution_count": null,
   "metadata": {},
   "outputs": [],
   "source": [
    "def new_word(word):\n",
    "    return word[1:len(word)]"
   ]
  },
  {
   "cell_type": "code",
   "execution_count": 12,
   "metadata": {},
   "outputs": [
    {
     "data": {
      "text/plain": [
       "0"
      ]
     },
     "execution_count": 12,
     "metadata": {},
     "output_type": "execute_result"
    }
   ],
   "source": [
    "def distance_home(my_list):\n",
    "    return abs(sum(my_list))\n",
    "\n",
    "\n",
    "distance_home([3, 4, -5, -2])\n"
   ]
  },
  {
   "cell_type": "code",
   "execution_count": 15,
   "metadata": {},
   "outputs": [
    {
     "data": {
      "text/plain": [
       "False"
      ]
     },
     "execution_count": 15,
     "metadata": {},
     "output_type": "execute_result"
    }
   ],
   "source": [
    "def should_serve_drinks(age, on_break):\n",
    "    return age >= 18 and not on_break\n",
    "\n",
    "should_serve_drinks(17, False)"
   ]
  },
  {
   "cell_type": "code",
   "execution_count": null,
   "metadata": {},
   "outputs": [],
   "source": [
    "def flip(y):\n",
    "    return int(not bool(y))"
   ]
  },
  {
   "cell_type": "code",
   "execution_count": 17,
   "metadata": {},
   "outputs": [
    {
     "data": {
      "text/plain": [
       "54"
      ]
     },
     "execution_count": 17,
     "metadata": {},
     "output_type": "execute_result"
    }
   ],
   "source": [
    "def how_many_stickers(n):\n",
    "    return n**2 * 6\n",
    "\n",
    "how_many_stickers(3)"
   ]
  },
  {
   "cell_type": "code",
   "execution_count": 29,
   "metadata": {},
   "outputs": [
    {
     "data": {
      "text/plain": [
       "1.0"
      ]
     },
     "execution_count": 29,
     "metadata": {},
     "output_type": "execute_result"
    }
   ],
   "source": [
    "def inches_to_feet(inches):\n",
    "\treturn inches / 12 if inches >= 12 else 0\n",
    "\n",
    "inches_to_feet(12)"
   ]
  },
  {
   "cell_type": "code",
   "execution_count": 35,
   "metadata": {},
   "outputs": [
    {
     "data": {
      "text/plain": [
       "True"
      ]
     },
     "execution_count": 35,
     "metadata": {},
     "output_type": "execute_result"
    }
   ],
   "source": [
    "def is_safe_bridge(s):\n",
    "    for x in s:\n",
    "        if x == ' ':\n",
    "            return False\n",
    "    return True\n",
    "\n",
    "is_safe_bridge('11111111')"
   ]
  },
  {
   "cell_type": "code",
   "execution_count": 38,
   "metadata": {},
   "outputs": [
    {
     "data": {
      "text/plain": [
       "\"it's a good day\""
      ]
     },
     "execution_count": 38,
     "metadata": {},
     "output_type": "execute_result"
    }
   ],
   "source": [
    "def has_bugs(buggy_code):\n",
    "\tif buggy_code:\n",
    "\t\treturn 'sad days'\n",
    "\telse:\n",
    "\t\treturn 'it\\'s a good day'\n",
    "\t\n",
    "has_bugs(False)"
   ]
  },
  {
   "cell_type": "code",
   "execution_count": 6,
   "metadata": {},
   "outputs": [
    {
     "data": {
      "text/plain": [
       "1"
      ]
     },
     "execution_count": 6,
     "metadata": {},
     "output_type": "execute_result"
    }
   ],
   "source": [
    "def flip_bool(boolean):\n",
    "    return int(not bool(boolean))\n",
    "\n",
    "flip_bool(False)"
   ]
  },
  {
   "cell_type": "code",
   "execution_count": 8,
   "metadata": {},
   "outputs": [
    {
     "data": {
      "text/plain": [
       "'toxic'"
      ]
     },
     "execution_count": 8,
     "metadata": {},
     "output_type": "execute_result"
    }
   ],
   "source": [
    "def new_word(word):\n",
    "    return word[1:len(word)]\n",
    "\n",
    "new_word('toxic')"
   ]
  },
  {
   "cell_type": "code",
   "execution_count": null,
   "metadata": {},
   "outputs": [],
   "source": [
    "def has_key(dictionary, key):\n",
    "    return dictionary.get(key) is not None"
   ]
  },
  {
   "cell_type": "code",
   "execution_count": null,
   "metadata": {},
   "outputs": [],
   "source": [
    "def how_many_potatoes(some_string):\n",
    "    count = 0\n",
    "    word_list = some_string.split(', ')\n",
    "    for word in word_list:\n",
    "        if word == 'картошка':\n",
    "            count += 1\n",
    "    \n",
    "    return count\n",
    "\n",
    "how_many_potatoes(\"лук, картошка, капуста, картошка, лук, картошка, капуста, картошка\")"
   ]
  },
  {
   "cell_type": "code",
   "execution_count": 42,
   "metadata": {},
   "outputs": [
    {
     "data": {
      "text/plain": [
       "False"
      ]
     },
     "execution_count": 42,
     "metadata": {},
     "output_type": "execute_result"
    }
   ],
   "source": [
    "def is_empty(dictionary):\n",
    "    return len(dictionary) == 0\n",
    "\n",
    "\n",
    "is_empty({'a': 3})"
   ]
  },
  {
   "cell_type": "code",
   "execution_count": 52,
   "metadata": {},
   "outputs": [
    {
     "data": {
      "text/plain": [
       "True"
      ]
     },
     "execution_count": 52,
     "metadata": {},
     "output_type": "execute_result"
    }
   ],
   "source": [
    "def match(s1, s2):\n",
    "\treturn s1.lower() == s2.lower()\n",
    "\n",
    "match(\"коД\", \"код\")"
   ]
  },
  {
   "cell_type": "code",
   "execution_count": 1,
   "metadata": {},
   "outputs": [
    {
     "data": {
      "text/plain": [
       "4"
      ]
     },
     "execution_count": 1,
     "metadata": {},
     "output_type": "execute_result"
    }
   ],
   "source": [
    "dict_ = {'name': 'Leo', 'age': 48}\n",
    "\n",
    "tuple_ = (1, 2, 3)\n",
    "\n",
    "list_ = [1, 2, 3, 4]\n",
    "\n",
    "list_[-1]\n"
   ]
  },
  {
   "cell_type": "code",
   "execution_count": null,
   "metadata": {},
   "outputs": [],
   "source": [
    "def convert_age_2_days(years):\n",
    "    return years * 365"
   ]
  },
  {
   "cell_type": "code",
   "execution_count": null,
   "metadata": {},
   "outputs": [],
   "source": [
    "def less_than_100(a, b):\n",
    "    return a + b < 100"
   ]
  },
  {
   "cell_type": "code",
   "execution_count": null,
   "metadata": {},
   "outputs": [],
   "source": [
    "def flip_bool(boolean):\n",
    "    return int(not bool(boolean))"
   ]
  },
  {
   "cell_type": "code",
   "execution_count": 3,
   "metadata": {},
   "outputs": [
    {
     "data": {
      "text/plain": [
       "True"
      ]
     },
     "execution_count": 3,
     "metadata": {},
     "output_type": "execute_result"
    }
   ],
   "source": [
    "def match(s1, s2):\n",
    "    return s1.lower() == s2.lower()\n",
    "\n",
    "match(\"привет\", \"прИВеТ\")"
   ]
  },
  {
   "cell_type": "code",
   "execution_count": 14,
   "metadata": {},
   "outputs": [
    {
     "data": {
      "text/plain": [
       "1"
      ]
     },
     "execution_count": 14,
     "metadata": {},
     "output_type": "execute_result"
    }
   ],
   "source": [
    "def last_ind(lst):\n",
    "    return None if len(lst) == 0 else lst[-1]\n",
    "\n",
    "last_ind([1])"
   ]
  },
  {
   "cell_type": "code",
   "execution_count": 16,
   "metadata": {},
   "outputs": [
    {
     "data": {
      "text/plain": [
       "-2"
      ]
     },
     "execution_count": 16,
     "metadata": {},
     "output_type": "execute_result"
    }
   ],
   "source": [
    "def get_vote_count(votes):\n",
    "    return votes['лайки'] - votes['дизлайки']\n",
    "\n",
    "get_vote_count({ \"лайки\": 13, \"дизлайки\": 15 })"
   ]
  },
  {
   "cell_type": "code",
   "execution_count": null,
   "metadata": {},
   "outputs": [],
   "source": [
    "def calc_kinetic_energy(m, v):\n",
    "    return round((m * v**2) / 2)"
   ]
  },
  {
   "cell_type": "code",
   "execution_count": 18,
   "metadata": {},
   "outputs": [
    {
     "data": {
      "text/plain": [
       "0"
      ]
     },
     "execution_count": 18,
     "metadata": {},
     "output_type": "execute_result"
    }
   ],
   "source": [
    "def count_true(my_list):\n",
    "    count = 0\n",
    "    for flag in my_list:\n",
    "        if flag:\n",
    "            count += 1\n",
    "    \n",
    "    return count\n",
    "\n",
    "count_true([])"
   ]
  },
  {
   "cell_type": "code",
   "execution_count": 21,
   "metadata": {},
   "outputs": [
    {
     "data": {
      "text/plain": [
       "''"
      ]
     },
     "execution_count": 21,
     "metadata": {},
     "output_type": "execute_result"
    }
   ],
   "source": [
    "def get_filename(path):\n",
    "    return path.split('/')[-1]\n",
    "\n",
    "get_filename(\"\")"
   ]
  },
  {
   "cell_type": "code",
   "execution_count": 24,
   "metadata": {},
   "outputs": [
    {
     "data": {
      "text/plain": [
       "3"
      ]
     },
     "execution_count": 24,
     "metadata": {},
     "output_type": "execute_result"
    }
   ],
   "source": [
    "def count_syllables(string):\n",
    "    count = 0\n",
    "    for s in string.lower():\n",
    "        if s in ['e', 'o', 'i', 'u', 'a', 'y']:\n",
    "            count += 1\n",
    "    \n",
    "    return count\n",
    "\n",
    "count_syllables('dedoffffffu')"
   ]
  },
  {
   "cell_type": "code",
   "execution_count": 46,
   "metadata": {},
   "outputs": [
    {
     "data": {
      "text/plain": [
       "False"
      ]
     },
     "execution_count": 46,
     "metadata": {},
     "output_type": "execute_result"
    }
   ],
   "source": [
    "def nothing_is_nothing(*args):\n",
    "    for arg in args:\n",
    "        if not bool(arg):\n",
    "            return False\n",
    "    \n",
    "    return True\n",
    "\n",
    "\n",
    "nothing_is_nothing(1, False, [], {})"
   ]
  },
  {
   "cell_type": "code",
   "execution_count": 54,
   "metadata": {},
   "outputs": [
    {
     "data": {
      "text/plain": [
       "'DFgffffffffffffffffffFH'"
      ]
     },
     "execution_count": 54,
     "metadata": {},
     "output_type": "execute_result"
    }
   ],
   "source": [
    "def reverse_case(string):\n",
    "    sum = ''\n",
    "    for s in string:\n",
    "        if s.isupper():\n",
    "            sum = sum + s.lower()\n",
    "        else:\n",
    "            sum = sum + s.upper()\n",
    "    \n",
    "    return sum\n",
    "\n",
    "reverse_case('dfGFFFFFFFFFFFFFFFFFFfh')"
   ]
  },
  {
   "cell_type": "code",
   "execution_count": 67,
   "metadata": {},
   "outputs": [
    {
     "data": {
      "text/plain": [
       "'восемь'"
      ]
     },
     "execution_count": 67,
     "metadata": {},
     "output_type": "execute_result"
    }
   ],
   "source": [
    "def convert_number_2_word(number):\n",
    "    \n",
    "    decoder = {\n",
    "        1: 'один',\n",
    "        2: 'два', \n",
    "        3: 'три', \n",
    "        4: 'четыре', \n",
    "        5: 'пять', \n",
    "        6: 'шесть', \n",
    "        7: 'семь', \n",
    "        8: 'восемь', \n",
    "        9: 'девять', \n",
    "        0: 'ноль'\n",
    "    }\n",
    "    \n",
    "    return decoder[number]\n",
    "\n",
    "convert_number_2_word(8)"
   ]
  },
  {
   "cell_type": "code",
   "execution_count": 9,
   "metadata": {},
   "outputs": [
    {
     "data": {
      "text/plain": [
       "1"
      ]
     },
     "execution_count": 9,
     "metadata": {},
     "output_type": "execute_result"
    }
   ],
   "source": [
    "numbers = [1, 2, 3, 4]\n",
    "# t = (1, 2, 3 ,4, 5)\n",
    "\n",
    "m = (3 * n for n in numbers if n > 2)\n",
    "numbers.count(1)"
   ]
  },
  {
   "cell_type": "code",
   "execution_count": 14,
   "metadata": {},
   "outputs": [
    {
     "name": "stdout",
     "output_type": "stream",
     "text": [
      "Leo 48\n"
     ]
    }
   ],
   "source": [
    "name, age = (\"Leo\", 48)\n",
    "print(name, age)\n"
   ]
  },
  {
   "cell_type": "code",
   "execution_count": 8,
   "metadata": {},
   "outputs": [
    {
     "name": "stdout",
     "output_type": "stream",
     "text": [
      "\\test_folder\\test_file.dat \\test_folder\\test_file.dat\n"
     ]
    }
   ],
   "source": [
    "import pathlib\n",
    "\n",
    "path1 = pathlib.Path('/test_folder/') / pathlib.Path('test_file.dat')\n",
    "\n",
    "print(str(path1))\n"
   ]
  },
  {
   "cell_type": "code",
   "execution_count": 69,
   "metadata": {},
   "outputs": [
    {
     "data": {
      "text/plain": [
       "'нижний'"
      ]
     },
     "execution_count": 69,
     "metadata": {},
     "output_type": "execute_result"
    }
   ],
   "source": [
    "def get_case(string):\n",
    "    all_symbol_is_upper: bool = True\n",
    "    all_symbol_is_lower: bool = True\n",
    "\n",
    "    for s in string :\n",
    "        if s in ['1', '2', '3', '4', '5', '6', '7', '8', '9', '0', ',', '.', ':', ';', ' ', '!']:\n",
    "            continue\n",
    "\n",
    "        if s.isupper():\n",
    "            all_symbol_is_lower = False\n",
    "        else:\n",
    "            all_symbol_is_upper = False\n",
    "    \n",
    "    if all_symbol_is_upper:\n",
    "        return 'верхний'\n",
    "    \n",
    "    if not(all_symbol_is_upper or all_symbol_is_lower):\n",
    "         return 'смешанный'\n",
    "    \n",
    "\n",
    "    return 'нижний'\n",
    "\n",
    "\n",
    "\n",
    "get_case('whisper...')"
   ]
  },
  {
   "cell_type": "code",
   "execution_count": null,
   "metadata": {},
   "outputs": [],
   "source": [
    "def is_truthy(val):\n",
    "    return int(bool(val))\n",
    "\n"
   ]
  },
  {
   "cell_type": "code",
   "execution_count": 74,
   "metadata": {},
   "outputs": [
    {
     "data": {
      "text/plain": [
       "(0, 1, 0)"
      ]
     },
     "execution_count": 74,
     "metadata": {},
     "output_type": "execute_result"
    }
   ],
   "source": [
    "def calculate_scores(string):\n",
    "    count_А = 0\n",
    "    count_Б = 0\n",
    "    count_В = 0\n",
    "    \n",
    "    for s in string:\n",
    "        if s == 'A':\n",
    "            count_А = count_А + 1\n",
    "        \n",
    "        if s == 'Б':\n",
    "            count_Б = count_Б + 1\n",
    "\n",
    "        if s == 'B':\n",
    "            count_В = count_В + 1\n",
    "\n",
    "\n",
    "    return count_А, count_Б, count_В\n",
    "\n",
    "calculate_scores('ААБВ')"
   ]
  },
  {
   "cell_type": "code",
   "execution_count": 87,
   "metadata": {},
   "outputs": [
    {
     "data": {
      "text/plain": [
       "[3, 2, 1]"
      ]
     },
     "execution_count": 87,
     "metadata": {},
     "output_type": "execute_result"
    }
   ],
   "source": [
    "def calculate_scores(string):\n",
    "    count_A = 0\n",
    "    count_Б = 0\n",
    "    count_B = 0\n",
    "    \n",
    "    for s in string:\n",
    "        if s == 'А':\n",
    "            count_A = count_A + 1\n",
    "        \n",
    "        if s == 'Б':\n",
    "            count_Б = count_Б + 1\n",
    "\n",
    "        if s == 'В':\n",
    "            count_B = count_B + 1\n",
    "\n",
    "\n",
    "    return [count_A, count_Б, count_B]\n",
    "\n",
    "calculate_scores('АААВББ')"
   ]
  },
  {
   "cell_type": "code",
   "execution_count": 1,
   "metadata": {},
   "outputs": [
    {
     "data": {
      "text/plain": [
       "'REWQ'"
      ]
     },
     "execution_count": 1,
     "metadata": {},
     "output_type": "execute_result"
    }
   ],
   "source": [
    "def reverse_capitalize(txt):\n",
    "    store = str()\n",
    "    for s in txt:\n",
    "        store = s + store\n",
    "\n",
    "    return store.upper()\n",
    "\n",
    "reverse_capitalize('qwer')"
   ]
  },
  {
   "cell_type": "code",
   "execution_count": 8,
   "metadata": {},
   "outputs": [
    {
     "data": {
      "text/plain": [
       "\"['a', 'b', 'c']\""
      ]
     },
     "execution_count": 8,
     "metadata": {},
     "output_type": "execute_result"
    }
   ],
   "source": [
    "def sort_word(word):\n",
    "    sorted_word = sorted(word)\n",
    "    new_word = str()\n",
    "    for s in sorted_word:\n",
    "        new_word = new_word + s\n",
    "\n",
    "    return new_word\n",
    "\n",
    "sort_word('bca')"
   ]
  },
  {
   "cell_type": "code",
   "execution_count": 19,
   "metadata": {},
   "outputs": [
    {
     "data": {
      "text/plain": [
       "[3, 5, 7, 9]"
      ]
     },
     "execution_count": 19,
     "metadata": {},
     "output_type": "execute_result"
    }
   ],
   "source": [
    "def increment_items(my_list):\n",
    "    for i, _ in enumerate(my_list):\n",
    "        my_list[i] += 1\n",
    "\n",
    "    return my_list\n",
    "\n",
    "increment_items([2, 4, 6, 8])"
   ]
  },
  {
   "cell_type": "code",
   "execution_count": null,
   "metadata": {},
   "outputs": [],
   "source": [
    "d = {'a': 1, 'b': 2}\n",
    "\n",
    "for  i, k in enumerate(d):\n",
    "    print(k)\n",
    "\n",
    "print()\n",
    "\n",
    "l = [1, 2, 3, 4, 5]\n",
    "\n",
    "for i, v in enumerate(l):\n",
    "    print(v)\n",
    "\n",
    "print()\n",
    "\n",
    "t = ('a', 'b', 'c', 'd')\n",
    "\n",
    "for i, v in enumerate(t):\n",
    "    print(v)"
   ]
  },
  {
   "cell_type": "code",
   "execution_count": 33,
   "metadata": {},
   "outputs": [
    {
     "data": {
      "text/plain": [
       "True"
      ]
     },
     "execution_count": 33,
     "metadata": {},
     "output_type": "execute_result"
    }
   ],
   "source": [
    "def is_palindrome(word):\n",
    "    store = str()\n",
    "\n",
    "    for s in word:\n",
    "        store = s + store\n",
    "\n",
    "    return word == store\n",
    "\n",
    "is_palindrome('mom')"
   ]
  },
  {
   "cell_type": "code",
   "execution_count": null,
   "metadata": {},
   "outputs": [],
   "source": [
    "def volume_of_box(sizes):\n",
    "    return sizes['ширина'] * sizes['длина'] * sizes['высота']"
   ]
  },
  {
   "cell_type": "code",
   "execution_count": 44,
   "metadata": {},
   "outputs": [
    {
     "data": {
      "text/plain": [
       "True"
      ]
     },
     "execution_count": 44,
     "metadata": {},
     "output_type": "execute_result"
    }
   ],
   "source": [
    "def free_shipping(order):\n",
    "    sum = 0\n",
    "\n",
    "    for i, k in enumerate(order):\n",
    "        sum += order[k]\n",
    "    \n",
    "    return sum >= 50\n",
    "free_shipping({ \"Monopoly\": 11.99, \"Secret Hitler\": 35.99, \"Bananagrams\": 13.99 })"
   ]
  },
  {
   "cell_type": "code",
   "execution_count": 46,
   "metadata": {},
   "outputs": [
    {
     "data": {
      "text/plain": [
       "True"
      ]
     },
     "execution_count": 46,
     "metadata": {},
     "output_type": "execute_result"
    }
   ],
   "source": [
    "def test_jackpot(result):\n",
    "    first_item = result[0]\n",
    "    for v in result:\n",
    "        if v != first_item:\n",
    "            return False\n",
    "        \n",
    "    return True\n",
    "\n",
    "test_jackpot([\"АА\", \"АА\", \"АА\", \"АА\"])"
   ]
  },
  {
   "cell_type": "code",
   "execution_count": 50,
   "metadata": {},
   "outputs": [
    {
     "data": {
      "text/plain": [
       "['html', 'css']"
      ]
     },
     "execution_count": 50,
     "metadata": {},
     "output_type": "execute_result"
    }
   ],
   "source": [
    "def get_extension(lst):\n",
    "    extensions = []\n",
    "    for s in lst:\n",
    "        extensions.append(s.split('.')[-1])\n",
    "\n",
    "    return extensions\n",
    "\n",
    "get_extension([\"код.html\", \"код.css\"])"
   ]
  },
  {
   "cell_type": "code",
   "execution_count": 52,
   "metadata": {},
   "outputs": [
    {
     "data": {
      "text/plain": [
       "True"
      ]
     },
     "execution_count": 52,
     "metadata": {},
     "output_type": "execute_result"
    }
   ],
   "source": [
    "def not_not_not(n, b):\n",
    "    acc = b\n",
    "\n",
    "    for _ in range(n):\n",
    "        acc = not acc\n",
    "\n",
    "    return acc\n",
    "\n",
    "not_not_not(6, True)"
   ]
  },
  {
   "cell_type": "code",
   "execution_count": 3,
   "metadata": {},
   "outputs": [
    {
     "data": {
      "text/plain": [
       "'You FAILED the Exam'"
      ]
     },
     "execution_count": 3,
     "metadata": {},
     "output_type": "execute_result"
    }
   ],
   "source": [
    "def grade_percentage(user_score, pass_score):\n",
    "\ts = ''\n",
    "\tif int(user_score[:-1]) < int(pass_score[:-1]):\n",
    "\t\ts = 'FAILED'\n",
    "\telse:\n",
    "\t\ts = 'PASSED'\n",
    "\n",
    "\treturn f'You {s} the Exam'\n",
    "\n",
    "grade_percentage(\"77%\", \"85%\")"
   ]
  },
  {
   "cell_type": "code",
   "execution_count": 15,
   "metadata": {},
   "outputs": [
    {
     "data": {
      "text/plain": [
       "'cxz'"
      ]
     },
     "execution_count": 15,
     "metadata": {},
     "output_type": "execute_result"
    }
   ],
   "source": [
    "def alphabet_soup(txt):\n",
    "    acc = ''\n",
    "    symbols = list(txt)\n",
    "    symbols.sort()\n",
    "\n",
    "    for s in symbols:\n",
    "        acc += s\n",
    "\n",
    "    return acc\n",
    "\n",
    "alphabet_soup('zxc')"
   ]
  },
  {
   "cell_type": "code",
   "execution_count": 26,
   "metadata": {},
   "outputs": [
    {
     "data": {
      "text/plain": [
       "['Андрей', 'Вова', 'Иван']"
      ]
     },
     "execution_count": 26,
     "metadata": {},
     "output_type": "execute_result"
    }
   ],
   "source": [
    "def get_student_names(students):\n",
    "    names = []\n",
    "    for i, k in enumerate(students):\n",
    "        names.append(students[k])\n",
    "\n",
    "    names.sort()\n",
    "\n",
    "    return names\n",
    "\n",
    "get_student_names({\n",
    "  \"Студент 1\" : \"Андрей\",\n",
    "  \"Студент 2\" : \"Иван\",\n",
    "  \"Студент 3\" : \"Вова\"\n",
    "})"
   ]
  },
  {
   "cell_type": "code",
   "execution_count": 34,
   "metadata": {},
   "outputs": [
    {
     "data": {
      "text/plain": [
       "'Нельзя делить на 0!'"
      ]
     },
     "execution_count": 34,
     "metadata": {},
     "output_type": "execute_result"
    }
   ],
   "source": [
    "def calculator(number1, operator, number2):\n",
    "    total = 0\n",
    "\n",
    "    if operator == '+':\n",
    "        total = number1 + number2\n",
    "    elif operator == '-':\n",
    "        total = number1 - number2\n",
    "    elif operator == '*':\n",
    "        total = number1 * number2\n",
    "    elif operator == '/':\n",
    "        if number2 == 0:\n",
    "            return \"Нельзя делить на 0!\"\n",
    "        total = int(number1 / number2)\n",
    "\n",
    "\n",
    "    return total\n",
    "\n",
    "calculator(5, \"/\", 0)"
   ]
  },
  {
   "cell_type": "code",
   "execution_count": 41,
   "metadata": {},
   "outputs": [
    {
     "data": {
      "text/plain": [
       "'АВМ'"
      ]
     },
     "execution_count": 41,
     "metadata": {},
     "output_type": "execute_result"
    }
   ],
   "source": [
    "def society_name(friends):\n",
    "    name = ''\n",
    "    friends.sort()\n",
    "    \n",
    "    for s in friends:\n",
    "        name += s[0]\n",
    "\n",
    "\n",
    "    return name\n",
    "\n",
    "society_name([\"Вова\", \"Андрей\", \"Максим\"])"
   ]
  },
  {
   "cell_type": "code",
   "execution_count": 58,
   "metadata": {},
   "outputs": [
    {
     "data": {
      "text/plain": [
       "False"
      ]
     },
     "execution_count": 58,
     "metadata": {},
     "output_type": "execute_result"
    }
   ],
   "source": [
    "def is_subset(list1, list2):\n",
    "    result = True\n",
    "\n",
    "    for s1 in list1:\n",
    "        r = False\n",
    "        for s2 in list2:\n",
    "            if s1 == s2:\n",
    "                r = True\n",
    "                break\n",
    "\n",
    "        result = result and r\n",
    "    \n",
    "    return result\n",
    "\n",
    "\n",
    "\n",
    "is_subset([3, 2, 5], [5, 7, 9, 2])"
   ]
  },
  {
   "cell_type": "code",
   "execution_count": 29,
   "metadata": {},
   "outputs": [
    {
     "data": {
      "text/plain": [
       "0"
      ]
     },
     "execution_count": 29,
     "metadata": {},
     "output_type": "execute_result"
    }
   ],
   "source": [
    "from string import ascii_lowercase\n",
    "\n",
    "s = \"qudusayo\"\n",
    "\n",
    "ascii_lowercase.index('a')"
   ]
  },
  {
   "cell_type": "code",
   "execution_count": 41,
   "metadata": {},
   "outputs": [
    {
     "data": {
      "text/plain": [
       "123"
      ]
     },
     "execution_count": 41,
     "metadata": {},
     "output_type": "execute_result"
    }
   ],
   "source": [
    "from string import ascii_lowercase\n",
    "\n",
    "\n",
    "def how_many_times(message):\n",
    "    total = 0\n",
    "\n",
    "    for s in message:\n",
    "        total = total + ascii_lowercase.index(s) + 1\n",
    "\n",
    "    return total\n",
    "\n",
    "how_many_times('qudusayo')"
   ]
  },
  {
   "cell_type": "code",
   "execution_count": 66,
   "metadata": {},
   "outputs": [
    {
     "data": {
      "text/plain": [
       "'60.7%'"
      ]
     },
     "execution_count": 66,
     "metadata": {},
     "output_type": "execute_result"
    }
   ],
   "source": [
    "def profit_margin(cost_price, sales_price):\n",
    "    return f'{round(((sales_price - cost_price) / sales_price) * 100, 1)}%'\n",
    "    \n",
    "profit_margin(33, 84)"
   ]
  },
  {
   "cell_type": "code",
   "execution_count": 50,
   "metadata": {},
   "outputs": [
    {
     "data": {
      "text/plain": [
       "[3, 2, 4, 4, 1, 1]"
      ]
     },
     "execution_count": 50,
     "metadata": {},
     "output_type": "execute_result"
    }
   ],
   "source": [
    "def move_to_end(my_list, element):\n",
    "    current_list = []\n",
    "    total = 0\n",
    "    for s in my_list:\n",
    "        if s == element:\n",
    "            total += 1\n",
    "        else:\n",
    "            current_list.append(s)\n",
    "\n",
    "    for _ in range(total):\n",
    "        current_list.append(element)\n",
    "    \n",
    "    return current_list\n",
    "\n",
    "move_to_end([1, 3, 2, 4, 4, 1], 1)"
   ]
  },
  {
   "cell_type": "code",
   "execution_count": 2,
   "metadata": {},
   "outputs": [
    {
     "data": {
      "text/plain": [
       "[1, 2, 3, 7, [1, 2, 3, 7]]"
      ]
     },
     "execution_count": 2,
     "metadata": {},
     "output_type": "execute_result"
    }
   ],
   "source": [
    "def clone(my_list: list):\n",
    "    \n",
    "    my_list.append(my_list.copy())\n",
    "\n",
    "    return my_list\n",
    "\n",
    "clone([1, 2, 3, 7])"
   ]
  },
  {
   "cell_type": "code",
   "execution_count": 23,
   "metadata": {},
   "outputs": [
    {
     "data": {
      "text/plain": [
       "'GFgDS'"
      ]
     },
     "execution_count": 23,
     "metadata": {},
     "output_type": "execute_result"
    }
   ],
   "source": [
    "def reverse(string: str) -> str:\n",
    "    total: str = str()\n",
    "\n",
    "    for symbol in string:\n",
    "        if symbol.islower():\n",
    "            symbol = symbol.upper()\n",
    "        else:\n",
    "            symbol = symbol.lower()\n",
    "        total = total + symbol\n",
    "\n",
    "    return total[::-1]\n",
    "\n",
    "reverse('sdGfg')"
   ]
  },
  {
   "cell_type": "code",
   "execution_count": 32,
   "metadata": {},
   "outputs": [
    {
     "data": {
      "text/plain": [
       "'TNEMmove'"
      ]
     },
     "execution_count": 32,
     "metadata": {},
     "output_type": "execute_result"
    }
   ],
   "source": [
    "def cap_to_front(word):\n",
    "    total_1 = ''\n",
    "\n",
    "\n",
    "    for s in word:\n",
    "        if s.isupper():\n",
    "            total_1 = s + total_1\n",
    "        else:\n",
    "            total_1 += s\n",
    "\n",
    "    return total_1\n",
    "\n",
    "cap_to_front('moveMENT')"
   ]
  },
  {
   "cell_type": "code",
   "execution_count": 71,
   "metadata": {},
   "outputs": [
    {
     "data": {
      "text/plain": [
       "['Даня']"
      ]
     },
     "execution_count": 71,
     "metadata": {},
     "output_type": "execute_result"
    }
   ],
   "source": [
    "def remove_enemies(names, enemies):\n",
    "    friends = []\n",
    "\n",
    "    for name in names:\n",
    "        if name not in enemies:\n",
    "            friends.append(name)\n",
    "            \n",
    "    return friends\n",
    "\n",
    "remove_enemies([\"Катя\", \"Маша\", \"Даня\", \"Маша\"], [\"Маша\", 'Катя'])"
   ]
  },
  {
   "cell_type": "code",
   "execution_count": 74,
   "metadata": {},
   "outputs": [
    {
     "data": {
      "text/plain": [
       "['Даня']"
      ]
     },
     "execution_count": 74,
     "metadata": {},
     "output_type": "execute_result"
    }
   ],
   "source": [
    "def remove_enemies(names, enemies):\n",
    "    friends = []\n",
    "\n",
    "    for name in names:\n",
    "        is_enemy = False\n",
    "        for enemy in enemies:\n",
    "            if name == enemy:\n",
    "                is_enemy = True\n",
    "                break\n",
    "        if not is_enemy:\n",
    "            friends.append(name)\n",
    "\n",
    "    return friends\n",
    "\n",
    "remove_enemies([\"Катя\", \"Маша\", \"Даня\", \"Маша\"], [\"Маша\", 'Катя'])"
   ]
  },
  {
   "cell_type": "code",
   "execution_count": 105,
   "metadata": {},
   "outputs": [
    {
     "data": {
      "text/plain": [
       "4"
      ]
     },
     "execution_count": 105,
     "metadata": {},
     "output_type": "execute_result"
    }
   ],
   "source": [
    "def hamming_distance(string1: str, string2: str):\n",
    "    Hamming_distance: int = 0\n",
    "\n",
    "    for i in range (len(string1)):\n",
    "        if string1[i] != string2[i]:\n",
    "            Hamming_distance += 1\n",
    "\n",
    "    return Hamming_distance\n",
    "\n",
    "hamming_distance(\"bacde\", \"bcdef\")"
   ]
  },
  {
   "cell_type": "code",
   "execution_count": 108,
   "metadata": {},
   "outputs": [
    {
     "data": {
      "text/plain": [
       "4"
      ]
     },
     "execution_count": 108,
     "metadata": {},
     "output_type": "execute_result"
    }
   ],
   "source": [
    "def left_digit(string):\n",
    "    for s in string:\n",
    "        if s.isdigit():\n",
    "            return int(s)\n",
    "    \n",
    "left_digit(';j4gfvh;kj1g1')"
   ]
  },
  {
   "cell_type": "code",
   "execution_count": 164,
   "metadata": {},
   "outputs": [
    {
     "data": {
      "text/plain": [
       "'Привет Вова, Привет Боба'"
      ]
     },
     "execution_count": 164,
     "metadata": {},
     "output_type": "execute_result"
    }
   ],
   "source": [
    "def greet_people(names: list):\n",
    "    greeting = ''\n",
    "\n",
    "    for name in names:\n",
    "        greeting = greeting + 'Привет ' + name + ', '\n",
    "\n",
    "\n",
    "    return greeting.strip(', ')\n",
    "\n",
    "greet_people(['Вова', 'Боба'])"
   ]
  },
  {
   "cell_type": "code",
   "execution_count": 220,
   "metadata": {},
   "outputs": [
    {
     "data": {
      "text/plain": [
       "False"
      ]
     },
     "execution_count": 220,
     "metadata": {},
     "output_type": "execute_result"
    }
   ],
   "source": [
    "def is_isogram(word):\n",
    "    string = word.lower()\n",
    "\n",
    "    for s1 in string:\n",
    "        total = 0\n",
    "        for s2 in string:\n",
    "            if s1 == s2:\n",
    "                total += 1\n",
    "        if total >= 2:\n",
    "            return False\n",
    "        \n",
    "    return True\n",
    "\n",
    "is_isogram(\"AlgorismR\")"
   ]
  },
  {
   "cell_type": "code",
   "execution_count": 221,
   "metadata": {},
   "outputs": [
    {
     "name": "stdout",
     "output_type": "stream",
     "text": [
      "lgorism\n"
     ]
    }
   ],
   "source": [
    "word = \"Algorism\"\n",
    "\n",
    "print(word[1:])"
   ]
  },
  {
   "cell_type": "code",
   "execution_count": 232,
   "metadata": {},
   "outputs": [
    {
     "data": {
      "text/plain": [
       "5"
      ]
     },
     "execution_count": 232,
     "metadata": {},
     "output_type": "execute_result"
    }
   ],
   "source": [
    "def steps_to_convert(string):\n",
    "    count_1 = 0\n",
    "    count_2 = 0\n",
    "    \n",
    "    for s in string:\n",
    "        if s.islower():\n",
    "            count_1 += 1\n",
    "        if s.isupper():\n",
    "            count_2 += 1\n",
    "\n",
    "    if count_1 < count_2:\n",
    "        return count_1\n",
    "    else:\n",
    "        return count_2\n",
    "\n",
    "steps_to_convert('ghfghjkFGHJA')"
   ]
  },
  {
   "cell_type": "code",
   "execution_count": 264,
   "metadata": {},
   "outputs": [
    {
     "data": {
      "text/plain": [
       "[1.0, 2.0, 3.0, 5.5]"
      ]
     },
     "execution_count": 264,
     "metadata": {},
     "output_type": "execute_result"
    }
   ],
   "source": [
    "def get_discounts(numbers: list, d):\n",
    "    total = []\n",
    "    result = 0\n",
    "    d = int(d.replace('%', ''))\n",
    "\n",
    "    for number in numbers:\n",
    "        result = number * (d / 100)\n",
    "        total.append(result)\n",
    "\n",
    "    return total\n",
    "\n",
    "get_discounts([2, 4, 6, 11], \"50%\")"
   ]
  },
  {
   "cell_type": "code",
   "execution_count": 255,
   "metadata": {},
   "outputs": [
    {
     "name": "stdout",
     "output_type": "stream",
     "text": [
      "['50', '']\n"
     ]
    }
   ],
   "source": [
    "d = '50%'\n",
    "\n",
    "print(d.split('%'))"
   ]
  },
  {
   "cell_type": "code",
   "execution_count": 5,
   "metadata": {},
   "outputs": [
    {
     "name": "stdout",
     "output_type": "stream",
     "text": [
      "Leo\n",
      "47\n",
      "{1, 2}\n",
      "{'name': 'Mary', 'age': 23, 'email': '@mary@ex.com'}\n",
      "{'name': 'Mary', 'age': 23}\n",
      "{'name': 'Mary', 'age': 23}\n"
     ]
    }
   ],
   "source": [
    "my_dict = {'name': 'Leo', 'age': 47}\n",
    "\n",
    "'age' in my_dict\n",
    "\n",
    "for v in my_dict.values():\n",
    "    print(v)\n",
    "\n",
    "my_hashtable = {1, 1, 2}\n",
    "print(my_hashtable)\n",
    "\n",
    "my_dict2 = dict(name='Mary', age=23)\n",
    "my_dict2['email'] = '@mary@ex.com'\n",
    "\n",
    "print(my_dict2)\n",
    "\n",
    "del(my_dict2['email'])\n",
    "\n",
    "print(my_dict2)\n",
    "\n",
    "my_dict2.get('email1', '')\n",
    "print(my_dict2)"
   ]
  }
 ],
 "metadata": {
  "kernelspec": {
   "display_name": "Python 3",
   "language": "python",
   "name": "python3"
  },
  "language_info": {
   "codemirror_mode": {
    "name": "ipython",
    "version": 3
   },
   "file_extension": ".py",
   "mimetype": "text/x-python",
   "name": "python",
   "nbconvert_exporter": "python",
   "pygments_lexer": "ipython3",
   "version": "3.11.0"
  },
  "orig_nbformat": 4,
  "vscode": {
   "interpreter": {
    "hash": "5238573367df39f7286bb46f9ff5f08f63a01a80960060ce41e3c79b190280fa"
   }
  }
 },
 "nbformat": 4,
 "nbformat_minor": 2
}
