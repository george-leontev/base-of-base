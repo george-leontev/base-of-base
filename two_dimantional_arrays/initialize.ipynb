{
 "cells": [
  {
   "cell_type": "code",
   "execution_count": 10,
   "metadata": {},
   "outputs": [
    {
     "name": "stdout",
     "output_type": "stream",
     "text": [
      "[[4, 3, 5, 4, 8], [8, 2, 3, 7, 6], [4, 8, 1, 3, 1]]\n",
      "\n",
      "4  3  5  4  8  \n",
      "\n",
      "8  2  3  7  6  \n",
      "\n",
      "4  8  1  3  1  \n",
      "\n"
     ]
    }
   ],
   "source": [
    "from random import random\n",
    "\n",
    "\n",
    "matrix: list[list[int]] = []\n",
    "\n",
    "\n",
    "for _ in range(3):\n",
    "    array: list[int] = []\n",
    "    for _ in range(5):\n",
    "        r: int = int(random() * 8 + 1)\n",
    "        array.append(r)\n",
    "    matrix.append(array)\n",
    "    \n",
    "print(matrix)\n",
    "print()\n",
    "\n",
    "for i in range(3):\n",
    "    for j in range(5):\n",
    "        print(matrix[i][j], ' ',  end = '')\n",
    "    print()\n",
    "    print()"
   ]
  }
 ],
 "metadata": {
  "kernelspec": {
   "display_name": "Python 3",
   "language": "python",
   "name": "python3"
  },
  "language_info": {
   "codemirror_mode": {
    "name": "ipython",
    "version": 3
   },
   "file_extension": ".py",
   "mimetype": "text/x-python",
   "name": "python",
   "nbconvert_exporter": "python",
   "pygments_lexer": "ipython3",
   "version": "3.11.0"
  },
  "orig_nbformat": 4,
  "vscode": {
   "interpreter": {
    "hash": "5238573367df39f7286bb46f9ff5f08f63a01a80960060ce41e3c79b190280fa"
   }
  }
 },
 "nbformat": 4,
 "nbformat_minor": 2
}
