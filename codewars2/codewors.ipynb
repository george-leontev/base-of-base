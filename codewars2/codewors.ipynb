{
 "cells": [
  {
   "cell_type": "code",
   "execution_count": null,
   "metadata": {},
   "outputs": [],
   "source": [
    "def double_integer(i):\n",
    "    return 2 * i"
   ]
  },
  {
   "cell_type": "code",
   "execution_count": 3,
   "metadata": {},
   "outputs": [
    {
     "data": {
      "text/plain": [
       "'False'"
      ]
     },
     "execution_count": 3,
     "metadata": {},
     "output_type": "execute_result"
    }
   ],
   "source": [
    "def boolean_to_string(b):\n",
    "    return str(b)\n",
    "\n",
    "boolean_to_string(False)"
   ]
  },
  {
   "cell_type": "code",
   "execution_count": 5,
   "metadata": {},
   "outputs": [
    {
     "data": {
      "text/plain": [
       "61000"
      ]
     },
     "execution_count": 5,
     "metadata": {},
     "output_type": "execute_result"
    }
   ],
   "source": [
    "def past(h, m, s):\n",
    "    return 1000 * (h * 3600 + m * 60 + s)\n",
    "\n",
    "past(0, 1, 1)"
   ]
  },
  {
   "cell_type": "code",
   "execution_count": 7,
   "metadata": {},
   "outputs": [
    {
     "data": {
      "text/plain": [
       "False"
      ]
     },
     "execution_count": 7,
     "metadata": {},
     "output_type": "execute_result"
    }
   ],
   "source": [
    "def zero_fuel(distance_to_pump, mpg, fuel_left):\n",
    "    return mpg * fuel_left >= distance_to_pump\n",
    "\n",
    "zero_fuel(100, 50, 1)"
   ]
  },
  {
   "cell_type": "code",
   "execution_count": 12,
   "metadata": {},
   "outputs": [
    {
     "data": {
      "text/plain": [
       "[-1, -2, -3, -4, -5]"
      ]
     },
     "execution_count": 12,
     "metadata": {},
     "output_type": "execute_result"
    }
   ],
   "source": [
    "def invert(lst):\n",
    "    return [-s for s in lst]\n",
    "\n",
    "invert([1,2,3,4,5])"
   ]
  },
  {
   "cell_type": "code",
   "execution_count": 15,
   "metadata": {},
   "outputs": [
    {
     "data": {
      "text/plain": [
       "50"
      ]
     },
     "execution_count": 15,
     "metadata": {},
     "output_type": "execute_result"
    }
   ],
   "source": [
    "def square_sum(numbers):\n",
    "    return sum([n**2 for n in numbers])\n",
    "\n",
    "square_sum([-1,0,7])"
   ]
  },
  {
   "cell_type": "code",
   "execution_count": null,
   "metadata": {},
   "outputs": [],
   "source": [
    "def greet():\n",
    "    return 'hello world!'"
   ]
  },
  {
   "cell_type": "code",
   "execution_count": 19,
   "metadata": {},
   "outputs": [
    {
     "data": {
      "text/plain": [
       "36"
      ]
     },
     "execution_count": 19,
     "metadata": {},
     "output_type": "execute_result"
    }
   ],
   "source": [
    "def summation(num):\n",
    "    return sum([n for n in range(1, num + 1)])\n",
    "\n",
    "summation(8)"
   ]
  },
  {
   "cell_type": "code",
   "execution_count": 42,
   "metadata": {},
   "outputs": [
    {
     "data": {
      "text/plain": [
       "[0, 0]"
      ]
     },
     "execution_count": 42,
     "metadata": {},
     "output_type": "execute_result"
    }
   ],
   "source": [
    "def count_positives_sum_negatives(arr):\n",
    "    if arr is None or len(arr) == 0:\n",
    "        return []\n",
    "\n",
    "    positive_count = 0\n",
    "    negative_sum = 0\n",
    "\n",
    "    for n in arr:\n",
    "        if n > 0:\n",
    "            positive_count += 1\n",
    "        else:\n",
    "            negative_sum += n\n",
    "        \n",
    "    \n",
    "    return [positive_count, negative_sum]\n",
    "\n",
    "count_positives_sum_negatives([0,0,0,0,0,0,0,0,0])"
   ]
  },
  {
   "cell_type": "code",
   "execution_count": 44,
   "metadata": {},
   "outputs": [
    {
     "data": {
      "text/plain": [
       "[2, 4, 6]"
      ]
     },
     "execution_count": 44,
     "metadata": {},
     "output_type": "execute_result"
    }
   ],
   "source": [
    "def maps(a):\n",
    "    return [2 * n for n in a]\n",
    "\n",
    "maps([1, 2, 3])"
   ]
  },
  {
   "cell_type": "code",
   "execution_count": null,
   "metadata": {},
   "outputs": [],
   "source": [
    "def greet(name):\n",
    "    return f\"Hello, {name} how are you doing today?\""
   ]
  },
  {
   "cell_type": "code",
   "execution_count": 68,
   "metadata": {},
   "outputs": [
    {
     "data": {
      "text/plain": [
       "100"
      ]
     },
     "execution_count": 68,
     "metadata": {},
     "output_type": "execute_result"
    }
   ],
   "source": [
    "from math import sqrt\n",
    "\n",
    "\n",
    "def find_next_square(sq):\n",
    "    if sqrt(sq) - int(sqrt(sq)):\n",
    "        return -1\n",
    "\n",
    "    return (int(sqrt(sq)) + 1)**2\n",
    "\n",
    "find_next_square(81)"
   ]
  },
  {
   "cell_type": "code",
   "execution_count": 66,
   "metadata": {},
   "outputs": [
    {
     "data": {
      "text/plain": [
       "0.43398113205660316"
      ]
     },
     "execution_count": 66,
     "metadata": {},
     "output_type": "execute_result"
    }
   ],
   "source": [
    "from math import sqrt\n",
    "\n",
    "sqrt(89) - int(sqrt(89))"
   ]
  },
  {
   "cell_type": "code",
   "execution_count": 83,
   "metadata": {},
   "outputs": [
    {
     "data": {
      "text/plain": [
       "'of'"
      ]
     },
     "execution_count": 83,
     "metadata": {},
     "output_type": "execute_result"
    }
   ],
   "source": [
    "def get_middle(s):\n",
    "    middle = int(len(s) / 2)\n",
    "    return s[middle - 1: middle + 1] if len(s) % 2 == 0 else s[middle]\n",
    "\n",
    "get_middle(\"of\")"
   ]
  },
  {
   "cell_type": "code",
   "execution_count": 7,
   "metadata": {},
   "outputs": [
    {
     "data": {
      "text/plain": [
       "'ountr'"
      ]
     },
     "execution_count": 7,
     "metadata": {},
     "output_type": "execute_result"
    }
   ],
   "source": [
    "def remove_char(s):\n",
    "    return s[1:-1]\n",
    "\n",
    "remove_char('country')"
   ]
  },
  {
   "cell_type": "code",
   "execution_count": 11,
   "metadata": {},
   "outputs": [
    {
     "data": {
      "text/plain": [
       "28"
      ]
     },
     "execution_count": 11,
     "metadata": {},
     "output_type": "execute_result"
    }
   ],
   "source": [
    "def basic_op(operator, value1, value2):\n",
    "    return eval(f'{value1} {operator} {value2}')\n",
    "\n",
    "\n",
    "basic_op('*', 4, 7)"
   ]
  },
  {
   "cell_type": "code",
   "execution_count": 20,
   "metadata": {},
   "outputs": [
    {
     "data": {
      "text/plain": [
       "'ehT kciuq   nworb xof spmuj  revo eht yzal .god'"
      ]
     },
     "execution_count": 20,
     "metadata": {},
     "output_type": "execute_result"
    }
   ],
   "source": [
    "def reverse_words(text):\n",
    "    return ' '.join([w[::-1] for w in text.split(' ')])\n",
    "\n",
    "reverse_words('The quick   brown fox jumps  over the lazy dog.')"
   ]
  },
  {
   "cell_type": "code",
   "execution_count": 25,
   "metadata": {},
   "outputs": [
    {
     "data": {
      "text/plain": [
       "'42 -9'"
      ]
     },
     "execution_count": 25,
     "metadata": {},
     "output_type": "execute_result"
    }
   ],
   "source": [
    "def high_and_low(numbers):\n",
    "    nums = [int(n) for n in numbers.split()]\n",
    "\n",
    "    return f'{max(nums)} {min(nums)}'\n",
    "\n",
    "\n",
    "high_and_low(\"8 3 -5 42 -1 0 0 -9 4 7 4 -4\")"
   ]
  },
  {
   "cell_type": "code",
   "execution_count": 29,
   "metadata": {},
   "outputs": [
    {
     "data": {
      "text/plain": [
       "-3456"
      ]
     },
     "execution_count": 29,
     "metadata": {},
     "output_type": "execute_result"
    }
   ],
   "source": [
    "def make_negative(number):\n",
    "    return -number if number > 0 else number\n",
    "\n",
    "make_negative(3456)"
   ]
  },
  {
   "cell_type": "code",
   "execution_count": 1,
   "metadata": {},
   "outputs": [
    {
     "data": {
      "text/plain": [
       "['Ryan', 'Mark']"
      ]
     },
     "execution_count": 1,
     "metadata": {},
     "output_type": "execute_result"
    }
   ],
   "source": [
    "def friend(x):\n",
    "    return [n for n in x if len(n) == 4]\n",
    "\n",
    "friend([\"Ryan\", \"Kieran\", \"Mark\",])"
   ]
  },
  {
   "cell_type": "code",
   "execution_count": 4,
   "metadata": {},
   "outputs": [
    {
     "data": {
      "text/plain": [
       "'aaaa'"
      ]
     },
     "execution_count": 4,
     "metadata": {},
     "output_type": "execute_result"
    }
   ],
   "source": [
    "def repeat_str(repeat, string):\n",
    "    return ''.join([string for _ in range(repeat)])\n",
    "\n",
    "repeat_str(4, 'a')"
   ]
  },
  {
   "cell_type": "code",
   "execution_count": 6,
   "metadata": {},
   "outputs": [
    {
     "data": {
      "text/plain": [
       "False"
      ]
     },
     "execution_count": 6,
     "metadata": {},
     "output_type": "execute_result"
    }
   ],
   "source": [
    "def solution(text: str, ending: str):\n",
    "    return text.endswith(ending)\n",
    "\n",
    "solution('abc', 'bcg')"
   ]
  },
  {
   "cell_type": "code",
   "execution_count": 17,
   "metadata": {},
   "outputs": [
    {
     "data": {
      "text/plain": [
       "21"
      ]
     },
     "execution_count": 17,
     "metadata": {},
     "output_type": "execute_result"
    }
   ],
   "source": [
    "def get_sum(a, b):\n",
    "    if a > b:\n",
    "        (a, b) = (b, a)\n",
    "\n",
    "    return sum([s for s in range(a, b + 1)])\n",
    "\n",
    "\n",
    "get_sum(8, 6)"
   ]
  },
  {
   "cell_type": "code",
   "execution_count": null,
   "metadata": {},
   "outputs": [],
   "source": [
    "def longest(a1, a2):\n",
    "    return ''.join(sorted(set(a1 + a2)))"
   ]
  },
  {
   "cell_type": "code",
   "execution_count": 28,
   "metadata": {},
   "outputs": [
    {
     "data": {
      "text/plain": [
       "'C-Ww-Aaa-Tttt'"
      ]
     },
     "execution_count": 28,
     "metadata": {},
     "output_type": "execute_result"
    }
   ],
   "source": [
    "def accum(s):\n",
    "    return '-'.join([(c * (i + 1)).title() for i, c in enumerate(s.lower())])\n",
    "\n",
    "accum(\"cwAt\")"
   ]
  },
  {
   "cell_type": "code",
   "execution_count": 76,
   "metadata": {},
   "outputs": [
    {
     "data": {
      "text/plain": [
       "'R Iny D A'"
      ]
     },
     "execution_count": 76,
     "metadata": {},
     "output_type": "execute_result"
    }
   ],
   "source": [
    "def to_jaden_case(string):\n",
    "    return ' '.join(([f'{w[0].upper()}{w[1:]}' for w in string.lower().split()]))\n",
    "\n",
    "to_jaden_case('R InY D A')"
   ]
  },
  {
   "cell_type": "code",
   "execution_count": 26,
   "metadata": {},
   "outputs": [
    {
     "data": {
      "text/plain": [
       "'martin does not play banjo'"
      ]
     },
     "execution_count": 26,
     "metadata": {},
     "output_type": "execute_result"
    }
   ],
   "source": [
    "def are_you_playing_banjo(name):\n",
    "    if name[0].lower() == 'r':\n",
    "        return f'{name} plays banjo'\n",
    "\n",
    "    return f'{name} does not play banjo'\n",
    "\n",
    "\n",
    "are_you_playing_banjo(\"martin\")\n"
   ]
  },
  {
   "cell_type": "code",
   "execution_count": 16,
   "metadata": {},
   "outputs": [
    {
     "data": {
      "text/plain": [
       "'GACCGCCGCC'"
      ]
     },
     "execution_count": 16,
     "metadata": {},
     "output_type": "execute_result"
    }
   ],
   "source": [
    "def dna_to_rna(dna):\n",
    "    total = ''\n",
    "    for c in dna:\n",
    "        if c == 'T':\n",
    "            total = total + 'U'\n",
    "        else:\n",
    "            total = total + c\n",
    "\n",
    "    return total\n",
    "\n",
    "dna_to_rna(\"GACCGCCGCC\")"
   ]
  },
  {
   "cell_type": "code",
   "execution_count": 19,
   "metadata": {},
   "outputs": [
    {
     "data": {
      "text/plain": [
       "'UUUUUUUUUUUUUUUU'"
      ]
     },
     "execution_count": 19,
     "metadata": {},
     "output_type": "execute_result"
    }
   ],
   "source": [
    "def DNAtoRNA(dna):\n",
    "    return dna.replace('T', 'U')\n",
    "\n",
    "dna_to_rna(\"TTTTTTTTTTTTTTTT\")"
   ]
  },
  {
   "cell_type": "code",
   "execution_count": 22,
   "metadata": {},
   "outputs": [
    {
     "data": {
      "text/plain": [
       "9"
      ]
     },
     "execution_count": 22,
     "metadata": {},
     "output_type": "execute_result"
    }
   ],
   "source": [
    "def positive_sum(arr):\n",
    "    sum = 0\n",
    "    for n in arr:\n",
    "        if n > 0:\n",
    "            sum += n\n",
    "    \n",
    "    return sum\n",
    "\n",
    "positive_sum([-1,2,3,4,-5])"
   ]
  },
  {
   "cell_type": "code",
   "execution_count": 23,
   "metadata": {},
   "outputs": [
    {
     "data": {
      "text/plain": [
       "9"
      ]
     },
     "execution_count": 23,
     "metadata": {},
     "output_type": "execute_result"
    }
   ],
   "source": [
    "def positive_sum(arr):\n",
    "    return sum(x for x in arr if x > 0)\n",
    "\n",
    "positive_sum([-1,2,3,4,-5])"
   ]
  },
  {
   "cell_type": "code",
   "execution_count": 28,
   "metadata": {},
   "outputs": [
    {
     "data": {
      "text/plain": [
       "27"
      ]
     },
     "execution_count": 28,
     "metadata": {},
     "output_type": "execute_result"
    }
   ],
   "source": [
    "def simple_multiplication(number):\n",
    "    if number % 2 == 0:\n",
    "        return number * 8\n",
    "    else:\n",
    "        return number * 9\n",
    "\n",
    "\n",
    "simple_multiplication(3)"
   ]
  },
  {
   "cell_type": "code",
   "execution_count": 29,
   "metadata": {},
   "outputs": [
    {
     "data": {
      "text/plain": [
       "27"
      ]
     },
     "execution_count": 29,
     "metadata": {},
     "output_type": "execute_result"
    }
   ],
   "source": [
    "def simple_multiplication(number) :\n",
    "    return number * 9 if number % 2 else number * 8\n",
    "\n",
    "simple_multiplication(3)"
   ]
  },
  {
   "cell_type": "code",
   "execution_count": 33,
   "metadata": {},
   "outputs": [
    {
     "data": {
      "text/plain": [
       "'No'"
      ]
     },
     "execution_count": 33,
     "metadata": {},
     "output_type": "execute_result"
    }
   ],
   "source": [
    "def bool_to_word(boolean):\n",
    "    return 'Yes' if boolean == True else 'No'\n",
    "\n",
    "bool_to_word(False)"
   ]
  },
  {
   "cell_type": "code",
   "execution_count": 57,
   "metadata": {},
   "outputs": [
    {
     "data": {
      "text/plain": [
       "True"
      ]
     },
     "execution_count": 57,
     "metadata": {},
     "output_type": "execute_result"
    }
   ],
   "source": [
    "def xo(s):\n",
    "    word = s.lower()\n",
    "    o_count = 0\n",
    "    x_count = 0\n",
    "\n",
    "    for c in word:\n",
    "        if c == 'o':\n",
    "            o_count += 1\n",
    "        elif c == 'x':\n",
    "            x_count += 1\n",
    "    \n",
    "    return o_count == x_count\n",
    "\n",
    "\n",
    "xo('ooxXm')"
   ]
  },
  {
   "cell_type": "code",
   "execution_count": 58,
   "metadata": {},
   "outputs": [
    {
     "data": {
      "text/plain": [
       "True"
      ]
     },
     "execution_count": 58,
     "metadata": {},
     "output_type": "execute_result"
    }
   ],
   "source": [
    "def xo(s):\n",
    "    s = s.lower()\n",
    "    return s.count('x') == s.count('o')\n",
    "\n",
    "xo('ooxXm')"
   ]
  },
  {
   "cell_type": "code",
   "execution_count": 63,
   "metadata": {},
   "outputs": [
    {
     "data": {
      "text/plain": [
       "0"
      ]
     },
     "execution_count": 63,
     "metadata": {},
     "output_type": "execute_result"
    }
   ],
   "source": [
    "def paperwork(n, m):\n",
    "    return n * m if n > 0 and m > 0 else 0\n",
    "\n",
    "paperwork(0,5)"
   ]
  },
  {
   "cell_type": "code",
   "execution_count": null,
   "metadata": {},
   "outputs": [],
   "source": [
    "^_^ # ^_^"
   ]
  },
  {
   "cell_type": "code",
   "execution_count": 69,
   "metadata": {},
   "outputs": [
    {
     "data": {
      "text/plain": [
       "False"
      ]
     },
     "execution_count": 69,
     "metadata": {},
     "output_type": "execute_result"
    }
   ],
   "source": [
    "def better_than_average(class_points, your_points):\n",
    "    return True if (sum(class_points) / len(class_points)) < your_points else False\n",
    "\n",
    "better_than_average([41, 75, 72, 56, 80, 82, 81, 33], 50)"
   ]
  },
  {
   "cell_type": "code",
   "execution_count": 72,
   "metadata": {},
   "outputs": [
    {
     "data": {
      "text/plain": [
       "False"
      ]
     },
     "execution_count": 72,
     "metadata": {},
     "output_type": "execute_result"
    }
   ],
   "source": [
    "def is_triangle(a, b, c):\n",
    "    return True if a + b > c and a + c > b and b + c > a else False\n",
    "\n",
    "is_triangle(3, 1, 2)"
   ]
  },
  {
   "cell_type": "code",
   "execution_count": 74,
   "metadata": {},
   "outputs": [
    {
     "data": {
      "text/plain": [
       "566"
      ]
     },
     "execution_count": 74,
     "metadata": {},
     "output_type": "execute_result"
    }
   ],
   "source": [
    "def minimum(arr):\n",
    "    return min(arr)\n",
    "\n",
    "def maximum(arr):\n",
    "    return max(arr)\n",
    "\n",
    "\n",
    "maximum([4,6,2,1,9,63,-134,566])"
   ]
  },
  {
   "cell_type": "code",
   "execution_count": null,
   "metadata": {},
   "outputs": [],
   "source": [
    "def make_upper_case(s):\n",
    "    return s.upper()"
   ]
  },
  {
   "cell_type": "code",
   "execution_count": 77,
   "metadata": {},
   "outputs": [
    {
     "data": {
      "text/plain": [
       "893"
      ]
     },
     "execution_count": 77,
     "metadata": {},
     "output_type": "execute_result"
    }
   ],
   "source": [
    "def litres(time):\n",
    "    return int(time * 0.5)\n",
    "\n",
    "litres(1787)"
   ]
  },
  {
   "cell_type": "code",
   "execution_count": 83,
   "metadata": {},
   "outputs": [
    {
     "data": {
      "text/plain": [
       "19"
      ]
     },
     "execution_count": 83,
     "metadata": {},
     "output_type": "execute_result"
    }
   ],
   "source": [
    "def century(year):\n",
    "    return (int(year // 100) + 1) if year % 100 != 0 else int(year // 100)\n",
    "\n",
    "century(1900)"
   ]
  },
  {
   "cell_type": "code",
   "execution_count": 86,
   "metadata": {},
   "outputs": [
    {
     "data": {
      "text/plain": [
       "6.6"
      ]
     },
     "execution_count": 86,
     "metadata": {},
     "output_type": "execute_result"
    }
   ],
   "source": [
    "def sum_array(a):\n",
    "    return sum(a)\n",
    "\n",
    "sum_array([1.1, 2.2, 3.3])"
   ]
  },
  {
   "cell_type": "code",
   "execution_count": 95,
   "metadata": {},
   "outputs": [
    {
     "data": {
      "text/plain": [
       "')())())'"
      ]
     },
     "execution_count": 95,
     "metadata": {},
     "output_type": "execute_result"
    }
   ],
   "source": [
    "def duplicate_encode(word):\n",
    "    d = {}\n",
    "    new_word = ''\n",
    "\n",
    "    for s in word.lower():\n",
    "        if s not in d:\n",
    "            d[s] = 1\n",
    "        else:\n",
    "            d[s] += 1\n",
    "    \n",
    "    for c in word.lower():\n",
    "        if d[c] > 1:\n",
    "            new_word += ')'\n",
    "        else:\n",
    "            new_word += '('\n",
    "\n",
    "    return new_word\n",
    "\n",
    "duplicate_encode('Success')"
   ]
  },
  {
   "cell_type": "code",
   "execution_count": 3,
   "metadata": {},
   "outputs": [
    {
     "data": {
      "text/plain": [
       "9"
      ]
     },
     "execution_count": 3,
     "metadata": {},
     "output_type": "execute_result"
    }
   ],
   "source": [
    "def binary_array_to_number(arr):\n",
    "    return sum(n * 2**i for i, n in enumerate(arr[::-1]))\n",
    "\n",
    "binary_array_to_number([1, 0, 0, 1])"
   ]
  },
  {
   "cell_type": "code",
   "execution_count": 4,
   "metadata": {},
   "outputs": [
    {
     "data": {
      "text/plain": [
       "2.0"
      ]
     },
     "execution_count": 4,
     "metadata": {},
     "output_type": "execute_result"
    }
   ],
   "source": [
    "def find_average(numbers):\n",
    "    return sum(numbers) / len(numbers)\n",
    "\n",
    "find_average([1, 2, 3])"
   ]
  },
  {
   "cell_type": "code",
   "execution_count": 22,
   "metadata": {},
   "outputs": [
    {
     "data": {
      "text/plain": [
       "-2443"
      ]
     },
     "execution_count": 22,
     "metadata": {},
     "output_type": "execute_result"
    }
   ],
   "source": [
    "def find_uniq(arr):\n",
    "    d = {}\n",
    "\n",
    "    for s in arr:\n",
    "        if s not in d:\n",
    "            d[s] = 1\n",
    "        else:\n",
    "            d[s] += 1\n",
    "    \n",
    "    for c in arr:\n",
    "        if d[c] < 2:\n",
    "            return c\n",
    "\n",
    "\n",
    "find_uniq([ 0, 0, -2443, 0, 0 ])"
   ]
  },
  {
   "cell_type": "code",
   "execution_count": 48,
   "metadata": {},
   "outputs": [
    {
     "data": {
      "text/plain": [
       "True"
      ]
     },
     "execution_count": 48,
     "metadata": {},
     "output_type": "execute_result"
    }
   ],
   "source": [
    "from  math import sqrt\n",
    "\n",
    "\n",
    "def is_square(n):\n",
    "    if n < 0:\n",
    "        return False\n",
    "    \n",
    "    return True if int(sqrt(n))**2 == n else False\n",
    "\n",
    "is_square(81)"
   ]
  },
  {
   "cell_type": "code",
   "execution_count": 68,
   "metadata": {},
   "outputs": [
    {
     "data": {
      "text/plain": [
       "False"
      ]
     },
     "execution_count": 68,
     "metadata": {},
     "output_type": "execute_result"
    }
   ],
   "source": [
    "def lovefunc( flower1, flower2):\n",
    "    return (flower1 % 2 == 0 and flower2 % 2 != 0) or (flower1 % 2 != 0 and flower2 % 2 == 0)\n",
    "\n",
    "\n",
    "lovefunc(4,4)"
   ]
  },
  {
   "cell_type": "code",
   "execution_count": 79,
   "metadata": {},
   "outputs": [
    {
     "data": {
      "text/plain": [
       "3"
      ]
     },
     "execution_count": 79,
     "metadata": {},
     "output_type": "execute_result"
    }
   ],
   "source": [
    "def persistence(n):\n",
    "    c  = 0\n",
    "\n",
    "    def internal_persistence(num):\n",
    "        p = 1\n",
    "        while num != 0:\n",
    "            d = num % 10\n",
    "            p = p * d\n",
    "            num = num // 10\n",
    "\n",
    "        return p\n",
    "    \n",
    "    while n > 9:\n",
    "        n = internal_persistence(n)\n",
    "        c += 1\n",
    "    \n",
    "    return c\n",
    "    \n",
    "\n",
    "\n",
    "persistence(39)"
   ]
  },
  {
   "cell_type": "code",
   "execution_count": 106,
   "metadata": {},
   "outputs": [
    {
     "data": {
      "text/plain": [
       "17"
      ]
     },
     "execution_count": 106,
     "metadata": {},
     "output_type": "execute_result"
    }
   ],
   "source": [
    "def number(bus_stops):\n",
    "    total = 0\n",
    "    for arr in bus_stops:\n",
    "            total = total + arr[0] - arr[1]\n",
    "\n",
    "    return total\n",
    "\n",
    "number([[3,0],[9,1],[4,10],[12,2],[6,1],[7,10]])"
   ]
  },
  {
   "cell_type": "code",
   "execution_count": null,
   "metadata": {},
   "outputs": [],
   "source": [
    "def number(bus_stops):\n",
    "    return sum([stop[0] - stop[1] for stop in bus_stops])"
   ]
  },
  {
   "cell_type": "code",
   "execution_count": 189,
   "metadata": {},
   "outputs": [
    {
     "data": {
      "text/plain": [
       "True"
      ]
     },
     "execution_count": 189,
     "metadata": {},
     "output_type": "execute_result"
    }
   ],
   "source": [
    "from string import punctuation, digits, whitespace, ascii_lowercase\n",
    "\n",
    "def is_pangram(s: str):\n",
    "\n",
    "    return len(set((''.join([c for c in s if c not in f'{punctuation}{digits}{whitespace}'])).lower())) == len(ascii_lowercase)\n",
    "\n",
    "is_pangram(\"The quick, b11rown fox jumps over the lazy dog!\")"
   ]
  },
  {
   "cell_type": "code",
   "execution_count": 43,
   "metadata": {},
   "outputs": [
    {
     "data": {
      "text/plain": [
       "987654321"
      ]
     },
     "execution_count": 43,
     "metadata": {},
     "output_type": "execute_result"
    }
   ],
   "source": [
    "def descending_order(num):\n",
    "    return int(''.join(sorted(str(num))[::-1]))\n",
    "\n",
    "descending_order(123456789)"
   ]
  },
  {
   "cell_type": "code",
   "execution_count": 92,
   "metadata": {},
   "outputs": [
    {
     "data": {
      "text/plain": [
       "False"
      ]
     },
     "execution_count": 92,
     "metadata": {},
     "output_type": "execute_result"
    }
   ],
   "source": [
    "def is_valid_walk(walk):\n",
    "    count_1 = 0\n",
    "    count_2 = 0\n",
    "    count_3 = 0\n",
    "    count_4 = 0\n",
    "\n",
    "    for word in walk:\n",
    "        if word == 'n':\n",
    "            count_1 += 1\n",
    "        elif word == 's':\n",
    "            count_2 += 1\n",
    "        elif word == 'w':\n",
    "            count_3 += 1\n",
    "        elif word == 'e':\n",
    "            count_4 += 1\n",
    "\n",
    "\n",
    "    return True if len(walk) == 10 and count_1 == count_2 and count_3 == count_4 else False\n",
    "\n",
    "is_valid_walk(['w','e','w','e','w','e','w','e','w','e','w','e'])"
   ]
  },
  {
   "cell_type": "code",
   "execution_count": null,
   "metadata": {},
   "outputs": [],
   "source": [
    "def is_Valid_Walk(walk):\n",
    "    return len(walk) == 10 and walk.count('n') == walk.count('s') and walk.count('e') == walk.count('w')"
   ]
  },
  {
   "cell_type": "code",
   "execution_count": 94,
   "metadata": {},
   "outputs": [
    {
     "data": {
      "text/plain": [
       "2197"
      ]
     },
     "execution_count": 94,
     "metadata": {},
     "output_type": "execute_result"
    }
   ],
   "source": [
    "def row_sum_odd_numbers(n):\n",
    "    return n**3\n",
    "\n",
    "row_sum_odd_numbers(13)"
   ]
  },
  {
   "cell_type": "code",
   "execution_count": 31,
   "metadata": {},
   "outputs": [
    {
     "data": {
      "text/plain": [
       "2"
      ]
     },
     "execution_count": 31,
     "metadata": {},
     "output_type": "execute_result"
    }
   ],
   "source": [
    "def duplicate_count(text):\n",
    "    count = 0\n",
    "    total = 0\n",
    "    \n",
    "    for s in set(text.lower()):\n",
    "        count = 0\n",
    "        for c in text.lower():\n",
    "            if s == c:\n",
    "                count += 1\n",
    "            \n",
    "        if count > 1:\n",
    "            total += 1\n",
    "            \n",
    "    \n",
    "    return total\n",
    "\n",
    "\n",
    "duplicate_count(\"Indivisibilities\")"
   ]
  },
  {
   "cell_type": "code",
   "execution_count": 69,
   "metadata": {},
   "outputs": [
    {
     "data": {
      "text/plain": [
       "'1.57'"
      ]
     },
     "execution_count": 69,
     "metadata": {},
     "output_type": "execute_result"
    }
   ],
   "source": [
    "def series_sum(n):\n",
    "    total = int()\n",
    "    x = 1\n",
    "    \n",
    "    for _ in range(n):\n",
    "        total = total + 1 / x\n",
    "        x += 3\n",
    "\n",
    "    return  str(\"%.2f\" % total)\n",
    "    \n",
    "\n",
    "series_sum(5)"
   ]
  },
  {
   "cell_type": "code",
   "execution_count": 72,
   "metadata": {},
   "outputs": [
    {
     "data": {
      "text/plain": [
       "'Normal'"
      ]
     },
     "execution_count": 72,
     "metadata": {},
     "output_type": "execute_result"
    }
   ],
   "source": [
    "def bmi(weight, height):\n",
    "    if weight / height**2 <= 18.5:\n",
    "        return \"Underweight\"\n",
    "    if weight / height**2 <= 25:\n",
    "        return \"Normal\"\n",
    "    if weight / height**2 <= 30:\n",
    "        return \"Overweight\"\n",
    "    if weight / height**2 > 30:\n",
    "        return \"Obese\"\n",
    "        \n",
    "\n",
    "bmi(80, 1.80)"
   ]
  },
  {
   "cell_type": "code",
   "execution_count": 74,
   "metadata": {},
   "outputs": [
    {
     "data": {
      "text/plain": [
       "16"
      ]
     },
     "execution_count": 74,
     "metadata": {},
     "output_type": "execute_result"
    }
   ],
   "source": [
    "def grow(arr):\n",
    "    multiplication = 1\n",
    "    for n in arr:\n",
    "        multiplication = multiplication * n\n",
    "\n",
    "    return multiplication\n",
    "\n",
    "grow([4, 1, 1, 1, 4])"
   ]
  },
  {
   "cell_type": "code",
   "execution_count": 75,
   "metadata": {},
   "outputs": [
    {
     "data": {
      "text/plain": [
       "[5, 4, 3, 2, 1]"
      ]
     },
     "execution_count": 75,
     "metadata": {},
     "output_type": "execute_result"
    }
   ],
   "source": [
    "def reverse_seq(n):\n",
    "    x = n\n",
    "    total =[]\n",
    "\n",
    "    for _ in range(n):\n",
    "        total.append(x)\n",
    "        x -= 1\n",
    "    \n",
    "    return total\n",
    "\n",
    "reverse_seq(5)"
   ]
  },
  {
   "cell_type": "code",
   "execution_count": 105,
   "metadata": {},
   "outputs": [
    {
     "data": {
      "text/plain": [
       "[3]"
      ]
     },
     "execution_count": 105,
     "metadata": {},
     "output_type": "execute_result"
    }
   ],
   "source": [
    "def array_diff(a, b):\n",
    "    if len(b) == 0:\n",
    "        return a\n",
    "    \n",
    "    total = []\n",
    "    \n",
    "    for n in a:\n",
    "        if n in b:\n",
    "            continue\n",
    "        else:\n",
    "            total.append(n)\n",
    "    return total\n",
    "\n",
    "array_diff([1,2,2,2,3],[1, 2])"
   ]
  },
  {
   "cell_type": "code",
   "execution_count": null,
   "metadata": {},
   "outputs": [],
   "source": [
    "def smash(words):\n",
    "    return ' '.join(words)"
   ]
  },
  {
   "cell_type": "code",
   "execution_count": 123,
   "metadata": {},
   "outputs": [
    {
     "data": {
      "text/plain": [
       "[3, 6, 9, 12, 15]"
      ]
     },
     "execution_count": 123,
     "metadata": {},
     "output_type": "execute_result"
    }
   ],
   "source": [
    "def count_by(x, n):\n",
    "    y = x\n",
    "    total = []\n",
    "    for _ in range(n):\n",
    "        total.append(x)\n",
    "        x = x + y\n",
    "    \n",
    "    return total\n",
    "\n",
    "count_by(3, 5)"
   ]
  },
  {
   "cell_type": "code",
   "execution_count": 133,
   "metadata": {},
   "outputs": [
    {
     "data": {
      "text/plain": [
       "'70300 + 4'"
      ]
     },
     "execution_count": 133,
     "metadata": {},
     "output_type": "execute_result"
    }
   ],
   "source": [
    "def expanded_form(num):\n",
    "    y = num % 10\n",
    "    return str(f'{num - y} + {y}')\n",
    "\n",
    "expanded_form(70304)"
   ]
  },
  {
   "cell_type": "code",
   "execution_count": 27,
   "metadata": {},
   "outputs": [
    {
     "data": {
      "text/plain": [
       "'1 sheep...2 sheep...3 sheep...4 sheep...'"
      ]
     },
     "execution_count": 27,
     "metadata": {},
     "output_type": "execute_result"
    }
   ],
   "source": [
    "def count_sheep(n):\n",
    "    total = ''\n",
    "    for x in range(n):\n",
    "        total = total + f'{x + 1} sheep...'\n",
    "    \n",
    "    return total\n",
    "\n",
    "count_sheep(4)"
   ]
  },
  {
   "cell_type": "code",
   "execution_count": 30,
   "metadata": {},
   "outputs": [
    {
     "data": {
      "text/plain": [
       "['Open', 'Senior', 'Open', 'Senior']"
      ]
     },
     "execution_count": 30,
     "metadata": {},
     "output_type": "execute_result"
    }
   ],
   "source": [
    "def open_or_senior(data):\n",
    "    total = ''\n",
    "    for arr in data:\n",
    "        if arr[0] >= 55 and arr[1] > 7:\n",
    "            total += \"Senior \"\n",
    "        else:\n",
    "            total += \"Open \"\n",
    "\n",
    "    return total.split()\n",
    "\n",
    "open_or_senior([(45, 12),(55,21),(19, -2),(104, 20)])"
   ]
  },
  {
   "cell_type": "code",
   "execution_count": 53,
   "metadata": {},
   "outputs": [
    {
     "data": {
      "text/plain": [
       "'70000 + 300 + 4'"
      ]
     },
     "execution_count": 53,
     "metadata": {},
     "output_type": "execute_result"
    }
   ],
   "source": [
    "def expanded_form(num):\n",
    "    total = []\n",
    "    while num != 0:\n",
    "        x = num % 10\n",
    "        num = num // 10\n",
    "        total.append(x)\n",
    "\n",
    "    return ' + '.join([str(v * 10**(len(total) - 1 - i)) for i, v in enumerate(total[::-1]) if v != 0])\n",
    "\n",
    "expanded_form(70304)"
   ]
  },
  {
   "cell_type": "code",
   "execution_count": 59,
   "metadata": {},
   "outputs": [
    {
     "data": {
      "text/plain": [
       "'taxi'"
      ]
     },
     "execution_count": 59,
     "metadata": {},
     "output_type": "execute_result"
    }
   ],
   "source": [
    "from string import ascii_lowercase\n",
    "\n",
    "\n",
    "def high(x):\n",
    "    arr = x.split()\n",
    "    sum = 0\n",
    "    max = 0\n",
    "    result = ''\n",
    "\n",
    "    for word in arr:\n",
    "        for c in word:\n",
    "            sum = sum + ascii_lowercase.find(c) + 1\n",
    "\n",
    "        if max < sum:\n",
    "            max = sum\n",
    "            result = word\n",
    "        sum = 0\n",
    "    \n",
    "    return result\n",
    "\n",
    "high('man i need a taxi up to ubud')"
   ]
  }
 ],
 "metadata": {
  "kernelspec": {
   "display_name": "Python 3",
   "language": "python",
   "name": "python3"
  },
  "language_info": {
   "codemirror_mode": {
    "name": "ipython",
    "version": 3
   },
   "file_extension": ".py",
   "mimetype": "text/x-python",
   "name": "python",
   "nbconvert_exporter": "python",
   "pygments_lexer": "ipython3",
   "version": "3.11.0"
  },
  "orig_nbformat": 4
 },
 "nbformat": 4,
 "nbformat_minor": 2
}
