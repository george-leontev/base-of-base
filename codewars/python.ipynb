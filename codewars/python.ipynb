{
 "cells": [
  {
   "cell_type": "code",
   "execution_count": null,
   "metadata": {
    "dotnet_interactive": {
     "language": "csharp"
    },
    "polyglot_notebook": {
     "kernelName": "csharp"
    }
   },
   "outputs": [],
   "source": [
    "\n",
    "\n",
    "\n",
    "from string import ascii_letters\n",
    "s = \"The sunset sets at twelve o' clock.\"\n",
    "\n",
    "' '.join([str(ascii_letters.find(c) + 1) for c in s.lower() if c.isalpha()])\n"
   ]
  },
  {
   "cell_type": "code",
   "execution_count": null,
   "metadata": {
    "dotnet_interactive": {
     "language": "csharp"
    },
    "polyglot_notebook": {
     "kernelName": "csharp"
    }
   },
   "outputs": [],
   "source": [
    "import sys\n",
    "\n",
    "numbers = [20,1,-1,2,-2,3,3,5,5,1,2,4,20,4,-1,-2,5]\n",
    "min = sys.maxsize\n",
    "v = None\n",
    "\n",
    "for i1, v1 in enumerate(numbers):\n",
    "    \n",
    "    c = 1\n",
    "    for i2, v2 in enumerate(numbers):\n",
    "        if v1 == v2 and i1 != i2:\n",
    "            c += 1\n",
    "    \n",
    "    if c % 2 != 0:\n",
    "        v = v1\n",
    "\n",
    "\n",
    "print(v)\n"
   ]
  },
  {
   "cell_type": "code",
   "execution_count": null,
   "metadata": {
    "dotnet_interactive": {
     "language": "csharp"
    },
    "polyglot_notebook": {
     "kernelName": "csharp"
    }
   },
   "outputs": [],
   "source": [
    "# 5 --> 1 + 1/4 + 1/7 + 1/10 + 1/13 --> \"1.57\"\n",
    "n = 5\n",
    "\n",
    "f'{sum([1 / i for i in range(1, 3 * n + 1, 3)]):.2f}'"
   ]
  },
  {
   "cell_type": "code",
   "execution_count": null,
   "metadata": {
    "dotnet_interactive": {
     "language": "csharp"
    },
    "polyglot_notebook": {
     "kernelName": "csharp"
    }
   },
   "outputs": [],
   "source": [
    "n = 9119\n",
    "\n",
    "int(''.join([str(int(i)**2) for i in str(n)]))"
   ]
  },
  {
   "cell_type": "code",
   "execution_count": null,
   "metadata": {
    "dotnet_interactive": {
     "language": "csharp"
    },
    "polyglot_notebook": {
     "kernelName": "csharp"
    }
   },
   "outputs": [],
   "source": [
    "def count_by(n: int , x: int):\n",
    "    arr = []\n",
    "    i = 0\n",
    "    d = n\n",
    "    while i < x:\n",
    "        if d % n == 0:\n",
    "            i += 1\n",
    "            arr.append(d)\n",
    "            \n",
    "        d += 1\n",
    "    \n",
    "    return arr\n",
    "\n",
    "count_by(2, 5)"
   ]
  },
  {
   "cell_type": "code",
   "execution_count": null,
   "metadata": {
    "dotnet_interactive": {
     "language": "csharp"
    },
    "polyglot_notebook": {
     "kernelName": "csharp"
    }
   },
   "outputs": [],
   "source": [
    "def get_middle(s):\n",
    "    n = len(s)\n",
    "    return s[n // 2 - 1 + n % 2: n // 2 + 1]\n",
    "\n",
    "get_middle('middle')"
   ]
  },
  {
   "cell_type": "code",
   "execution_count": null,
   "metadata": {
    "dotnet_interactive": {
     "language": "csharp"
    },
    "polyglot_notebook": {
     "kernelName": "csharp"
    }
   },
   "outputs": [],
   "source": [
    "def find_short(s) -> int:\n",
    "    return min([len(w) for w in s.split()])\n",
    "\n",
    "find_short(\"bitcoin take over the world maybe who knows perhaps\")\n"
   ]
  },
  {
   "cell_type": "code",
   "execution_count": null,
   "metadata": {
    "dotnet_interactive": {
     "language": "csharp"
    },
    "polyglot_notebook": {
     "kernelName": "csharp"
    }
   },
   "outputs": [],
   "source": [
    "def expanded_form(num):\n",
    "    pass\n",
    "\n",
    "expanded_form(70304)\n"
   ]
  },
  {
   "cell_type": "code",
   "execution_count": null,
   "metadata": {
    "dotnet_interactive": {
     "language": "csharp"
    },
    "polyglot_notebook": {
     "kernelName": "csharp"
    }
   },
   "outputs": [],
   "source": [
    "# https://www.codewars.com/kata/5842df8ccbd22792a4000245/train/python\n",
    "\n",
    "# 70300 % 1000\n",
    "\n",
    "# 70000 \n",
    "\n",
    "n = 42\n",
    "\n",
    "i = 1\n",
    "s = str()\n",
    "while n != 0:\n",
    "    reminder = (n % 10) * i\n",
    "\n",
    "    if (reminder != 0):\n",
    "        s = f'{reminder}{f\" + {s}\" if s else \"\"}'\n",
    "\n",
    "    n = n // 10\n",
    "    i *= 10\n",
    "\n",
    "print(s)\n",
    "\n"
   ]
  },
  {
   "cell_type": "code",
   "execution_count": null,
   "metadata": {
    "dotnet_interactive": {
     "language": "csharp"
    },
    "polyglot_notebook": {
     "kernelName": "csharp"
    }
   },
   "outputs": [],
   "source": [
    "s = \"double  spaced    words\"\n",
    "s.split( ' ')\n",
    "\n",
    "' '.join([\n",
    "    ''.join(list(reversed(w)))\n",
    "    for w in s.split(' ')\n",
    "])\n"
   ]
  },
  {
   "cell_type": "code",
   "execution_count": null,
   "metadata": {
    "dotnet_interactive": {
     "language": "csharp"
    },
    "polyglot_notebook": {
     "kernelName": "csharp"
    }
   },
   "outputs": [],
   "source": [
    "numbers = [10, 343445353, 3453445, 3453545353453]\n",
    "\n",
    "\n",
    "sum(sorted(numbers)[0:2])"
   ]
  },
  {
   "cell_type": "code",
   "execution_count": null,
   "metadata": {
    "dotnet_interactive": {
     "language": "csharp"
    },
    "polyglot_notebook": {
     "kernelName": "csharp"
    }
   },
   "outputs": [],
   "source": [
    "# https://www.codewars.com/kata/5672a98bdbdd995fad00000f/python"
   ]
  },
  {
   "cell_type": "code",
   "execution_count": null,
   "metadata": {
    "dotnet_interactive": {
     "language": "csharp"
    },
    "polyglot_notebook": {
     "kernelName": "csharp"
    }
   },
   "outputs": [],
   "source": [
    "a = eval('1 + 2')\n",
    "a"
   ]
  },
  {
   "cell_type": "code",
   "execution_count": 13,
   "metadata": {
    "dotnet_interactive": {
     "language": "csharp"
    },
    "polyglot_notebook": {
     "kernelName": "csharp"
    }
   },
   "outputs": [
    {
     "data": {
      "text/plain": [
       "False"
      ]
     },
     "execution_count": 13,
     "metadata": {},
     "output_type": "execute_result"
    }
   ],
   "source": [
    "def is_palindrome(word):\n",
    "    if len(word) < 2 :\n",
    "        return True\n",
    "    \n",
    "    if word[0] == word[-1]:\n",
    "        return is_palindrome(word[1: -1])\n",
    "    else:\n",
    "       return False\n",
    "    \n",
    "is_palindrome(\"abcb\")"
   ]
  },
  {
   "cell_type": "code",
   "execution_count": 4,
   "metadata": {},
   "outputs": [
    {
     "data": {
      "text/plain": [
       "1"
      ]
     },
     "execution_count": 4,
     "metadata": {},
     "output_type": "execute_result"
    }
   ],
   "source": [
    "1 % 3"
   ]
  }
 ],
 "metadata": {
  "kernelspec": {
   "display_name": "Python 3",
   "language": "python",
   "name": "python3"
  },
  "language_info": {
   "codemirror_mode": {
    "name": "ipython",
    "version": 3
   },
   "file_extension": ".py",
   "mimetype": "text/x-python",
   "name": "python",
   "nbconvert_exporter": "python",
   "pygments_lexer": "ipython3",
   "version": "3.11.0"
  },
  "polyglot_notebook": {
   "kernelInfo": {
    "defaultKernelName": "csharp",
    "items": [
     {
      "aliases": [
       "c#",
       "C#"
      ],
      "languageName": "C#",
      "name": "csharp"
     },
     {
      "aliases": [
       "frontend"
      ],
      "languageName": null,
      "name": "vscode"
     }
    ]
   }
  }
 },
 "nbformat": 4,
 "nbformat_minor": 2
}
