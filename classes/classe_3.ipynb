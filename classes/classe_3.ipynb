{
 "cells": [
  {
   "cell_type": "code",
   "execution_count": 3,
   "metadata": {},
   "outputs": [
    {
     "name": "stdout",
     "output_type": "stream",
     "text": [
      "The truck Huawei has been started.\n",
      "The truck Huawei is carrying the cargo with mass 100.\n",
      "The truck Huawei is carrying the cargo with mass 200.\n",
      "The truck Huawei has been stopped.\n"
     ]
    }
   ],
   "source": [
    "class Cargo:\n",
    "    def __init__(self, mass: float) -> None:\n",
    "        self.mass = mass\n",
    "\n",
    "class Truck:\n",
    "    def __init__(self, brand: str, color: str, power: int) -> None:\n",
    "        self.brand = brand\n",
    "        self.color = color\n",
    "        self.power = power\n",
    "\n",
    "    def start(self):\n",
    "        print(f'The truck {self.brand} has been started.')\n",
    "\n",
    "    def stop(self):\n",
    "        print(f'The truck {self.brand} has been stopped.')\n",
    "\n",
    "    def carry(self, cargo: Cargo):\n",
    "        print(f'The truck {self.brand} is carrying the cargo with mass {cargo.mass}.')\n",
    "\n",
    "\n",
    "cargos = [Cargo(100), Cargo(200)]\n",
    "truck = Truck('Huawei', 'black', 100)\n",
    "truck.start()\n",
    "for cargo in cargos:\n",
    "    truck.carry(cargo)\n",
    "truck.stop()\n",
    "\n"
   ]
  }
 ],
 "metadata": {
  "kernelspec": {
   "display_name": "Python 3",
   "language": "python",
   "name": "python3"
  },
  "language_info": {
   "codemirror_mode": {
    "name": "ipython",
    "version": 3
   },
   "file_extension": ".py",
   "mimetype": "text/x-python",
   "name": "python",
   "nbconvert_exporter": "python",
   "pygments_lexer": "ipython3",
   "version": "3.11.0"
  },
  "orig_nbformat": 4,
  "vscode": {
   "interpreter": {
    "hash": "5238573367df39f7286bb46f9ff5f08f63a01a80960060ce41e3c79b190280fa"
   }
  }
 },
 "nbformat": 4,
 "nbformat_minor": 2
}
