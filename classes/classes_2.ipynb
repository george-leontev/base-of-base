{
 "cells": [
  {
   "cell_type": "code",
   "execution_count": 2,
   "metadata": {},
   "outputs": [
    {
     "name": "stdout",
     "output_type": "stream",
     "text": [
      "The cat Mary meowed.\n",
      "The cat Mary has craped very much!!!\n",
      "The dog Bob has been barking very loudly.\n",
      "The dog Bob has eaten the cat Reddish.\n",
      "The dog Bob has craped very much!!!\n"
     ]
    }
   ],
   "source": [
    "class Cat:\n",
    "    def __init__(self, nickname: str, age: int) -> None:\n",
    "        self.nickname = nickname\n",
    "        self.age = age\n",
    "    \n",
    "\n",
    "    def meow(self):\n",
    "        print(f'The cat {self.nickname} meowed.')\n",
    "\n",
    "    def crap(self):\n",
    "        print(f'The cat {self.nickname} has craped very much!!!')\n",
    "\n",
    "my_bad_cat = Cat('Mary', 12)\n",
    "my_bad_cat.meow()\n",
    "my_bad_cat.crap()\n",
    "\n",
    "class Dog:\n",
    "    def __init__(self, nickname: str, age: int) -> None:\n",
    "        self.nickname = nickname\n",
    "        self.age = age\n",
    "\n",
    "    def eat(self, cat: Cat):\n",
    "        print(f'The dog {self.nickname} has eaten the cat {cat.nickname}.')\n",
    "\n",
    "    def crap(self):\n",
    "        print(f'The dog {self.nickname} has craped very much!!!')\n",
    "\n",
    "    def bark(self):\n",
    "        print(f'The dog {self.nickname} has been barking very loudly.')\n",
    "\n",
    "my_bad_dog = Dog('Bob', 8)\n",
    "my_bad_dog.bark()\n",
    "my_stupid_cat = Cat('Reddish', 3)\n",
    "my_bad_dog.eat(my_stupid_cat)\n",
    "my_bad_dog.crap()"
   ]
  }
 ],
 "metadata": {
  "kernelspec": {
   "display_name": "Python 3",
   "language": "python",
   "name": "python3"
  },
  "language_info": {
   "codemirror_mode": {
    "name": "ipython",
    "version": 3
   },
   "file_extension": ".py",
   "mimetype": "text/x-python",
   "name": "python",
   "nbconvert_exporter": "python",
   "pygments_lexer": "ipython3",
   "version": "3.11.0"
  },
  "orig_nbformat": 4,
  "vscode": {
   "interpreter": {
    "hash": "5238573367df39f7286bb46f9ff5f08f63a01a80960060ce41e3c79b190280fa"
   }
  }
 },
 "nbformat": 4,
 "nbformat_minor": 2
}
