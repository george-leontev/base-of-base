{
 "cells": [
  {
   "cell_type": "code",
   "execution_count": 7,
   "metadata": {},
   "outputs": [
    {
     "name": "stdout",
     "output_type": "stream",
     "text": [
      "Nickname = Mary, age = 10\n",
      "Cat named Mary has meowed!\n"
     ]
    }
   ],
   "source": [
    "\n",
    "# base class\n",
    "class Animal:\n",
    "    # Constructor\n",
    "    def __init__(self, age) -> None:\n",
    "        # property\n",
    "        self.age: int = age\n",
    "\n",
    "\n",
    "# class\n",
    "class Pet(Animal):\n",
    "    def __init__(self, age, nickname) -> None:\n",
    "        # property\n",
    "        self.nickname: str = nickname\n",
    "        # call of a base class constructor\n",
    "        super().__init__(age)\n",
    "\n",
    "\n",
    "# class\n",
    "class Cat(Pet):\n",
    "\n",
    "    # constructor\n",
    "    def __init__(self, age, nickname) -> None:\n",
    "        super().__init__(age, nickname)\n",
    "    \n",
    "    # method\n",
    "    def meow(self):\n",
    "        print(f'Cat named {self.nickname} has meowed!')\n",
    "\n",
    "\n",
    "# instantiating object of a class / instance of a class / object of a class\n",
    "mary = Cat(age=10, nickname='Mary')\n",
    "print(f'Nickname = {mary.nickname}, age = {mary.age}')\n",
    "# call of a method\n",
    "mary.meow()"
   ]
  },
  {
   "cell_type": "code",
   "execution_count": null,
   "metadata": {},
   "outputs": [],
   "source": [
    "# subroutine / procedure\n",
    "def greeting(message: str):\n",
    "    print(message)\n",
    "\n",
    "\n",
    "greeting('Hello world')\n",
    "greeting('Hi there!')\n",
    "\n",
    "for i in range(100):\n",
    "    greeting(f'Hi there {i}!')\n",
    "\n",
    "\n"
   ]
  },
  {
   "cell_type": "code",
   "execution_count": 13,
   "metadata": {},
   "outputs": [
    {
     "name": "stdout",
     "output_type": "stream",
     "text": [
      "11\n"
     ]
    }
   ],
   "source": [
    "def sum(a: int, b: int):\n",
    "    return a + b\n",
    "\n",
    "print(sum(5, 6))"
   ]
  },
  {
   "cell_type": "code",
   "execution_count": 4,
   "metadata": {},
   "outputs": [
    {
     "name": "stdout",
     "output_type": "stream",
     "text": [
      "{'key1': 1, 'key2': 2}\n"
     ]
    }
   ],
   "source": [
    "d = {'key1': 1, 'key2': 2}\n",
    "\n",
    "print(d)"
   ]
  },
  {
   "cell_type": "code",
   "execution_count": 6,
   "metadata": {},
   "outputs": [
    {
     "name": "stdout",
     "output_type": "stream",
     "text": [
      "False\n"
     ]
    }
   ],
   "source": [
    "b = 9 > 12\n",
    "\n",
    "print(b)"
   ]
  },
  {
   "cell_type": "code",
   "execution_count": 6,
   "metadata": {},
   "outputs": [
    {
     "name": "stdout",
     "output_type": "stream",
     "text": [
      "apple\n",
      "banana\n",
      "cherry\n",
      "cherry\n"
     ]
    }
   ],
   "source": [
    "thistuple = (\"apple\", \"banana\", \"cherry\", \"cherry\",)\n",
    "\n",
    "for i in thistuple:\n",
    "    print(i)\n"
   ]
  },
  {
   "cell_type": "code",
   "execution_count": 14,
   "metadata": {},
   "outputs": [
    {
     "name": "stdout",
     "output_type": "stream",
     "text": [
      "1\n",
      "2\n",
      "3\n",
      "4\n",
      "5\n"
     ]
    }
   ],
   "source": [
    "s: set[int] = {1, 2, 3, 4}\n",
    "s.\n",
    "s.add(1)\n",
    "s.add(5)\n",
    "\n",
    "for i in s:\n",
    "    print(i)"
   ]
  },
  {
   "cell_type": "code",
   "execution_count": 6,
   "metadata": {},
   "outputs": [
    {
     "name": "stdout",
     "output_type": "stream",
     "text": [
      "The car Bugatti has been started.\n",
      "The car Bugatti has been stopped.\n"
     ]
    }
   ],
   "source": [
    "class Car:\n",
    "    def __init__(self, brand: str, color: str, power: float ) -> None:\n",
    "        self.brand = brand\n",
    "        self.color = color\n",
    "        self.power = power\n",
    "    \n",
    "    def start(self):\n",
    "        print(f'The car {self.brand} has been started.')\n",
    "    \n",
    "    def stop(self):\n",
    "        print(f'The car {self.brand} has been stopped.')\n",
    "\n",
    "my_bugatti = Car('Bugatti', 'brown-red', 700)\n",
    "my_bugatti.start()\n",
    "my_bugatti.stop()\n"
   ]
  }
 ],
 "metadata": {
  "kernelspec": {
   "display_name": "Python 3",
   "language": "python",
   "name": "python3"
  },
  "language_info": {
   "codemirror_mode": {
    "name": "ipython",
    "version": 3
   },
   "file_extension": ".py",
   "mimetype": "text/x-python",
   "name": "python",
   "nbconvert_exporter": "python",
   "pygments_lexer": "ipython3",
   "version": "3.11.0"
  },
  "orig_nbformat": 4,
  "vscode": {
   "interpreter": {
    "hash": "5238573367df39f7286bb46f9ff5f08f63a01a80960060ce41e3c79b190280fa"
   }
  }
 },
 "nbformat": 4,
 "nbformat_minor": 2
}
