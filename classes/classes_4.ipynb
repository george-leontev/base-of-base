{
 "cells": [
  {
   "cell_type": "code",
   "execution_count": 2,
   "metadata": {},
   "outputs": [
    {
     "name": "stdout",
     "output_type": "stream",
     "text": [
      "This computer has 14 cores.\n"
     ]
    }
   ],
   "source": [
    "class Computer:\n",
    "    def __init__(self, cpu_core_count: int, memory_volume: int) -> None:\n",
    "        self.cpu_core_count = cpu_core_count\n",
    "        self.memory_volume = memory_volume\n",
    "    \n",
    "    def __str__(self) -> str:\n",
    "        return f'This computer has {self.cpu_core_count} cores.'\n",
    "\n",
    "\n",
    "computer = Computer(14, 16)\n",
    "\n",
    "print(computer)"
   ]
  },
  {
   "cell_type": "code",
   "execution_count": 16,
   "metadata": {},
   "outputs": [
    {
     "name": "stdout",
     "output_type": "stream",
     "text": [
      "The dog Swallow.\n",
      "The dog Bob.\n",
      "\n",
      "All dogs were killed at all!!!\n"
     ]
    }
   ],
   "source": [
    "class DomesticAnimal:\n",
    "    def __init__(self, nickname: str, age: int) -> None:\n",
    "        self.nickname = nickname\n",
    "        self.age = age\n",
    "\n",
    "class Dog(DomesticAnimal):\n",
    "    def __init__(self, nickname: str, age: int) -> None:\n",
    "        super().__init__(nickname, age)\n",
    "\n",
    "    def __str__(self) -> str:\n",
    "        return f'The dog {self.nickname}.'\n",
    "\n",
    "class AnimalShelter:\n",
    "    def __init__(self) -> None:\n",
    "        self.inhabitants: list[DomesticAnimal] = []\n",
    "\n",
    "    def lodge(self, inhabitant: DomesticAnimal):\n",
    "        self.inhabitants.append(inhabitant)\n",
    "\n",
    "    def kill(self, nickname: str):\n",
    "        for inhabitant in self.inhabitants:\n",
    "            if inhabitant.nickname == nickname:\n",
    "                self.inhabitants.remove(inhabitant)\n",
    "                break\n",
    "\n",
    "    def print(self):\n",
    "        if len(self.inhabitants) == 0:\n",
    "            print('All dogs were killed at all!!!')\n",
    "        for inhabitant in self.inhabitants:\n",
    "            print(inhabitant)\n",
    "\n",
    "\n",
    "dog = Dog('Bob', 15)\n",
    "dog_2 = Dog('Swallow', 13)\n",
    "\n",
    "lamentation_home = AnimalShelter()\n",
    "\n",
    "lamentation_home.lodge(dog_2)\n",
    "lamentation_home.lodge(dog)\n",
    "\n",
    "lamentation_home.print()\n",
    "\n",
    "lamentation_home.kill('Swallow')\n",
    "lamentation_home.kill('Bob')\n",
    "\n",
    "lamentation_home.print()"
   ]
  }
 ],
 "metadata": {
  "kernelspec": {
   "display_name": "Python 3",
   "language": "python",
   "name": "python3"
  },
  "language_info": {
   "codemirror_mode": {
    "name": "ipython",
    "version": 3
   },
   "file_extension": ".py",
   "mimetype": "text/x-python",
   "name": "python",
   "nbconvert_exporter": "python",
   "pygments_lexer": "ipython3",
   "version": "3.11.0"
  },
  "orig_nbformat": 4,
  "vscode": {
   "interpreter": {
    "hash": "5238573367df39f7286bb46f9ff5f08f63a01a80960060ce41e3c79b190280fa"
   }
  }
 },
 "nbformat": 4,
 "nbformat_minor": 2
}
