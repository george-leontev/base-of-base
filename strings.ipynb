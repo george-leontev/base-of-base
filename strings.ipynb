{
 "cells": [
  {
   "cell_type": "code",
   "execution_count": 22,
   "metadata": {},
   "outputs": [
    {
     "name": "stdout",
     "output_type": "stream",
     "text": [
      "Goodbye\n",
      "world\n",
      "of\n",
      "Python\n",
      "cc\n",
      "7\n"
     ]
    }
   ],
   "source": [
    "import sys\n",
    "\n",
    "\n",
    "sequence: str = 'Goodbye world of Python cc'\n",
    "word = ''\n",
    "count = 0\n",
    "max = -sys.maxsize\n",
    "\n",
    "for s in sequence:\n",
    "    if s != ' ':\n",
    "        word += s\n",
    "        count += 1\n",
    "    else:\n",
    "        if count > max:\n",
    "            max = count\n",
    "        print(word)\n",
    "        word = ''\n",
    "        count = 0\n",
    "\n",
    "if count > max:\n",
    "    max = count\n",
    "print(word)\n",
    "\n",
    "print(max)\n"
   ]
  },
  {
   "cell_type": "code",
   "execution_count": 31,
   "metadata": {},
   "outputs": [
    {
     "name": "stdout",
     "output_type": "stream",
     "text": [
      "Bye\n",
      "Bye\n",
      "my\n",
      "dear\n",
      "Python\n",
      "18\n",
      "4\n"
     ]
    }
   ],
   "source": [
    "sequence: str = 'Bye Bye my dear Python'\n",
    "word = ''\n",
    "length = 0\n",
    "words_count = 0\n",
    "average = 0\n",
    "\n",
    "for s in sequence:\n",
    "    if s != ' ':\n",
    "        word += s\n",
    "        length += 1\n",
    "    else:\n",
    "        words_count += 1\n",
    "        print(word)\n",
    "        word = ''\n",
    "print(word)\n",
    "\n",
    "print(length)\n",
    "print(words_count)\n",
    "#average = length / count_of_words\n",
    "#print(average)"
   ]
  },
  {
   "cell_type": "code",
   "execution_count": 60,
   "metadata": {},
   "outputs": [
    {
     "name": "stdout",
     "output_type": "stream",
     "text": [
      "Python \n",
      "in \n",
      "my \n",
      "heart\n"
     ]
    }
   ],
   "source": [
    "sequence: str = 'Python in my heart'\n",
    "i = 0\n",
    "word = ''\n",
    "\n",
    "while True:\n",
    "    if len(sequence) <= i:\n",
    "        break\n",
    "\n",
    "    s = sequence[i]\n",
    "    word += s\n",
    "\n",
    "    if s == ' ' or i == len(sequence) - 1:\n",
    "        print(word)\n",
    "        word = '' \n",
    "\n",
    "    i += 1\n",
    "\n"
   ]
  },
  {
   "cell_type": "code",
   "execution_count": 66,
   "metadata": {},
   "outputs": [
    {
     "name": "stdout",
     "output_type": "stream",
     "text": [
      "Python \n",
      "in \n",
      "my \n",
      "heart\n",
      "15\n",
      "4\n",
      "3.75\n"
     ]
    }
   ],
   "source": [
    "sequence: str = 'Python in my heart'\n",
    "i = 0\n",
    "word = ''\n",
    "length = 0\n",
    "words_count = 0\n",
    "\n",
    "while True:\n",
    "    if len(sequence) <= i:\n",
    "        break\n",
    "\n",
    "    s = sequence[i]\n",
    "    word += s\n",
    "\n",
    "    if s != ' ':\n",
    "        length += 1\n",
    "\n",
    "    if s == ' ' or i == len(sequence) - 1:\n",
    "        print(word)\n",
    "        word = ''\n",
    "        words_count += 1\n",
    "    i += 1\n",
    "\n",
    "print(length)\n",
    "print(words_count)\n",
    "\n",
    "average = length / words_count\n",
    "print(average)"
   ]
  },
  {
   "cell_type": "code",
   "execution_count": 91,
   "metadata": {},
   "outputs": [
    {
     "name": "stdout",
     "output_type": "stream",
     "text": [
      "Python \n",
      "is \n",
      "my \n",
      "pain\n",
      "14\n"
     ]
    }
   ],
   "source": [
    "#import sys\n",
    "\n",
    "\n",
    "#max = -sys.maxsize\n",
    "sequence: str = 'Python is my pain'\n",
    "i = 0\n",
    "word = ''\n",
    "word_length = 0\n",
    "\n",
    "while True:\n",
    "    if i > len(sequence) - 1:\n",
    "        break\n",
    "    s = sequence[i]\n",
    "    word += s\n",
    "    if s == ' ':\n",
    "        break\n",
    "    else:\n",
    "        word_length += 1\n",
    "    if s == ' ' or i == len(sequence) - 1:\n",
    "        print(word)\n",
    "        word = ''\n",
    "    i += 1\n",
    "print(word_length)"
   ]
  },
  {
   "cell_type": "code",
   "execution_count": 18,
   "metadata": {},
   "outputs": [
    {
     "name": "stdout",
     "output_type": "stream",
     "text": [
      "4\n"
     ]
    }
   ],
   "source": [
    "import sys\n",
    "\n",
    "\n",
    "sequence: str = 'Python   forever   will    be  in my   heart'\n",
    "count = 0\n",
    "max = -sys.maxsize\n",
    "i = 0\n",
    "\n",
    "while True:\n",
    "    if i > len(sequence) - 1:\n",
    "        break\n",
    "    s = sequence[i]\n",
    "    if s == ' ':\n",
    "        count += 1\n",
    "    else:\n",
    "        count = 0\n",
    "    if count > max:\n",
    "        max = count\n",
    "    i += 1\n",
    "\n",
    "print(max)"
   ]
  },
  {
   "cell_type": "code",
   "execution_count": 24,
   "metadata": {},
   "outputs": [
    {
     "name": "stdout",
     "output_type": "stream",
     "text": [
      "Amount of different symbols 4\n"
     ]
    }
   ],
   "source": [
    "sequence:str = 'xyzzxf'\n",
    "store: dict[str, int] = {}\n",
    "i = 0\n",
    "\n",
    "while True:\n",
    "    if i > len(sequence) - 1:\n",
    "        break\n",
    "\n",
    "    s: str = sequence[i]\n",
    "    if store.get(s) is None:\n",
    "        store[s] = 1\n",
    "    else:\n",
    "        store[s] = store[s] + 1\n",
    "    i += 1\n",
    "\n",
    "print(f'Amount of different symbols {len(store)}')"
   ]
  },
  {
   "cell_type": "code",
   "execution_count": 33,
   "metadata": {},
   "outputs": [
    {
     "name": "stdout",
     "output_type": "stream",
     "text": [
      "{'a': 4, 'b': 1, 'c': 1, 'd': 1, 'f': 2, 'e': 1, 'h': 1}\n"
     ]
    }
   ],
   "source": [
    "sequence: str = 'abcdfeaahfa'\n",
    "store: dict[str, int] = {}\n",
    "\n",
    "for s in sequence:\n",
    "    store[s] = 0\n",
    "    for l in sequence:\n",
    "        if l == s:\n",
    "            store[s] += 1\n",
    "\n",
    "print(f'{store}')"
   ]
  }
 ],
 "metadata": {
  "kernelspec": {
   "display_name": "Python 3",
   "language": "python",
   "name": "python3"
  },
  "language_info": {
   "codemirror_mode": {
    "name": "ipython",
    "version": 3
   },
   "file_extension": ".py",
   "mimetype": "text/x-python",
   "name": "python",
   "nbconvert_exporter": "python",
   "pygments_lexer": "ipython3",
   "version": "3.11.0"
  },
  "orig_nbformat": 4,
  "vscode": {
   "interpreter": {
    "hash": "5238573367df39f7286bb46f9ff5f08f63a01a80960060ce41e3c79b190280fa"
   }
  }
 },
 "nbformat": 4,
 "nbformat_minor": 2
}
