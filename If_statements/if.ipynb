{
 "cells": [
  {
   "cell_type": "code",
   "execution_count": 4,
   "metadata": {},
   "outputs": [
    {
     "name": "stdout",
     "output_type": "stream",
     "text": [
      "Result = -678\n"
     ]
    }
   ],
   "source": [
    "a = int(input('Number = '))\n",
    "\n",
    "if a > 0:\n",
    "    a = a + 1 # assignment\n",
    "\n",
    "print(f'Result = {a}')\n"
   ]
  },
  {
   "cell_type": "code",
   "execution_count": 4,
   "metadata": {},
   "outputs": [
    {
     "name": "stdout",
     "output_type": "stream",
     "text": [
      "Result = -7\n"
     ]
    }
   ],
   "source": [
    "a = int(input('Number = '))\n",
    "\n",
    "if a > 0:\n",
    "    a = a + 1\n",
    "else:\n",
    "    a = a - 2\n",
    "\n",
    "print(f'Result = {a}')"
   ]
  },
  {
   "cell_type": "code",
   "execution_count": 8,
   "metadata": {},
   "outputs": [
    {
     "name": "stdout",
     "output_type": "stream",
     "text": [
      "Result = 10\n"
     ]
    }
   ],
   "source": [
    "a = int(input('Number = '))\n",
    "\n",
    "if a > 0:\n",
    "    a = a + 1\n",
    "elif a < 0:\n",
    "    a = a - 2\n",
    "else:\n",
    "    a = 10\n",
    "\n",
    "print(f'Result = {a}')"
   ]
  },
  {
   "cell_type": "code",
   "execution_count": 10,
   "metadata": {},
   "outputs": [
    {
     "name": "stdout",
     "output_type": "stream",
     "text": [
      "Result = 2\n"
     ]
    }
   ],
   "source": [
    "a = int(input('Number1 = '))\n",
    "b = int(input('Number2 = '))\n",
    "c = int(input('Number3 = '))\n",
    "\n",
    "l = [a, b, c] # list of integer numbers\n",
    "count = 0\n",
    "\n",
    "for x in l:\n",
    "    if x > 0:\n",
    "        count = count + 1\n",
    "\n",
    "\n",
    "print(f'Result = {count}')\n",
    "\n"
   ]
  },
  {
   "cell_type": "code",
   "execution_count": 13,
   "metadata": {},
   "outputs": [
    {
     "name": "stdout",
     "output_type": "stream",
     "text": [
      "Positive = 1\n",
      "Negative = 2\n"
     ]
    }
   ],
   "source": [
    "a = int(input('Number1 = '))\n",
    "b = int(input('Number2 = '))\n",
    "c = int(input('Number3 = '))\n",
    "\n",
    "l = [a, b, c] # list of integer numbers\n",
    "count_positive = 0\n",
    "count_negative = 0\n",
    "\n",
    "for x in l:\n",
    "    if x > 0:\n",
    "        count_positive = count_positive + 1\n",
    "    else:\n",
    "        count_negative = count_negative + 1 \n",
    "\n",
    "\n",
    "print(f'Positive = {count_positive}')\n",
    "print(f'Negative = {count_negative}')"
   ]
  },
  {
   "cell_type": "code",
   "execution_count": 18,
   "metadata": {},
   "outputs": [
    {
     "name": "stdout",
     "output_type": "stream",
     "text": [
      "A = 123\n"
     ]
    }
   ],
   "source": [
    "a = int(input('Number1'))\n",
    "b = int(input('Number2'))\n",
    "\n",
    "if a > b:\n",
    "    print(f'A = {a}')\n",
    "else:\n",
    "    print(f'B = {b}')"
   ]
  },
  {
   "cell_type": "code",
   "execution_count": 20,
   "metadata": {},
   "outputs": [
    {
     "name": "stdout",
     "output_type": "stream",
     "text": [
      "A = 1\n"
     ]
    }
   ],
   "source": [
    "a = int(input('Number1'))\n",
    "b = int(input('Number2'))\n",
    "\n",
    "if a < b:\n",
    "    print(f'A = {1}')\n",
    "else:\n",
    "    print(f'A = {2}')"
   ]
  },
  {
   "cell_type": "code",
   "execution_count": 22,
   "metadata": {},
   "outputs": [
    {
     "name": "stdout",
     "output_type": "stream",
     "text": [
      "B = 11\n",
      "A = 11\n"
     ]
    }
   ],
   "source": [
    "a = int(input('Number1'))\n",
    "b = int(input('Number2'))\n",
    "\n",
    "if a > b:\n",
    "    print(f'A = {a}')\n",
    "    print(f'B = {b}')\n",
    "else:\n",
    "    print(f'B = {b}')\n",
    "    print(f'A = {a}')"
   ]
  },
  {
   "cell_type": "code",
   "execution_count": 4,
   "metadata": {},
   "outputs": [
    {
     "name": "stdout",
     "output_type": "stream",
     "text": [
      "A = 1.0\n",
      "B = 2.0\n"
     ]
    }
   ],
   "source": [
    "a = float(input('A ='))\n",
    "b = float(input('B = '))\n",
    "\n",
    "\n",
    "if a > b:\n",
    "    # t = a\n",
    "    # a = b\n",
    "    # b = t\n",
    "    (a, b) = (b, a)\n",
    "\n",
    "print(f'A = {a}')\n",
    "print(f'B = {b}')"
   ]
  },
  {
   "cell_type": "code",
   "execution_count": 8,
   "metadata": {},
   "outputs": [
    {
     "name": "stdout",
     "output_type": "stream",
     "text": [
      "A = 3.0\n",
      "B = 3.0\n"
     ]
    }
   ],
   "source": [
    "a = float(input('A = '))\n",
    "b = float(input('B = '))\n",
    "\n",
    "\n",
    "if a != b:\n",
    "    sum = a + b\n",
    "    a = b = sum\n",
    "else:\n",
    "    a = 0\n",
    "    b = 0\n",
    "\n",
    "print(f'A = {a}')\n",
    "print(f'B = {b}')"
   ]
  },
  {
   "cell_type": "code",
   "execution_count": 11,
   "metadata": {},
   "outputs": [
    {
     "name": "stdout",
     "output_type": "stream",
     "text": [
      "A = 0\n",
      "B = 0\n"
     ]
    }
   ],
   "source": [
    "a = float(input('A = '))\n",
    "b = float(input('B = '))\n",
    "max = a\n",
    "\n",
    "if b > max:\n",
    "    max = b\n",
    "\n",
    "if a != b:\n",
    "    a = max\n",
    "    b = max\n",
    "else:\n",
    "    a = 0\n",
    "    b = 0\n",
    "\n",
    "print(f'A = {a}')\n",
    "print(f'B = {b}')"
   ]
  },
  {
   "cell_type": "code",
   "execution_count": 13,
   "metadata": {},
   "outputs": [
    {
     "name": "stdout",
     "output_type": "stream",
     "text": [
      "Min = 5.0\n"
     ]
    }
   ],
   "source": [
    "a = float(input('A = '))\n",
    "b = float(input('B = '))\n",
    "c = float(input('C = '))\n",
    "min = a\n",
    "\n",
    "if min > b:\n",
    "    min = b\n",
    "\n",
    "if min > c:\n",
    "    min = c\n",
    "\n",
    "print(f'Min = {min}')\n",
    "\n"
   ]
  },
  {
   "cell_type": "code",
   "execution_count": 15,
   "metadata": {},
   "outputs": [
    {
     "name": "stdout",
     "output_type": "stream",
     "text": [
      "C = 7.0\n"
     ]
    }
   ],
   "source": [
    "a = float(input('A = '))\n",
    "b = float(input('B = '))\n",
    "c = float(input('C = '))\n",
    "\n",
    "if a > b and a < c:\n",
    "    print(f'A = {a}')\n",
    "\n",
    "if b > a and b < c:\n",
    "    print(f'B = {b}')\n",
    "\n",
    "if c > a and c < b:\n",
    "    print(f'C = { c}')\n",
    "\n"
   ]
  },
  {
   "cell_type": "code",
   "execution_count": 20,
   "metadata": {},
   "outputs": [
    {
     "name": "stdout",
     "output_type": "stream",
     "text": [
      "Min = 111.0\n",
      "Max = 234.0\n"
     ]
    }
   ],
   "source": [
    "a = float(input('A = '))\n",
    "b = float(input('B = '))\n",
    "c = float(input('C = '))\n",
    "\n",
    "min = a\n",
    "max = a\n",
    "\n",
    "if min > b:\n",
    "    min = b\n",
    "\n",
    "if min > c:\n",
    "    min = c\n",
    "\n",
    "if max < b:\n",
    "    max = b\n",
    "\n",
    "if max < c:\n",
    "    max = c\n",
    "\n",
    "print(f'Min = {min}')\n",
    "print(f'Max = {max}')\n"
   ]
  }
 ],
 "metadata": {
  "kernelspec": {
   "display_name": "Python 3",
   "language": "python",
   "name": "python3"
  },
  "language_info": {
   "codemirror_mode": {
    "name": "ipython",
    "version": 3
   },
   "file_extension": ".py",
   "mimetype": "text/x-python",
   "name": "python",
   "nbconvert_exporter": "python",
   "pygments_lexer": "ipython3",
   "version": "3.11.0"
  },
  "orig_nbformat": 4,
  "vscode": {
   "interpreter": {
    "hash": "5238573367df39f7286bb46f9ff5f08f63a01a80960060ce41e3c79b190280fa"
   }
  }
 },
 "nbformat": 4,
 "nbformat_minor": 2
}
