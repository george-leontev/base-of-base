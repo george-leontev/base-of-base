{
 "cells": [
  {
   "cell_type": "code",
   "execution_count": 4,
   "metadata": {},
   "outputs": [
    {
     "name": "stdout",
     "output_type": "stream",
     "text": [
      "Result = -678\n"
     ]
    }
   ],
   "source": [
    "a = int(input('Number = '))\n",
    "\n",
    "if a > 0:\n",
    "    a = a + 1 # assignment\n",
    "\n",
    "print(f'Result = {a}')\n"
   ]
  },
  {
   "cell_type": "code",
   "execution_count": 4,
   "metadata": {},
   "outputs": [
    {
     "name": "stdout",
     "output_type": "stream",
     "text": [
      "Result = -7\n"
     ]
    }
   ],
   "source": [
    "a = int(input('Number = '))\n",
    "\n",
    "if a > 0:\n",
    "    a = a + 1\n",
    "else:\n",
    "    a = a - 2\n",
    "\n",
    "print(f'Result = {a}')"
   ]
  },
  {
   "cell_type": "code",
   "execution_count": 8,
   "metadata": {},
   "outputs": [
    {
     "name": "stdout",
     "output_type": "stream",
     "text": [
      "Result = 10\n"
     ]
    }
   ],
   "source": [
    "a = int(input('Number = '))\n",
    "\n",
    "if a > 0:\n",
    "    a = a + 1\n",
    "elif a < 0:\n",
    "    a = a - 2\n",
    "else:\n",
    "    a = 10\n",
    "\n",
    "print(f'Result = {a}')"
   ]
  },
  {
   "cell_type": "code",
   "execution_count": 10,
   "metadata": {},
   "outputs": [
    {
     "name": "stdout",
     "output_type": "stream",
     "text": [
      "Result = 2\n"
     ]
    }
   ],
   "source": [
    "a = int(input('Number1 = '))\n",
    "b = int(input('Number2 = '))\n",
    "c = int(input('Number3 = '))\n",
    "\n",
    "l = [a, b, c] # list of integer numbers\n",
    "count = 0\n",
    "\n",
    "for x in l:\n",
    "    if x > 0:\n",
    "        count = count + 1\n",
    "\n",
    "\n",
    "print(f'Result = {count}')\n",
    "\n"
   ]
  },
  {
   "cell_type": "code",
   "execution_count": 13,
   "metadata": {},
   "outputs": [
    {
     "name": "stdout",
     "output_type": "stream",
     "text": [
      "Positive = 1\n",
      "Negative = 2\n"
     ]
    }
   ],
   "source": [
    "a = int(input('Number1 = '))\n",
    "b = int(input('Number2 = '))\n",
    "c = int(input('Number3 = '))\n",
    "\n",
    "l = [a, b, c] # list of integer numbers\n",
    "count_positive = 0\n",
    "count_negative = 0\n",
    "\n",
    "for x in l:\n",
    "    if x > 0:\n",
    "        count_positive = count_positive + 1\n",
    "    else:\n",
    "        count_negative = count_negative + 1 \n",
    "\n",
    "\n",
    "print(f'Positive = {count_positive}')\n",
    "print(f'Negative = {count_negative}')"
   ]
  },
  {
   "cell_type": "code",
   "execution_count": 18,
   "metadata": {},
   "outputs": [
    {
     "name": "stdout",
     "output_type": "stream",
     "text": [
      "A = 123\n"
     ]
    }
   ],
   "source": [
    "a = int(input('Number1'))\n",
    "b = int(input('Number2'))\n",
    "\n",
    "if a > b:\n",
    "    print(f'A = {a}')\n",
    "else:\n",
    "    print(f'B = {b}')"
   ]
  },
  {
   "cell_type": "code",
   "execution_count": 20,
   "metadata": {},
   "outputs": [
    {
     "name": "stdout",
     "output_type": "stream",
     "text": [
      "A = 1\n"
     ]
    }
   ],
   "source": [
    "a = int(input('Number1'))\n",
    "b = int(input('Number2'))\n",
    "\n",
    "if a < b:\n",
    "    print(f'A = {1}')\n",
    "else:\n",
    "    print(f'A = {2}')"
   ]
  },
  {
   "cell_type": "code",
   "execution_count": 22,
   "metadata": {},
   "outputs": [
    {
     "name": "stdout",
     "output_type": "stream",
     "text": [
      "B = 11\n",
      "A = 11\n"
     ]
    }
   ],
   "source": [
    "a = int(input('Number1'))\n",
    "b = int(input('Number2'))\n",
    "\n",
    "if a > b:\n",
    "    print(f'A = {a}')\n",
    "    print(f'B = {b}')\n",
    "else:\n",
    "    print(f'B = {b}')\n",
    "    print(f'A = {a}')"
   ]
  },
  {
   "cell_type": "code",
   "execution_count": 4,
   "metadata": {},
   "outputs": [
    {
     "name": "stdout",
     "output_type": "stream",
     "text": [
      "A = 1.0\n",
      "B = 2.0\n"
     ]
    }
   ],
   "source": [
    "a = float(input('A ='))\n",
    "b = float(input('B = '))\n",
    "\n",
    "\n",
    "if a > b:\n",
    "    # t = a\n",
    "    # a = b\n",
    "    # b = t\n",
    "    (a, b) = (b, a)\n",
    "\n",
    "print(f'A = {a}')\n",
    "print(f'B = {b}')"
   ]
  },
  {
   "cell_type": "code",
   "execution_count": 8,
   "metadata": {},
   "outputs": [
    {
     "name": "stdout",
     "output_type": "stream",
     "text": [
      "A = 3.0\n",
      "B = 3.0\n"
     ]
    }
   ],
   "source": [
    "a = float(input('A = '))\n",
    "b = float(input('B = '))\n",
    "\n",
    "\n",
    "if a != b:\n",
    "    sum = a + b\n",
    "    a = b = sum\n",
    "else:\n",
    "    a = 0\n",
    "    b = 0\n",
    "\n",
    "print(f'A = {a}')\n",
    "print(f'B = {b}')"
   ]
  },
  {
   "cell_type": "code",
   "execution_count": 11,
   "metadata": {},
   "outputs": [
    {
     "name": "stdout",
     "output_type": "stream",
     "text": [
      "A = 0\n",
      "B = 0\n"
     ]
    }
   ],
   "source": [
    "a = float(input('A = '))\n",
    "b = float(input('B = '))\n",
    "max = a\n",
    "\n",
    "if b > max:\n",
    "    max = b\n",
    "\n",
    "if a != b:\n",
    "    a = max\n",
    "    b = max\n",
    "else:\n",
    "    a = 0\n",
    "    b = 0\n",
    "\n",
    "print(f'A = {a}')\n",
    "print(f'B = {b}')"
   ]
  },
  {
   "cell_type": "code",
   "execution_count": 13,
   "metadata": {},
   "outputs": [
    {
     "name": "stdout",
     "output_type": "stream",
     "text": [
      "Min = 5.0\n"
     ]
    }
   ],
   "source": [
    "a = float(input('A = '))\n",
    "b = float(input('B = '))\n",
    "c = float(input('C = '))\n",
    "min = a\n",
    "\n",
    "if min > b:\n",
    "    min = b\n",
    "\n",
    "if min > c:\n",
    "    min = c\n",
    "\n",
    "print(f'Min = {min}')\n",
    "\n"
   ]
  },
  {
   "cell_type": "code",
   "execution_count": 15,
   "metadata": {},
   "outputs": [
    {
     "name": "stdout",
     "output_type": "stream",
     "text": [
      "C = 7.0\n"
     ]
    }
   ],
   "source": [
    "a = float(input('A = '))\n",
    "b = float(input('B = '))\n",
    "c = float(input('C = '))\n",
    "\n",
    "if a > b and a < c:\n",
    "    print(f'A = {a}')\n",
    "\n",
    "if b > a and b < c:\n",
    "    print(f'B = {b}')\n",
    "\n",
    "if c > a and c < b:\n",
    "    print(f'C = { c}')\n",
    "\n"
   ]
  },
  {
   "cell_type": "code",
   "execution_count": 20,
   "metadata": {},
   "outputs": [
    {
     "name": "stdout",
     "output_type": "stream",
     "text": [
      "Min = 111.0\n",
      "Max = 234.0\n"
     ]
    }
   ],
   "source": [
    "a = float(input('A = '))\n",
    "b = float(input('B = '))\n",
    "c = float(input('C = '))\n",
    "\n",
    "min = a\n",
    "max = a\n",
    "\n",
    "if min > b:\n",
    "    min = b\n",
    "\n",
    "if min > c:\n",
    "    min = c\n",
    "\n",
    "if max < b:\n",
    "    max = b\n",
    "\n",
    "if max < c:\n",
    "    max = c\n",
    "\n",
    "print(f'Min = {min}')\n",
    "print(f'Max = {max}')\n"
   ]
  },
  {
   "cell_type": "code",
   "execution_count": 42,
   "metadata": {},
   "outputs": [
    {
     "name": "stdout",
     "output_type": "stream",
     "text": [
      "Result = 35.0\n"
     ]
    }
   ],
   "source": [
    "a = float(input('A = '))\n",
    "b = float(input('B = '))\n",
    "c = float(input('C = '))\n",
    "\n",
    "sum = a + b + c\n",
    "result = 0\n",
    "min = a\n",
    "\n",
    "\n",
    "if min > b:\n",
    "    min = b\n",
    "\n",
    "if min > c:\n",
    "    min = c\n",
    "\n",
    "result = sum - min\n",
    "\n",
    "print(f'Result = {result}')"
   ]
  },
  {
   "cell_type": "code",
   "execution_count": 47,
   "metadata": {},
   "outputs": [
    {
     "ename": "KeyboardInterrupt",
     "evalue": "Interrupted by user",
     "output_type": "error",
     "traceback": [
      "\u001b[1;31m---------------------------------------------------------------------------\u001b[0m",
      "\u001b[1;31mKeyboardInterrupt\u001b[0m                         Traceback (most recent call last)",
      "Cell \u001b[1;32mIn[47], line 1\u001b[0m\n\u001b[1;32m----> 1\u001b[0m a \u001b[39m=\u001b[39m \u001b[39mfloat\u001b[39m(\u001b[39minput\u001b[39;49m(\u001b[39m'\u001b[39;49m\u001b[39mA = \u001b[39;49m\u001b[39m'\u001b[39;49m))\n\u001b[0;32m      2\u001b[0m b \u001b[39m=\u001b[39m \u001b[39mfloat\u001b[39m(\u001b[39minput\u001b[39m(\u001b[39m'\u001b[39m\u001b[39mB = \u001b[39m\u001b[39m'\u001b[39m))\n\u001b[0;32m      3\u001b[0m c \u001b[39m=\u001b[39m \u001b[39mfloat\u001b[39m(\u001b[39minput\u001b[39m(\u001b[39m'\u001b[39m\u001b[39mC = \u001b[39m\u001b[39m'\u001b[39m))\n",
      "File \u001b[1;32m~\\AppData\\Roaming\\Python\\Python311\\site-packages\\ipykernel\\kernelbase.py:1177\u001b[0m, in \u001b[0;36mKernel.raw_input\u001b[1;34m(self, prompt)\u001b[0m\n\u001b[0;32m   1173\u001b[0m \u001b[39mif\u001b[39;00m \u001b[39mnot\u001b[39;00m \u001b[39mself\u001b[39m\u001b[39m.\u001b[39m_allow_stdin:\n\u001b[0;32m   1174\u001b[0m     \u001b[39mraise\u001b[39;00m StdinNotImplementedError(\n\u001b[0;32m   1175\u001b[0m         \u001b[39m\"\u001b[39m\u001b[39mraw_input was called, but this frontend does not support input requests.\u001b[39m\u001b[39m\"\u001b[39m\n\u001b[0;32m   1176\u001b[0m     )\n\u001b[1;32m-> 1177\u001b[0m \u001b[39mreturn\u001b[39;00m \u001b[39mself\u001b[39;49m\u001b[39m.\u001b[39;49m_input_request(\n\u001b[0;32m   1178\u001b[0m     \u001b[39mstr\u001b[39;49m(prompt),\n\u001b[0;32m   1179\u001b[0m     \u001b[39mself\u001b[39;49m\u001b[39m.\u001b[39;49m_parent_ident[\u001b[39m\"\u001b[39;49m\u001b[39mshell\u001b[39;49m\u001b[39m\"\u001b[39;49m],\n\u001b[0;32m   1180\u001b[0m     \u001b[39mself\u001b[39;49m\u001b[39m.\u001b[39;49mget_parent(\u001b[39m\"\u001b[39;49m\u001b[39mshell\u001b[39;49m\u001b[39m\"\u001b[39;49m),\n\u001b[0;32m   1181\u001b[0m     password\u001b[39m=\u001b[39;49m\u001b[39mFalse\u001b[39;49;00m,\n\u001b[0;32m   1182\u001b[0m )\n",
      "File \u001b[1;32m~\\AppData\\Roaming\\Python\\Python311\\site-packages\\ipykernel\\kernelbase.py:1219\u001b[0m, in \u001b[0;36mKernel._input_request\u001b[1;34m(self, prompt, ident, parent, password)\u001b[0m\n\u001b[0;32m   1216\u001b[0m             \u001b[39mbreak\u001b[39;00m\n\u001b[0;32m   1217\u001b[0m \u001b[39mexcept\u001b[39;00m \u001b[39mKeyboardInterrupt\u001b[39;00m:\n\u001b[0;32m   1218\u001b[0m     \u001b[39m# re-raise KeyboardInterrupt, to truncate traceback\u001b[39;00m\n\u001b[1;32m-> 1219\u001b[0m     \u001b[39mraise\u001b[39;00m \u001b[39mKeyboardInterrupt\u001b[39;00m(\u001b[39m\"\u001b[39m\u001b[39mInterrupted by user\u001b[39m\u001b[39m\"\u001b[39m) \u001b[39mfrom\u001b[39;00m \u001b[39mNone\u001b[39m\n\u001b[0;32m   1220\u001b[0m \u001b[39mexcept\u001b[39;00m \u001b[39mException\u001b[39;00m:\n\u001b[0;32m   1221\u001b[0m     \u001b[39mself\u001b[39m\u001b[39m.\u001b[39mlog\u001b[39m.\u001b[39mwarning(\u001b[39m\"\u001b[39m\u001b[39mInvalid Message:\u001b[39m\u001b[39m\"\u001b[39m, exc_info\u001b[39m=\u001b[39m\u001b[39mTrue\u001b[39;00m)\n",
      "\u001b[1;31mKeyboardInterrupt\u001b[0m: Interrupted by user"
     ]
    }
   ],
   "source": [
    "a = float(input('A = '))\n",
    "b = float(input('B = '))\n",
    "c = float(input('C = '))\n",
    "\n",
    "if a < b < c:\n",
    "    a = 2 * a\n",
    "    b = 2 * b\n",
    "    c = 2 * c\n",
    "else:\n",
    "    a = -a\n",
    "    b = -b\n",
    "    c = -c\n",
    "\n",
    "print(f'A = {a}')\n",
    "print(f'B = {b}')\n",
    "print(f'C = {c}')"
   ]
  },
  {
   "cell_type": "code",
   "execution_count": 50,
   "metadata": {},
   "outputs": [
    {
     "name": "stdout",
     "output_type": "stream",
     "text": [
      "A = -3.0\n",
      "B = -7.0\n",
      "C = -5.0\n"
     ]
    }
   ],
   "source": [
    "a = float(input('A = '))\n",
    "b = float(input('B = '))\n",
    "c = float(input('C = '))\n",
    "\n",
    "if a < b < c or a > b > c:\n",
    "    a = 2 * a\n",
    "    b = 2 * b\n",
    "    c = 2 * c\n",
    "else:\n",
    "    a = -a\n",
    "    b = -b\n",
    "    c = -c\n",
    "\n",
    "print(f'A = {a}')\n",
    "print(f'B = {b}')\n",
    "print(f'C = {c}')"
   ]
  },
  {
   "cell_type": "code",
   "execution_count": 55,
   "metadata": {},
   "outputs": [
    {
     "name": "stdout",
     "output_type": "stream",
     "text": [
      "Position = 3\n"
     ]
    }
   ],
   "source": [
    "a = float(input('A = '))\n",
    "b = float(input('B = '))\n",
    "c = float(input('C = '))\n",
    "position = 1\n",
    "\n",
    "if a == b:\n",
    "    position = 3\n",
    "\n",
    "elif c == a:\n",
    "    position = 2\n",
    "\n",
    "print(f'Position = {position}')\n"
   ]
  },
  {
   "cell_type": "code",
   "execution_count": 4,
   "metadata": {},
   "outputs": [
    {
     "name": "stdout",
     "output_type": "stream",
     "text": [
      "Position = 1\n"
     ]
    }
   ],
   "source": [
    "a = float(input('A = '))\n",
    "b = float(input('B = '))\n",
    "c = float(input('C = '))\n",
    "d = float(input('D = '))\n",
    "position = 1\n",
    "\n",
    "if b == c == d:\n",
    "    position = 1\n",
    "\n",
    "if a == c == d:\n",
    "    position = 2\n",
    "\n",
    "if a == b == d:\n",
    "    position = 3\n",
    "\n",
    "if a == b == c:\n",
    "    position = 4\n",
    "\n",
    "print(f'Position = {position}')\n"
   ]
  },
  {
   "cell_type": "code",
   "execution_count": 11,
   "metadata": {},
   "outputs": [
    {
     "name": "stdout",
     "output_type": "stream",
     "text": [
      "Nearest number = 4.0\n",
      "Result = 1.0\n"
     ]
    }
   ],
   "source": [
    "a = float(input('A = '))\n",
    "b = float(input('B = '))\n",
    "c = float(input('C = '))\n",
    "nearest = 0\n",
    "result = 0\n",
    "\n",
    "if abs(a - b) < abs(a - c):\n",
    "    nearest = b\n",
    "else:\n",
    "    nearest = c\n",
    "\n",
    "result = abs(a - nearest)\n",
    "\n",
    "print(f'Nearest number = {nearest}')\n",
    "print(f'Result = {result}')\n"
   ]
  },
  {
   "cell_type": "code",
   "execution_count": 19,
   "metadata": {},
   "outputs": [
    {
     "name": "stdout",
     "output_type": "stream",
     "text": [
      "Result = 0\n"
     ]
    }
   ],
   "source": [
    "x = int(input('X = '))\n",
    "y = int(input('Y = '))\n",
    "result = 0\n",
    "\n",
    "if x == 0 and y == 0:\n",
    "    result = 0\n",
    "\n",
    "if x != 0 and y == 0:\n",
    "    result = 1\n",
    "\n",
    "if x == 0 and y != 0:\n",
    "    result = 2\n",
    "\n",
    "if x != 0 and y != 0:\n",
    "    result = 3\n",
    "\n",
    "print(f'Result = {result}')"
   ]
  },
  {
   "cell_type": "code",
   "execution_count": 25,
   "metadata": {},
   "outputs": [
    {
     "name": "stdout",
     "output_type": "stream",
     "text": [
      "Quarter = 1\n"
     ]
    }
   ],
   "source": [
    "x = int(input('X = '))\n",
    "y = int(input('Y = '))\n",
    "quarter = 0\n",
    "\n",
    "if x > 0 and y > 0:\n",
    "    quarter = 1\n",
    "\n",
    "elif x < 0 and y > 0:\n",
    "    quarter = 2\n",
    "\n",
    "elif x < 0 and y < 0:\n",
    "    quarter = 3\n",
    "\n",
    "else:\n",
    "    quarter = 4\n",
    "\n",
    "print(f'Quarter = {quarter}')\n"
   ]
  },
  {
   "cell_type": "code",
   "execution_count": null,
   "metadata": {},
   "outputs": [],
   "source": []
  }
 ],
 "metadata": {
  "kernelspec": {
   "display_name": "Python 3",
   "language": "python",
   "name": "python3"
  },
  "language_info": {
   "codemirror_mode": {
    "name": "ipython",
    "version": 3
   },
   "file_extension": ".py",
   "mimetype": "text/x-python",
   "name": "python",
   "nbconvert_exporter": "python",
   "pygments_lexer": "ipython3",
   "version": "3.11.0 (main, Oct 24 2022, 18:26:48) [MSC v.1933 64 bit (AMD64)]"
  },
  "orig_nbformat": 4,
  "vscode": {
   "interpreter": {
    "hash": "5238573367df39f7286bb46f9ff5f08f63a01a80960060ce41e3c79b190280fa"
   }
  }
 },
 "nbformat": 4,
 "nbformat_minor": 2
}
